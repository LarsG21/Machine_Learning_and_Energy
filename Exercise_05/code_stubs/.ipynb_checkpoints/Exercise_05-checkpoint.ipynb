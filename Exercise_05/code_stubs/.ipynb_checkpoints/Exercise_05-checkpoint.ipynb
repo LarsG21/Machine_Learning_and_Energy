{
 "metadata": {
  "language_info": {
   "codemirror_mode": {
    "name": "ipython",
    "version": 3
   },
   "file_extension": ".py",
   "mimetype": "text/x-python",
   "name": "python",
   "nbconvert_exporter": "python",
   "pygments_lexer": "ipython3",
   "version": "3.8.3-final"
  },
  "orig_nbformat": 2,
  "kernelspec": {
   "name": "python3",
   "display_name": "Python 3",
   "language": "python"
  }
 },
 "nbformat": 4,
 "nbformat_minor": 2,
 "cells": [
  {
   "source": [
    "# Machine Learning & Energy WS 20/21\n",
    "## Exercise 5 - Introduction to automatic differentiation and deep learning"
   ],
   "cell_type": "markdown",
   "metadata": {}
  },
  {
   "cell_type": "code",
   "execution_count": 7,
   "metadata": {},
   "outputs": [
    {
     "output_type": "stream",
     "name": "stdout",
     "text": [
      "The autoreload extension is already loaded. To reload it, use:\n  %reload_ext autoreload\n"
     ]
    }
   ],
   "source": [
    "%load_ext autoreload\n",
    "%autoreload 2"
   ]
  },
  {
   "source": [
    "In this week's exercise we'll have a look at automatic differentiation, which is a key enabler of modern deep learning.\n",
    "We'll first learn what a computation graph is and how we can perform backpropagation on them.\n",
    "Next, we'll use tensorflow to automate backpropagation, and, at last, we'll build our own neural network."
   ],
   "cell_type": "markdown",
   "metadata": {}
  },
  {
   "source": [
    "## 1. Computation graph\n",
    "\n",
    "Let's consider the following function:\n",
    "$$\n",
    "f(x,y,z) = z(x+y).\n",
    "$$\n",
    "\n",
    "As we can see, $f: \\mathbb{R}^3 \\rightarrow \\mathbb{R}$ is composed of two operations, a sum and a multiplication.\n",
    "The computation graph of $f$ is given below:\n",
    "\n",
    "<br>\n",
    "<div style=\"text-align:center\">\n",
    "    <img src=\"images/compGraph.jpeg\" width=500>\n",
    "\n",
    "In a computation graph, operations are represented as nodes, also called gates, while arrows represent input variables and intermediate values.\n",
    "For example, assuming $x=-1$, $y=2$ and $z=5$, we can apply each operand to its respective gate to obtain the value of $f$:  \n",
    "\n",
    "<br>\n",
    "<div style=\"text-align:center\">\n",
    "    <img src=\"images/compGraph2.jpeg\" width=500>\n",
    "\n",
    "The above procedure is called *forward pass* (some people prefer the term \"propagation\" instead of \"pass\"), and it's just the application of mathematical operators over scalars (or vectors).\n",
    "However, the real purpose of using computation graphs is to systematize the differentiation process, also called *backward pass*. \n",
    "We'll demostrate this by calculating the partial derivative of $f$ in relation to $x$, $y$ and $z$.\n",
    "By defining $q(x,y) = x+y$, we have the following:\n",
    "\n",
    "$$\n",
    "\\frac{\\partial f}{\\partial q} = z, \\ \\frac{\\partial f}{\\partial z} = q, \\ \\frac{\\partial q}{\\partial x} = 1, \\  \\frac{\\partial q}{\\partial y} = 1. \n",
    "$$\n",
    "\n",
    "We can then calculate $\\frac{\\partial f}{\\partial x}$ and $\\frac{\\partial f}{\\partial y}$ by applying the chain rule, i.e.\n",
    "\n",
    "$$\n",
    "\\frac{\\partial f}{\\partial x} = \\frac{\\partial f}{\\partial q}\\frac{\\partial q}{\\partial x} = z, \\ \\frac{\\partial f}{\\partial y} = \\frac{\\partial f}{\\partial q}\\frac{\\partial q}{\\partial y} = z.\n",
    "$$\n",
    "\n",
    "In the computation graph, we can break each step of the differentiation into atomic operations, like swap (when differentiating multiplication), or propagate (when differentiating sum):\n",
    "\n",
    "<br>\n",
    "<div style=\"text-align:center\">\n",
    "    <img src=\"images/compGraph3.jpeg\" width=500>\n"
   ],
   "cell_type": "markdown",
   "metadata": {}
  },
  {
   "source": [
    "a) Now, we are going to code ourselves what we just saw. \n",
    "In the module ``gates.py`` we created a class for both sum and multiplication gates.\n",
    "Complete the function ``forward()`` in both classes, which should output the forward pass result of the correspondent gate.\n",
    "Run the cell below to check your code."
   ],
   "cell_type": "markdown",
   "metadata": {}
  },
  {
   "cell_type": "code",
   "execution_count": 8,
   "metadata": {},
   "outputs": [
    {
     "output_type": "stream",
     "name": "stdout",
     "text": [
      "Value: -12\nExpected value: -12\n"
     ]
    }
   ],
   "source": [
    "from gates import MultiplyGate, SumGate, SigmoidGate\n",
    "\n",
    "# operands\n",
    "x = -2\n",
    "y = 5\n",
    "z = -4\n",
    "\n",
    "# instantiate gates\n",
    "multGate = MultiplyGate()\n",
    "sumGate = SumGate()\n",
    "\n",
    "# perform forward pass\n",
    "q = sumGate.forward(x,y)\n",
    "f = multGate.forward(q,z)\n",
    "\n",
    "print(f\"Value: {f}\")\n",
    "print(f\"Expected value: -12\")"
   ]
  },
  {
   "source": [
    "b) Complete the function ``backward()`` in both classes, which should output the backward pass result of the correspondent gate.\n",
    "Run the cell below to check your code."
   ],
   "cell_type": "markdown",
   "metadata": {}
  },
  {
   "cell_type": "code",
   "execution_count": 9,
   "metadata": {},
   "outputs": [
    {
     "output_type": "stream",
     "name": "stdout",
     "text": [
      "Value: (-4, -4, 3)\nExpected value: (-4, -4, 3)\n"
     ]
    }
   ],
   "source": [
    "# df/df is always 1\n",
    "df = 1\n",
    "\n",
    "# perform backward pass\n",
    "[dfdq, dfdz] = multGate.backward(df)\n",
    "[dfdx, dfdy] = sumGate.backward(dfdq)\n",
    "\n",
    "print(f\"Value: {dfdx, dfdy, dfdz}\")\n",
    "print(f\"Expected value: (-4, -4, 3)\")"
   ]
  },
  {
   "source": [
    "c) Now let's try our \"API\" on something different.\n",
    "First, draw the computation graph of $g(x,w,b) = \\sigma(wx + b)$."
   ],
   "cell_type": "markdown",
   "metadata": {}
  },
  {
   "source": [
    "d) Complete the function ``forward()`` of ``SigmoidGate`` and check your implementation by running the cell below."
   ],
   "cell_type": "markdown",
   "metadata": {}
  },
  {
   "cell_type": "code",
   "execution_count": 10,
   "metadata": {},
   "outputs": [
    {
     "output_type": "stream",
     "name": "stdout",
     "text": [
      "Value: 0.14185106490048782\nExpected value: 0.14185106490048782\n"
     ]
    }
   ],
   "source": [
    "import numpy as np\n",
    "\n",
    "x = -1.2\n",
    "w = 1.5\n",
    "b = 0\n",
    "\n",
    "# instantiate gates\n",
    "multGate = MultiplyGate()\n",
    "sumGate = SumGate()\n",
    "sigmoidGate = SigmoidGate()\n",
    "\n",
    "# perform forward pass\n",
    "q = multGate.forward(x,w)\n",
    "v = sumGate.forward(q,b)\n",
    "g = sigmoidGate.forward(v)\n",
    "\n",
    "print(f\"Value: {g}\")\n",
    "print(f\"Expected value: 0.14185106490048782\")"
   ]
  },
  {
   "source": [
    "e) Complete the function ``backward()`` of ``SigmoidGate`` and check your implementation by running the cell below.\n",
    "#### Hint: remember that the derivative of the sigmoid function is $\\sigma^\\prime(z) = \\sigma(z)(1-\\sigma(z))$ ;)"
   ],
   "cell_type": "markdown",
   "metadata": {}
  },
  {
   "cell_type": "code",
   "execution_count": 11,
   "metadata": {},
   "outputs": [
    {
     "output_type": "stream",
     "name": "stdout",
     "text": [
      "Value: (0.18259401043062812, -0.1460752083445025, 0.12172934028708542)\nExpected value: (0.18259401043062812, -0.1460752083445025, 0.12172934028708542)\n"
     ]
    }
   ],
   "source": [
    "# dg/dg is always 1\n",
    "dg = 1\n",
    "\n",
    "# perform backward pass\n",
    "dgdv = sigmoidGate.backward(dg)\n",
    "[dgdq, dgdb] = sumGate.backward(dgdv)\n",
    "[dgdx, dgdw] = multGate.backward(dgdq)\n",
    "\n",
    "print(f\"Value: {dgdx, dgdw, dgdb}\")\n",
    "print(f\"Expected value: (0.18259401043062812, -0.1460752083445025, 0.12172934028708542)\")"
   ]
  },
  {
   "source": [
    "## 2. Auto differentiation and tensorflow\n",
    "\n",
    "Although it was easy to do the backward pass in the previous examples, in deep learning functions are generally much more complex.\n",
    "For our luck, several platforms already provide a full API (just a more polished version of what we implemented in the last section) for developing computation graphs and performing the backward pass efficiently.\n",
    "In the following section, we'll use tensorflow (https://www.tensorflow.org/) for building different computation graphs."
   ],
   "cell_type": "markdown",
   "metadata": {}
  },
  {
   "source": [
    "a) Run the cell below and compare the results with the ones from last section. Try to identify what each part of the code does. Why can't we use simple floats (or numpy arrays) as operands?"
   ],
   "cell_type": "markdown",
   "metadata": {}
  },
  {
   "cell_type": "code",
   "execution_count": 12,
   "metadata": {},
   "outputs": [
    {
     "output_type": "stream",
     "name": "stderr",
     "text": [
      "ERROR: Could not install packages due to an EnvironmentError: [WinError 5] Zugriff verweigert: 'C:\\\\Users\\\\Lars\\\\anaconda3\\\\Lib\\\\site-packages\\\\~umpy\\\\core\\\\_multiarray_tests.cp38-win_amd64.pyd'\n",
      "Consider using the `--user` option or check the permissions.\n",
      "\n",
      "Collecting tensorflow\n",
      "  Downloading tensorflow-2.4.0-cp38-cp38-win_amd64.whl (370.7 MB)\n",
      "Collecting opt-einsum~=3.3.0\n",
      "  Downloading opt_einsum-3.3.0-py3-none-any.whl (65 kB)\n",
      "Collecting google-pasta~=0.2\n",
      "  Downloading google_pasta-0.2.0-py3-none-any.whl (57 kB)\n",
      "Collecting gast==0.3.3\n",
      "  Downloading gast-0.3.3-py2.py3-none-any.whl (9.7 kB)\n",
      "Requirement already satisfied: six~=1.15.0 in c:\\users\\lars\\anaconda3\\lib\\site-packages (from tensorflow) (1.15.0)\n",
      "Requirement already satisfied: h5py~=2.10.0 in c:\\users\\lars\\anaconda3\\lib\\site-packages (from tensorflow) (2.10.0)\n",
      "Collecting grpcio~=1.32.0\n",
      "  Downloading grpcio-1.32.0-cp38-cp38-win_amd64.whl (2.6 MB)\n",
      "Collecting tensorboard~=2.4\n",
      "  Downloading tensorboard-2.4.0-py3-none-any.whl (10.6 MB)\n",
      "Collecting termcolor~=1.1.0\n",
      "  Downloading termcolor-1.1.0.tar.gz (3.9 kB)\n",
      "Collecting numpy~=1.19.2\n",
      "  Downloading numpy-1.19.4-cp38-cp38-win_amd64.whl (13.0 MB)\n",
      "Collecting astunparse~=1.6.3\n",
      "  Downloading astunparse-1.6.3-py2.py3-none-any.whl (12 kB)\n",
      "Collecting wheel~=0.35\n",
      "  Downloading wheel-0.36.2-py2.py3-none-any.whl (35 kB)\n",
      "Collecting wrapt~=1.12.1\n",
      "  Using cached wrapt-1.12.1.tar.gz (27 kB)\n",
      "Requirement already satisfied: typing-extensions~=3.7.4 in c:\\users\\lars\\anaconda3\\lib\\site-packages (from tensorflow) (3.7.4.2)\n",
      "Collecting absl-py~=0.10\n",
      "  Downloading absl_py-0.11.0-py3-none-any.whl (127 kB)\n",
      "Collecting protobuf>=3.9.2\n",
      "  Downloading protobuf-3.14.0-py2.py3-none-any.whl (173 kB)\n",
      "Collecting tensorflow-estimator<2.5.0,>=2.4.0rc0\n",
      "  Downloading tensorflow_estimator-2.4.0-py2.py3-none-any.whl (462 kB)\n",
      "Collecting flatbuffers~=1.12.0\n",
      "  Downloading flatbuffers-1.12-py2.py3-none-any.whl (15 kB)\n",
      "Collecting keras-preprocessing~=1.1.2\n",
      "  Downloading Keras_Preprocessing-1.1.2-py2.py3-none-any.whl (42 kB)\n",
      "Requirement already satisfied: requests<3,>=2.21.0 in c:\\users\\lars\\anaconda3\\lib\\site-packages (from tensorboard~=2.4->tensorflow) (2.24.0)\n",
      "Collecting markdown>=2.6.8\n",
      "  Downloading Markdown-3.3.3-py3-none-any.whl (96 kB)\n",
      "Requirement already satisfied: werkzeug>=0.11.15 in c:\\users\\lars\\anaconda3\\lib\\site-packages (from tensorboard~=2.4->tensorflow) (1.0.1)\n",
      "Collecting tensorboard-plugin-wit>=1.6.0\n",
      "  Downloading tensorboard_plugin_wit-1.7.0-py3-none-any.whl (779 kB)\n",
      "Requirement already satisfied: setuptools>=41.0.0 in c:\\users\\lars\\anaconda3\\lib\\site-packages (from tensorboard~=2.4->tensorflow) (49.2.0.post20200714)\n",
      "Collecting google-auth<2,>=1.6.3\n",
      "  Downloading google_auth-1.24.0-py2.py3-none-any.whl (114 kB)\n",
      "Collecting google-auth-oauthlib<0.5,>=0.4.1\n",
      "  Downloading google_auth_oauthlib-0.4.2-py2.py3-none-any.whl (18 kB)\n",
      "Requirement already satisfied: chardet<4,>=3.0.2 in c:\\users\\lars\\anaconda3\\lib\\site-packages (from requests<3,>=2.21.0->tensorboard~=2.4->tensorflow) (3.0.4)\n",
      "Requirement already satisfied: certifi>=2017.4.17 in c:\\users\\lars\\anaconda3\\lib\\site-packages (from requests<3,>=2.21.0->tensorboard~=2.4->tensorflow) (2020.6.20)\n",
      "Requirement already satisfied: urllib3!=1.25.0,!=1.25.1,<1.26,>=1.21.1 in c:\\users\\lars\\anaconda3\\lib\\site-packages (from requests<3,>=2.21.0->tensorboard~=2.4->tensorflow) (1.25.9)\n",
      "Requirement already satisfied: idna<3,>=2.5 in c:\\users\\lars\\anaconda3\\lib\\site-packages (from requests<3,>=2.21.0->tensorboard~=2.4->tensorflow) (2.10)\n",
      "Collecting pyasn1-modules>=0.2.1\n",
      "  Downloading pyasn1_modules-0.2.8-py2.py3-none-any.whl (155 kB)\n",
      "Collecting cachetools<5.0,>=2.0.0\n",
      "  Downloading cachetools-4.2.0-py3-none-any.whl (12 kB)\n",
      "Collecting rsa<5,>=3.1.4; python_version >= \"3.6\"\n",
      "  Downloading rsa-4.6-py3-none-any.whl (47 kB)\n",
      "Collecting requests-oauthlib>=0.7.0\n",
      "  Downloading requests_oauthlib-1.3.0-py2.py3-none-any.whl (23 kB)\n",
      "Collecting pyasn1<0.5.0,>=0.4.6\n",
      "  Downloading pyasn1-0.4.8-py2.py3-none-any.whl (77 kB)\n",
      "Collecting oauthlib>=3.0.0\n",
      "  Downloading oauthlib-3.1.0-py2.py3-none-any.whl (147 kB)\n",
      "Building wheels for collected packages: termcolor, wrapt\n",
      "  Building wheel for termcolor (setup.py): started\n",
      "  Building wheel for termcolor (setup.py): finished with status 'done'\n",
      "  Created wheel for termcolor: filename=termcolor-1.1.0-py3-none-any.whl size=4835 sha256=9b7c27fa6324cb1c5113eb660d6523a3b18c8224f93739e2cb9203eef4252564\n",
      "  Stored in directory: c:\\users\\lars\\appdata\\local\\pip\\cache\\wheels\\a0\\16\\9c\\5473df82468f958445479c59e784896fa24f4a5fc024b0f501\n",
      "  Building wheel for wrapt (setup.py): started\n",
      "  Building wheel for wrapt (setup.py): finished with status 'done'\n",
      "  Created wheel for wrapt: filename=wrapt-1.12.1-py3-none-any.whl size=19558 sha256=861e2be1f74936bb0ebab860e6bc8c22fd45f79c02637ab864bdc69eec4e79be\n",
      "  Stored in directory: c:\\users\\lars\\appdata\\local\\pip\\cache\\wheels\\5f\\fd\\9e\\b6cf5890494cb8ef0b5eaff72e5d55a70fb56316007d6dfe73\n",
      "Successfully built termcolor wrapt\n",
      "Installing collected packages: numpy, opt-einsum, google-pasta, gast, grpcio, wheel, markdown, tensorboard-plugin-wit, pyasn1, pyasn1-modules, cachetools, rsa, google-auth, oauthlib, requests-oauthlib, google-auth-oauthlib, protobuf, absl-py, tensorboard, termcolor, astunparse, wrapt, tensorflow-estimator, flatbuffers, keras-preprocessing, tensorflow\n",
      "  Attempting uninstall: numpy\n",
      "    Found existing installation: numpy 1.18.5\n",
      "    Uninstalling numpy-1.18.5:\n",
      "      Successfully uninstalled numpy-1.18.5\n",
      "Collecting tensorflow\n",
      "  Downloading tensorflow-2.4.0-cp38-cp38-win_amd64.whl (370.7 MB)\n",
      "Collecting wheel~=0.35\n",
      "  Using cached wheel-0.36.2-py2.py3-none-any.whl (35 kB)\n",
      "Collecting keras-preprocessing~=1.1.2\n",
      "  Using cached Keras_Preprocessing-1.1.2-py2.py3-none-any.whl (42 kB)\n",
      "Collecting opt-einsum~=3.3.0\n",
      "  Using cached opt_einsum-3.3.0-py3-none-any.whl (65 kB)\n",
      "Requirement already satisfied: h5py~=2.10.0 in c:\\users\\lars\\anaconda3\\lib\\site-packages (from tensorflow) (2.10.0)\n",
      "Collecting astunparse~=1.6.3\n",
      "  Using cached astunparse-1.6.3-py2.py3-none-any.whl (12 kB)\n",
      "Collecting protobuf>=3.9.2\n",
      "  Using cached protobuf-3.14.0-py2.py3-none-any.whl (173 kB)\n",
      "Requirement already satisfied: six~=1.15.0 in c:\\users\\lars\\anaconda3\\lib\\site-packages (from tensorflow) (1.15.0)\n",
      "Processing c:\\users\\lars\\appdata\\local\\pip\\cache\\wheels\\a0\\16\\9c\\5473df82468f958445479c59e784896fa24f4a5fc024b0f501\\termcolor-1.1.0-py3-none-any.whl\n",
      "Collecting tensorflow-estimator<2.5.0,>=2.4.0rc0\n",
      "  Using cached tensorflow_estimator-2.4.0-py2.py3-none-any.whl (462 kB)\n",
      "Collecting grpcio~=1.32.0\n",
      "  Using cached grpcio-1.32.0-cp38-cp38-win_amd64.whl (2.6 MB)\n",
      "Processing c:\\users\\lars\\appdata\\local\\pip\\cache\\wheels\\5f\\fd\\9e\\b6cf5890494cb8ef0b5eaff72e5d55a70fb56316007d6dfe73\\wrapt-1.12.1-py3-none-any.whl\n",
      "Collecting flatbuffers~=1.12.0\n",
      "  Using cached flatbuffers-1.12-py2.py3-none-any.whl (15 kB)\n",
      "Requirement already satisfied: typing-extensions~=3.7.4 in c:\\users\\lars\\anaconda3\\lib\\site-packages (from tensorflow) (3.7.4.2)\n",
      "Collecting gast==0.3.3\n",
      "  Using cached gast-0.3.3-py2.py3-none-any.whl (9.7 kB)\n",
      "Collecting tensorboard~=2.4\n",
      "  Using cached tensorboard-2.4.0-py3-none-any.whl (10.6 MB)\n",
      "Collecting absl-py~=0.10\n",
      "  Using cached absl_py-0.11.0-py3-none-any.whl (127 kB)\n",
      "Collecting google-pasta~=0.2\n",
      "  Using cached google_pasta-0.2.0-py3-none-any.whl (57 kB)\n",
      "Collecting numpy~=1.19.2\n",
      "  Using cached numpy-1.19.4-cp38-cp38-win_amd64.whl (13.0 MB)\n",
      "Requirement already satisfied: werkzeug>=0.11.15 in c:\\users\\lars\\anaconda3\\lib\\site-packages (from tensorboard~=2.4->tensorflow) (1.0.1)\n",
      "Collecting google-auth-oauthlib<0.5,>=0.4.1\n",
      "  Using cached google_auth_oauthlib-0.4.2-py2.py3-none-any.whl (18 kB)\n",
      "Collecting tensorboard-plugin-wit>=1.6.0\n",
      "  Using cached tensorboard_plugin_wit-1.7.0-py3-none-any.whl (779 kB)\n",
      "Collecting google-auth<2,>=1.6.3\n",
      "  Using cached google_auth-1.24.0-py2.py3-none-any.whl (114 kB)\n",
      "Collecting markdown>=2.6.8\n",
      "  Using cached Markdown-3.3.3-py3-none-any.whl (96 kB)\n",
      "Requirement already satisfied: requests<3,>=2.21.0 in c:\\users\\lars\\anaconda3\\lib\\site-packages (from tensorboard~=2.4->tensorflow) (2.24.0)\n",
      "Requirement already satisfied: setuptools>=41.0.0 in c:\\users\\lars\\anaconda3\\lib\\site-packages (from tensorboard~=2.4->tensorflow) (49.2.0.post20200714)\n",
      "Collecting requests-oauthlib>=0.7.0\n",
      "  Using cached requests_oauthlib-1.3.0-py2.py3-none-any.whl (23 kB)\n",
      "Collecting pyasn1-modules>=0.2.1\n",
      "  Using cached pyasn1_modules-0.2.8-py2.py3-none-any.whl (155 kB)\n",
      "Collecting rsa<5,>=3.1.4; python_version >= \"3.6\"\n",
      "  Using cached rsa-4.6-py3-none-any.whl (47 kB)\n",
      "Collecting cachetools<5.0,>=2.0.0\n",
      "  Using cached cachetools-4.2.0-py3-none-any.whl (12 kB)\n",
      "Requirement already satisfied: idna<3,>=2.5 in c:\\users\\lars\\anaconda3\\lib\\site-packages (from requests<3,>=2.21.0->tensorboard~=2.4->tensorflow) (2.10)\n",
      "Requirement already satisfied: certifi>=2017.4.17 in c:\\users\\lars\\anaconda3\\lib\\site-packages (from requests<3,>=2.21.0->tensorboard~=2.4->tensorflow) (2020.6.20)\n",
      "Requirement already satisfied: urllib3!=1.25.0,!=1.25.1,<1.26,>=1.21.1 in c:\\users\\lars\\anaconda3\\lib\\site-packages (from requests<3,>=2.21.0->tensorboard~=2.4->tensorflow) (1.25.9)\n",
      "Requirement already satisfied: chardet<4,>=3.0.2 in c:\\users\\lars\\anaconda3\\lib\\site-packages (from requests<3,>=2.21.0->tensorboard~=2.4->tensorflow) (3.0.4)\n",
      "Collecting oauthlib>=3.0.0\n",
      "  Using cached oauthlib-3.1.0-py2.py3-none-any.whl (147 kB)\n",
      "Collecting pyasn1<0.5.0,>=0.4.6\n",
      "  Using cached pyasn1-0.4.8-py2.py3-none-any.whl (77 kB)\n",
      "Installing collected packages: wheel, numpy, keras-preprocessing, opt-einsum, astunparse, protobuf, termcolor, tensorflow-estimator, grpcio, wrapt, flatbuffers, gast, pyasn1, pyasn1-modules, rsa, cachetools, google-auth, oauthlib, requests-oauthlib, google-auth-oauthlib, tensorboard-plugin-wit, markdown, absl-py, tensorboard, google-pasta, tensorflow\n",
      "  Attempting uninstall: wheel\n",
      "    Found existing installation: wheel 0.34.2\n",
      "    Uninstalling wheel-0.34.2:\n",
      "      Successfully uninstalled wheel-0.34.2\n",
      "  Attempting uninstall: numpy\n",
      "    Found existing installation: numpy 1.18.5\n",
      "    Can't uninstall 'numpy'. No files were found to uninstall.\n",
      "  Attempting uninstall: wrapt\n",
      "    Found existing installation: wrapt 1.11.2\n",
      "    Uninstalling wrapt-1.11.2:\n",
      "      Successfully uninstalled wrapt-1.11.2\n",
      "Successfully installed absl-py-0.11.0 astunparse-1.6.3 cachetools-4.2.0 flatbuffers-1.12 gast-0.3.3 google-auth-1.24.0 google-auth-oauthlib-0.4.2 google-pasta-0.2.0 grpcio-1.32.0 keras-preprocessing-1.1.2 markdown-3.3.3 numpy-1.19.4 oauthlib-3.1.0 opt-einsum-3.3.0 protobuf-3.14.0 pyasn1-0.4.8 pyasn1-modules-0.2.8 requests-oauthlib-1.3.0 rsa-4.6 tensorboard-2.4.0 tensorboard-plugin-wit-1.7.0 tensorflow-2.4.0 tensorflow-estimator-2.4.0 termcolor-1.1.0 wheel-0.36.2 wrapt-1.12.1\n",
      "Value: (0.182594, -0.1460752, 0.12172933)\n",
      "Expected value: (0.18259401043062812, -0.1460752083445025, 0.12172934028708542)\n"
     ]
    }
   ],
   "source": [
    "!pip install tensorflow\n",
    "import tensorflow as tf \n",
    "import numpy as np\n",
    "\n",
    "def sigmoid(z):\n",
    "        return 1./(1 + tf.math.exp(-z))\n",
    "\n",
    "# initializing tensorflow variables\n",
    "x = tf.Variable(-1.2)\n",
    "w = tf.Variable(1.5)\n",
    "b = tf.Variable(0.0)\n",
    "\n",
    "# record all operations inside this block\n",
    "with tf.GradientTape(persistent=True) as grad:\n",
    "    q = w * x\n",
    "    v = q + b\n",
    "    g = sigmoid(v)\n",
    "\n",
    "# retrieve gradients\n",
    "dgdx = grad.gradient(g, x)\n",
    "dgdw = grad.gradient(g, w)\n",
    "dgdb = grad.gradient(g, b)\n",
    "\n",
    "# Drop the reference to the tape\n",
    "del grad  \n",
    "\n",
    "print(f\"Value: {dgdx.numpy(), dgdw.numpy(), dgdb.numpy()}\")\n",
    "print(f\"Expected value: (0.18259401043062812, -0.1460752083445025, 0.12172934028708542)\")"
   ]
  },
  {
   "source": [
    "b) Now it's your turn! \n",
    "Given the following function \n",
    "\n",
    "$$\n",
    "f(\\mathbf{x}) = \\frac{{\\rm e}^{\\mathbf{x}^T\\mathbf{w_0}}}{{\\rm e}^{\\mathbf{x}^T\\mathbf{w_0}} + {\\rm e}^{\\mathbf{x}^T\\mathbf{w_1}}},\n",
    "$$\n",
    "\n",
    "calculate the gradients $\\frac{\\partial f}{\\partial w_0}$ and $\\frac{\\partial f}{\\partial w_1}$ using backward pass. \n",
    "\n",
    "We already provided to you the values for the operands. \n",
    "In tensorflow's Python API, operators such as ``+``, ``-``, ``*``, and ``@`` are overloaded, i.e. when applying them over tensors, tensorflow functions are called instead of Python's default ones.\n",
    "Also, to transpose a tensorflow variable, use ``tf.transpose()``."
   ],
   "cell_type": "markdown",
   "metadata": {}
  },
  {
   "cell_type": "code",
   "execution_count": 13,
   "metadata": {},
   "outputs": [
    {
     "output_type": "error",
     "ename": "TypeError",
     "evalue": "_array2string_dispatcher() missing 1 required keyword-only argument: 'legacy'",
     "traceback": [
      "\u001b[1;31m---------------------------------------------------------------------------\u001b[0m",
      "\u001b[1;31mTypeError\u001b[0m                                 Traceback (most recent call last)",
      "\u001b[1;32m<ipython-input-13-38bed6bc9297>\u001b[0m in \u001b[0;36m<module>\u001b[1;34m\u001b[0m\n\u001b[0;32m     22\u001b[0m \u001b[1;32mdel\u001b[0m \u001b[0mgrad\u001b[0m\u001b[1;33m\u001b[0m\u001b[1;33m\u001b[0m\u001b[0m\n\u001b[0;32m     23\u001b[0m \u001b[1;33m\u001b[0m\u001b[0m\n\u001b[1;32m---> 24\u001b[1;33m \u001b[0mprint\u001b[0m\u001b[1;33m(\u001b[0m\u001b[1;34mf\"Value: ({np.array2string(dfdw0.numpy().flatten())}, {np.array2string(dfdw1.numpy().flatten())})\"\u001b[0m\u001b[1;33m)\u001b[0m\u001b[1;33m\u001b[0m\u001b[1;33m\u001b[0m\u001b[0m\n\u001b[0m\u001b[0;32m     25\u001b[0m \u001b[0mprint\u001b[0m\u001b[1;33m(\u001b[0m\u001b[1;34mf\"Expected value: ([ 0.45       -0.03069735], [-0.45        0.03069737])\"\u001b[0m\u001b[1;33m)\u001b[0m\u001b[1;33m\u001b[0m\u001b[1;33m\u001b[0m\u001b[0m\n",
      "\u001b[1;32m<__array_function__ internals>\u001b[0m in \u001b[0;36marray2string\u001b[1;34m(*args, **kwargs)\u001b[0m\n",
      "\u001b[1;31mTypeError\u001b[0m: _array2string_dispatcher() missing 1 required keyword-only argument: 'legacy'"
     ]
    }
   ],
   "source": [
    "# initializing tensorflow variables\n",
    "x = tf.Variable([[-1.2, 3]])\n",
    "w0 = tf.Variable([[1.5, -2]])\n",
    "w1 = tf.Variable([[1.5, 1]])\n",
    "\n",
    "# record all operations inside this block\n",
    "with tf.GradientTape(persistent=True) as grad:\n",
    "    # ----------- your code here\n",
    "    f = tf.exp(tf.transpose(x)*w0)/(tf.exp(tf.transpose(x)*w0)+tf.exp(tf.transpose(x)*w1))\n",
    "    # --------------------------\n",
    "\n",
    "\n",
    "# retrieve gradients\n",
    "# ----------- your code here\n",
    "dfdw0 = grad.gradient(f, w0)\n",
    "dfdw1 = grad.gradient(f, w1)\n",
    "\n",
    "\n",
    "# --------------------------\n",
    "\n",
    "# Drop the reference to the tape\n",
    "del grad  \n",
    "\n",
    "print(f\"Value: ({np.array2string(dfdw0.numpy().flatten())}, {np.array2string(dfdw1.numpy().flatten())})\")\n",
    "print(f\"Expected value: ([ 0.45       -0.03069735], [-0.45        0.03069737])\")"
   ]
  },
  {
   "source": [
    "## 3. Building our own neural network\n",
    "\n",
    "In this section we're going to build our very first neural network.\n",
    "But let's make things clear: *the graph-like representation of a neural network is not its computation graph!*\n",
    "Instead, it is just a visual aid that makes it easier to visualize the \"neurons\" and the interconnections of the neural network.\n",
    "<br>\n",
    "The output of a neuron in layer $l$ with sigmoid activation function is given by\n",
    "$$\n",
    "z_l = \\sigma(a_l),\n",
    "$$\n",
    "with\n",
    "$$\n",
    "a_{l} = z_{l-1}W_{l-1} + b_{l-1}\n",
    "$$\n",
    "where $a_{l}$ is the activation of layer $l$, $W_{l-1} \\in \\mathbb{R}^{N_{l-1} \\times N_{l}}$ the weight matrix connecting layers $l-1$ and $l$ with widths $N_{l-1}$ and $N_{l}$, respectively, and $b_{l-1}$ is the bias \"between\" layers $l-1$ and $l$. \n",
    "\n",
    "#### HINT: In the case of only one hidden layer, we have that the first layer is the input, the second is the hidden layer, and the third layer is the output. "
   ],
   "cell_type": "markdown",
   "metadata": {}
  },
  {
   "source": [
    "a) Complete the function ``forward()`` of ``NeuralNetwork`` in module ``neural_network.py`` and check your implementation by running the cell below."
   ],
   "cell_type": "markdown",
   "metadata": {}
  },
  {
   "cell_type": "code",
   "execution_count": 161,
   "metadata": {},
   "outputs": [
    {
     "output_type": "stream",
     "name": "stdout",
     "text": [
      "Value: [0.9824058  0.98190135 0.9857578 ]\nExpected value [0.9824058  0.98190135 0.9857578 ]\n"
     ]
    }
   ],
   "source": [
    "from neural_network import NeuralNetwork\n",
    "\n",
    "N_SAMPLES = 3\n",
    "N_FEATURES = 3\n",
    "N_HIDDEN_NEURONS = 2\n",
    "\n",
    "# fix seed for initializing variable\n",
    "np.random.seed(0)\n",
    "\n",
    "# initialize input with 3 features and 3 samples\n",
    "x = tf.Variable(np.random.normal(0,1,size=(N_SAMPLES,N_FEATURES)), dtype=float) \n",
    "\n",
    "# instantiate NN\n",
    "nn = NeuralNetwork(in_dim=N_FEATURES, out_dim=1, n_neurons=N_HIDDEN_NEURONS, rng=np.random.RandomState(0))\n",
    "\n",
    "# forward pass through NN\n",
    "y_hat = nn.forward(x)\n",
    "\n",
    "print(f\"Value: {tf.squeeze(y_hat)}\")\n",
    "print(\"Expected value [0.9824058  0.98190135 0.9857578 ]\")"
   ]
  },
  {
   "source": [
    "b) Complete the function ``loss()`` of ``NeuralNetwork``, which implements the cross-entropy function. Check your implementation by running the cell below."
   ],
   "cell_type": "markdown",
   "metadata": {}
  },
  {
   "cell_type": "code",
   "execution_count": 162,
   "metadata": {},
   "outputs": [
    {
     "output_type": "stream",
     "name": "stdout",
     "text": [
      "Value: \ndw1=[[ 0.00543636 -0.19838189]\n [-0.00086603  0.01373905]\n [-0.00059062 -0.00914227]], \ndw2=[2.8489807 2.4985223], \ndb1=[ 0.00572194 -0.18633503], \ndb2=2.850186586380005\n\nExpected value: \ndw1=[[ 0.00543636 -0.19838189]\n[-0.00086603  0.01373905]\n[-0.00059062 -0.00914227]],\ndw2=[2.8489807 2.4985223],\ndb1=[ 0.00572194 -0.18633503], \ndb2=2.850186586380005 \n     --------- Alles /3-------------\n"
     ]
    }
   ],
   "source": [
    "# target value\n",
    "y = tf.Variable([[1.],[0.], [1.]])\n",
    "\n",
    "# calculate loss \n",
    "with tf.GradientTape(persistent=True) as g:\n",
    "    y_hat = nn.forward(x)\n",
    "    loss = nn.loss(y_hat,y)\n",
    "\n",
    "# obtain gradients\n",
    "dLdw1 = g.gradient(loss, nn.w1)\n",
    "dLdw2 = g.gradient(loss, nn.w2)\n",
    "dLdb1 = g.gradient(loss, nn.b1)\n",
    "dLdb2 = g.gradient(loss, nn.b2) \n",
    "\n",
    "if (dLdw1 is not None) and (dLdw2 is not None) and (dLdb1 is not None) and (dLdb2 is not None):\n",
    "    print(f\"Value: \\ndw1={tf.squeeze(dLdw1)}, \\ndw2={tf.squeeze(dLdw2)}, \\ndb1={tf.squeeze(dLdb1)}, \\ndb2={tf.squeeze(dLdb2)}\")\n",
    "    print(f\"\\nExpected value: \\ndw1=[[ 0.00543636 -0.19838189]\\n[-0.00086603  0.01373905]\\n[-0.00059062 -0.00914227]],\\ndw2=[2.8489807 2.4985223],\\ndb1=[ 0.00572194 -0.18633503], \\ndb2=2.850186586380005 \\n     --------- Alles /3-------------\")\n",
    "else:\n",
    "    print(\"Something is wrong cause you're getting None as gradients :(\")"
   ]
  },
  {
   "source": [
    "c) Now, complete ``update()``, which performs gradient descent over the neural network's parameters. ``tf.assign_sub()`` subtracts the operand from the tensor calling the function."
   ],
   "cell_type": "markdown",
   "metadata": {}
  },
  {
   "cell_type": "code",
   "execution_count": 163,
   "metadata": {},
   "outputs": [
    {
     "output_type": "stream",
     "name": "stdout",
     "text": [
      "Value: \ndw1=[[ 8.814826  2.199168]\n [ 4.894556 11.190727]\n [ 9.33838  -4.877247]], \ndw2=[ 1.9014614 -3.2553084], \ndb1=[-0.00572194  0.18633503], \ndb2=-2.850186586380005\n\nExpected value: \ndw1=[[ 8.814826  2.199168]\n[ 4.894556 11.190727]\n [ 9.33838  -4.877247]],\ndw2=[ 1.9014614 -3.2553084],\ndb1=[-0.00572194  0.18633503], \ndb2=-2.850186586380005\n"
     ]
    }
   ],
   "source": [
    "# repeating code so re-run produces same result :)\n",
    "try:\n",
    "    g\n",
    "except:\n",
    "    nn.reset(np.random.RandomState(0))\n",
    "    with tf.GradientTape(persistent=True) as g:\n",
    "        y_hat = nn.forward(x)\n",
    "        loss = nn.loss(y_hat,y)\n",
    "\n",
    "nn.update(loss, g, lr=1)\n",
    "del g\n",
    "\n",
    "print(f\"Value: \\ndw1={tf.squeeze(nn.w1)}, \\ndw2={tf.squeeze(nn.w2)}, \\ndb1={tf.squeeze(nn.b1)}, \\ndb2={tf.squeeze(nn.b2)}\")\n",
    "print(f\"\\nExpected value: \\ndw1=[[ 8.814826  2.199168]\\n[ 4.894556 11.190727]\\n [ 9.33838  -4.877247]],\\ndw2=[ 1.9014614 -3.2553084],\\ndb1=[-0.00572194  0.18633503], \\ndb2=-2.850186586380005\")"
   ]
  },
  {
   "source": [
    "## 4. Training our neural network\n",
    "Finally we can train our neural network!\n",
    "We'll use a polynomial toy function with gaussian noise as our training set."
   ],
   "cell_type": "markdown",
   "metadata": {}
  },
  {
   "source": [
    "a) Run the cell below to generate the training dataset."
   ],
   "cell_type": "markdown",
   "metadata": {}
  },
  {
   "cell_type": "code",
   "execution_count": 164,
   "metadata": {},
   "outputs": [
    {
     "output_type": "display_data",
     "data": {
      "text/plain": "<Figure size 1080x504 with 1 Axes>",
      "image/svg+xml": "<?xml version=\"1.0\" encoding=\"utf-8\" standalone=\"no\"?>\r\n<!DOCTYPE svg PUBLIC \"-//W3C//DTD SVG 1.1//EN\"\r\n  \"http://www.w3.org/Graphics/SVG/1.1/DTD/svg11.dtd\">\r\n<!-- Created with matplotlib (https://matplotlib.org/) -->\r\n<svg height=\"411.598125pt\" version=\"1.1\" viewBox=\"0 0 889.045313 411.598125\" width=\"889.045313pt\" xmlns=\"http://www.w3.org/2000/svg\" xmlns:xlink=\"http://www.w3.org/1999/xlink\">\r\n <defs>\r\n  <style type=\"text/css\">\r\n*{stroke-linecap:butt;stroke-linejoin:round;}\r\n  </style>\r\n </defs>\r\n <g id=\"figure_1\">\r\n  <g id=\"patch_1\">\r\n   <path d=\"M 0 411.598125 \r\nL 889.045313 411.598125 \r\nL 889.045313 0 \r\nL 0 0 \r\nz\r\n\" style=\"fill:none;\"/>\r\n  </g>\r\n  <g id=\"axes_1\">\r\n   <g id=\"patch_2\">\r\n    <path d=\"M 44.845313 387.72 \r\nL 881.845312 387.72 \r\nL 881.845312 7.2 \r\nL 44.845313 7.2 \r\nz\r\n\" style=\"fill:#ffffff;\"/>\r\n   </g>\r\n   <g id=\"PathCollection_1\">\r\n    <defs>\r\n     <path d=\"M 0 3 \r\nC 0.795609 3 1.55874 2.683901 2.12132 2.12132 \r\nC 2.683901 1.55874 3 0.795609 3 0 \r\nC 3 -0.795609 2.683901 -1.55874 2.12132 -2.12132 \r\nC 1.55874 -2.683901 0.795609 -3 0 -3 \r\nC -0.795609 -3 -1.55874 -2.683901 -2.12132 -2.12132 \r\nC -2.683901 -1.55874 -3 -0.795609 -3 0 \r\nC -3 0.795609 -2.683901 1.55874 -2.12132 2.12132 \r\nC -1.55874 2.683901 -0.795609 3 0 3 \r\nz\r\n\" id=\"m3e3158274c\" style=\"stroke:#ff0000;\"/>\r\n    </defs>\r\n    <g clip-path=\"url(#p804148687f)\">\r\n     <use style=\"fill:#ff0000;stroke:#ff0000;\" x=\"501.341338\" xlink:href=\"#m3e3158274c\" y=\"123.198534\"/>\r\n     <use style=\"fill:#ff0000;stroke:#ff0000;\" x=\"543.373323\" xlink:href=\"#m3e3158274c\" y=\"182.458669\"/>\r\n     <use style=\"fill:#ff0000;stroke:#ff0000;\" x=\"403.831027\" xlink:href=\"#m3e3158274c\" y=\"147.310671\"/>\r\n     <use style=\"fill:#ff0000;stroke:#ff0000;\" x=\"414.685676\" xlink:href=\"#m3e3158274c\" y=\"61.754083\"/>\r\n     <use style=\"fill:#ff0000;stroke:#ff0000;\" x=\"516.324126\" xlink:href=\"#m3e3158274c\" y=\"49.984732\"/>\r\n     <use style=\"fill:#ff0000;stroke:#ff0000;\" x=\"433.299891\" xlink:href=\"#m3e3158274c\" y=\"100.462742\"/>\r\n     <use style=\"fill:#ff0000;stroke:#ff0000;\" x=\"480.332944\" xlink:href=\"#m3e3158274c\" y=\"227.770755\"/>\r\n     <use style=\"fill:#ff0000;stroke:#ff0000;\" x=\"429.148079\" xlink:href=\"#m3e3158274c\" y=\"174.26389\"/>\r\n     <use style=\"fill:#ff0000;stroke:#ff0000;\" x=\"550.644092\" xlink:href=\"#m3e3158274c\" y=\"157.3877\"/>\r\n     <use style=\"fill:#ff0000;stroke:#ff0000;\" x=\"353.854606\" xlink:href=\"#m3e3158274c\" y=\"219.986833\"/>\r\n     <use style=\"fill:#ff0000;stroke:#ff0000;\" x=\"617.284207\" xlink:href=\"#m3e3158274c\" y=\"351.10129\"/>\r\n     <use style=\"fill:#ff0000;stroke:#ff0000;\" x=\"319.512524\" xlink:href=\"#m3e3158274c\" y=\"245.499842\"/>\r\n     <use style=\"fill:#ff0000;stroke:#ff0000;\" x=\"518.000898\" xlink:href=\"#m3e3158274c\" y=\"219.440685\"/>\r\n     <use style=\"fill:#ff0000;stroke:#ff0000;\" x=\"582.596736\" xlink:href=\"#m3e3158274c\" y=\"283.921552\"/>\r\n     <use style=\"fill:#ff0000;stroke:#ff0000;\" x=\"437.064011\" xlink:href=\"#m3e3158274c\" y=\"287.006589\"/>\r\n     <use style=\"fill:#ff0000;stroke:#ff0000;\" x=\"585.106402\" xlink:href=\"#m3e3158274c\" y=\"323.975025\"/>\r\n     <use style=\"fill:#ff0000;stroke:#ff0000;\" x=\"294.097418\" xlink:href=\"#m3e3158274c\" y=\"330.233611\"/>\r\n     <use style=\"fill:#ff0000;stroke:#ff0000;\" x=\"304.485252\" xlink:href=\"#m3e3158274c\" y=\"330.744713\"/>\r\n     <use style=\"fill:#ff0000;stroke:#ff0000;\" x=\"321.502973\" xlink:href=\"#m3e3158274c\" y=\"227.909573\"/>\r\n     <use style=\"fill:#ff0000;stroke:#ff0000;\" x=\"515.199811\" xlink:href=\"#m3e3158274c\" y=\"279.711942\"/>\r\n     <use style=\"fill:#ff0000;stroke:#ff0000;\" x=\"481.423466\" xlink:href=\"#m3e3158274c\" y=\"339.369727\"/>\r\n     <use style=\"fill:#ff0000;stroke:#ff0000;\" x=\"522.48047\" xlink:href=\"#m3e3158274c\" y=\"48.697424\"/>\r\n     <use style=\"fill:#ff0000;stroke:#ff0000;\" x=\"299.238756\" xlink:href=\"#m3e3158274c\" y=\"308.313794\"/>\r\n     <use style=\"fill:#ff0000;stroke:#ff0000;\" x=\"530.712712\" xlink:href=\"#m3e3158274c\" y=\"365.060817\"/>\r\n     <use style=\"fill:#ff0000;stroke:#ff0000;\" x=\"601.846739\" xlink:href=\"#m3e3158274c\" y=\"278.104884\"/>\r\n     <use style=\"fill:#ff0000;stroke:#ff0000;\" x=\"535.020317\" xlink:href=\"#m3e3158274c\" y=\"172.935385\"/>\r\n     <use style=\"fill:#ff0000;stroke:#ff0000;\" x=\"422.116798\" xlink:href=\"#m3e3158274c\" y=\"77.53916\"/>\r\n     <use style=\"fill:#ff0000;stroke:#ff0000;\" x=\"618.724034\" xlink:href=\"#m3e3158274c\" y=\"268.560634\"/>\r\n     <use style=\"fill:#ff0000;stroke:#ff0000;\" x=\"403.98704\" xlink:href=\"#m3e3158274c\" y=\"161.055496\"/>\r\n     <use style=\"fill:#ff0000;stroke:#ff0000;\" x=\"588.101196\" xlink:href=\"#m3e3158274c\" y=\"271.121408\"/>\r\n     <use style=\"fill:#ff0000;stroke:#ff0000;\" x=\"555.256095\" xlink:href=\"#m3e3158274c\" y=\"222.862133\"/>\r\n     <use style=\"fill:#ff0000;stroke:#ff0000;\" x=\"517.820257\" xlink:href=\"#m3e3158274c\" y=\"166.456028\"/>\r\n     <use style=\"fill:#ff0000;stroke:#ff0000;\" x=\"521.217368\" xlink:href=\"#m3e3158274c\" y=\"144.768213\"/>\r\n     <use style=\"fill:#ff0000;stroke:#ff0000;\" x=\"581.813704\" xlink:href=\"#m3e3158274c\" y=\"221.940126\"/>\r\n     <use style=\"fill:#ff0000;stroke:#ff0000;\" x=\"413.343854\" xlink:href=\"#m3e3158274c\" y=\"61.701765\"/>\r\n     <use style=\"fill:#ff0000;stroke:#ff0000;\" x=\"390.998189\" xlink:href=\"#m3e3158274c\" y=\"347.989977\"/>\r\n     <use style=\"fill:#ff0000;stroke:#ff0000;\" x=\"642.495174\" xlink:href=\"#m3e3158274c\" y=\"312.336825\"/>\r\n     <use style=\"fill:#ff0000;stroke:#ff0000;\" x=\"479.700542\" xlink:href=\"#m3e3158274c\" y=\"353.149913\"/>\r\n     <use style=\"fill:#ff0000;stroke:#ff0000;\" x=\"622.568958\" xlink:href=\"#m3e3158274c\" y=\"360.978737\"/>\r\n     <use style=\"fill:#ff0000;stroke:#ff0000;\" x=\"523.47934\" xlink:href=\"#m3e3158274c\" y=\"289.279747\"/>\r\n     <use style=\"fill:#ff0000;stroke:#ff0000;\" x=\"491.072342\" xlink:href=\"#m3e3158274c\" y=\"166.791041\"/>\r\n     <use style=\"fill:#ff0000;stroke:#ff0000;\" x=\"642.597599\" xlink:href=\"#m3e3158274c\" y=\"263.512381\"/>\r\n     <use style=\"fill:#ff0000;stroke:#ff0000;\" x=\"384.015772\" xlink:href=\"#m3e3158274c\" y=\"299.039767\"/>\r\n    </g>\r\n   </g>\r\n   <g id=\"PathCollection_2\">\r\n    <defs>\r\n     <path d=\"M -1 3 \r\nL 1 3 \r\nL 1 1 \r\nL 3 1 \r\nL 3 -1 \r\nL 1 -1 \r\nL 1 -3 \r\nL -1 -3 \r\nL -1 -1 \r\nL -3 -1 \r\nL -3 1 \r\nL -1 1 \r\nz\r\n\" id=\"mde1a894a34\" style=\"stroke:#0000ff;\"/>\r\n    </defs>\r\n    <g clip-path=\"url(#p804148687f)\">\r\n     <use style=\"fill:#0000ff;stroke:#0000ff;\" x=\"824.547622\" xlink:href=\"#mde1a894a34\" y=\"238.634285\"/>\r\n     <use style=\"fill:#0000ff;stroke:#0000ff;\" x=\"690.592091\" xlink:href=\"#mde1a894a34\" y=\"188.021982\"/>\r\n     <use style=\"fill:#0000ff;stroke:#0000ff;\" x=\"129.108121\" xlink:href=\"#mde1a894a34\" y=\"341.739772\"/>\r\n     <use style=\"fill:#0000ff;stroke:#0000ff;\" x=\"89.516421\" xlink:href=\"#mde1a894a34\" y=\"82.337152\"/>\r\n     <use style=\"fill:#0000ff;stroke:#0000ff;\" x=\"680.021129\" xlink:href=\"#mde1a894a34\" y=\"69.32604\"/>\r\n     <use style=\"fill:#0000ff;stroke:#0000ff;\" x=\"836.199416\" xlink:href=\"#mde1a894a34\" y=\"93.980417\"/>\r\n     <use style=\"fill:#0000ff;stroke:#0000ff;\" x=\"165.911218\" xlink:href=\"#mde1a894a34\" y=\"149.389082\"/>\r\n     <use style=\"fill:#0000ff;stroke:#0000ff;\" x=\"185.449991\" xlink:href=\"#mde1a894a34\" y=\"43.348297\"/>\r\n     <use style=\"fill:#0000ff;stroke:#0000ff;\" x=\"279.877913\" xlink:href=\"#mde1a894a34\" y=\"102.653335\"/>\r\n     <use style=\"fill:#0000ff;stroke:#0000ff;\" x=\"88.40341\" xlink:href=\"#mde1a894a34\" y=\"157.143605\"/>\r\n     <use style=\"fill:#0000ff;stroke:#0000ff;\" x=\"809.032227\" xlink:href=\"#mde1a894a34\" y=\"134.809712\"/>\r\n     <use style=\"fill:#0000ff;stroke:#0000ff;\" x=\"593.237897\" xlink:href=\"#mde1a894a34\" y=\"138.700776\"/>\r\n     <use style=\"fill:#0000ff;stroke:#0000ff;\" x=\"237.67205\" xlink:href=\"#mde1a894a34\" y=\"327.195992\"/>\r\n     <use style=\"fill:#0000ff;stroke:#0000ff;\" x=\"843.799858\" xlink:href=\"#mde1a894a34\" y=\"336.549736\"/>\r\n     <use style=\"fill:#0000ff;stroke:#0000ff;\" x=\"236.498888\" xlink:href=\"#mde1a894a34\" y=\"315.927851\"/>\r\n     <use style=\"fill:#0000ff;stroke:#0000ff;\" x=\"197.616543\" xlink:href=\"#mde1a894a34\" y=\"333.651095\"/>\r\n     <use style=\"fill:#0000ff;stroke:#0000ff;\" x=\"226.920407\" xlink:href=\"#mde1a894a34\" y=\"243.755019\"/>\r\n     <use style=\"fill:#0000ff;stroke:#0000ff;\" x=\"713.394744\" xlink:href=\"#mde1a894a34\" y=\"338.2699\"/>\r\n     <use style=\"fill:#0000ff;stroke:#0000ff;\" x=\"726.601683\" xlink:href=\"#mde1a894a34\" y=\"338.61886\"/>\r\n     <use style=\"fill:#0000ff;stroke:#0000ff;\" x=\"834.517449\" xlink:href=\"#mde1a894a34\" y=\"208.984526\"/>\r\n     <use style=\"fill:#0000ff;stroke:#0000ff;\" x=\"834.752442\" xlink:href=\"#mde1a894a34\" y=\"161.594035\"/>\r\n     <use style=\"fill:#0000ff;stroke:#0000ff;\" x=\"649.719719\" xlink:href=\"#mde1a894a34\" y=\"358.42161\"/>\r\n     <use style=\"fill:#0000ff;stroke:#0000ff;\" x=\"123.741288\" xlink:href=\"#mde1a894a34\" y=\"131.10328\"/>\r\n     <use style=\"fill:#0000ff;stroke:#0000ff;\" x=\"321.959345\" xlink:href=\"#mde1a894a34\" y=\"139.823821\"/>\r\n     <use style=\"fill:#0000ff;stroke:#0000ff;\" x=\"176.447237\" xlink:href=\"#mde1a894a34\" y=\"122.802609\"/>\r\n     <use style=\"fill:#0000ff;stroke:#0000ff;\" x=\"719.586042\" xlink:href=\"#mde1a894a34\" y=\"370.423636\"/>\r\n     <use style=\"fill:#0000ff;stroke:#0000ff;\" x=\"646.549154\" xlink:href=\"#mde1a894a34\" y=\"37.252127\"/>\r\n     <use style=\"fill:#0000ff;stroke:#0000ff;\" x=\"267.566315\" xlink:href=\"#mde1a894a34\" y=\"171.576443\"/>\r\n     <use style=\"fill:#0000ff;stroke:#0000ff;\" x=\"247.565812\" xlink:href=\"#mde1a894a34\" y=\"40.536729\"/>\r\n     <use style=\"fill:#0000ff;stroke:#0000ff;\" x=\"707.788848\" xlink:href=\"#mde1a894a34\" y=\"234.088428\"/>\r\n     <use style=\"fill:#0000ff;stroke:#0000ff;\" x=\"760.226018\" xlink:href=\"#mde1a894a34\" y=\"169.796428\"/>\r\n     <use style=\"fill:#0000ff;stroke:#0000ff;\" x=\"760.718533\" xlink:href=\"#mde1a894a34\" y=\"131.082587\"/>\r\n     <use style=\"fill:#0000ff;stroke:#0000ff;\" x=\"638.805168\" xlink:href=\"#mde1a894a34\" y=\"197.61549\"/>\r\n     <use style=\"fill:#0000ff;stroke:#0000ff;\" x=\"818.642776\" xlink:href=\"#mde1a894a34\" y=\"147.973162\"/>\r\n     <use style=\"fill:#0000ff;stroke:#0000ff;\" x=\"88.717695\" xlink:href=\"#mde1a894a34\" y=\"267.120812\"/>\r\n     <use style=\"fill:#0000ff;stroke:#0000ff;\" x=\"179.311341\" xlink:href=\"#mde1a894a34\" y=\"268.266475\"/>\r\n     <use style=\"fill:#0000ff;stroke:#0000ff;\" x=\"772.257867\" xlink:href=\"#mde1a894a34\" y=\"244.159804\"/>\r\n     <use style=\"fill:#0000ff;stroke:#0000ff;\" x=\"701.864754\" xlink:href=\"#mde1a894a34\" y=\"127.130781\"/>\r\n     <use style=\"fill:#0000ff;stroke:#0000ff;\" x=\"151.850501\" xlink:href=\"#mde1a894a34\" y=\"52.112182\"/>\r\n     <use style=\"fill:#0000ff;stroke:#0000ff;\" x=\"630.225028\" xlink:href=\"#mde1a894a34\" y=\"24.496364\"/>\r\n     <use style=\"fill:#0000ff;stroke:#0000ff;\" x=\"190.198578\" xlink:href=\"#mde1a894a34\" y=\"69.982328\"/>\r\n     <use style=\"fill:#0000ff;stroke:#0000ff;\" x=\"200.361562\" xlink:href=\"#mde1a894a34\" y=\"157.865951\"/>\r\n     <use style=\"fill:#0000ff;stroke:#0000ff;\" x=\"170.231724\" xlink:href=\"#mde1a894a34\" y=\"76.982574\"/>\r\n     <use style=\"fill:#0000ff;stroke:#0000ff;\" x=\"702.741211\" xlink:href=\"#mde1a894a34\" y=\"174.031872\"/>\r\n     <use style=\"fill:#0000ff;stroke:#0000ff;\" x=\"617.126501\" xlink:href=\"#mde1a894a34\" y=\"214.241721\"/>\r\n     <use style=\"fill:#0000ff;stroke:#0000ff;\" x=\"636.313097\" xlink:href=\"#mde1a894a34\" y=\"70.589081\"/>\r\n     <use style=\"fill:#0000ff;stroke:#0000ff;\" x=\"833.786691\" xlink:href=\"#mde1a894a34\" y=\"74.270169\"/>\r\n     <use style=\"fill:#0000ff;stroke:#0000ff;\" x=\"82.890767\" xlink:href=\"#mde1a894a34\" y=\"246.798683\"/>\r\n     <use style=\"fill:#0000ff;stroke:#0000ff;\" x=\"229.580359\" xlink:href=\"#mde1a894a34\" y=\"365.612599\"/>\r\n     <use style=\"fill:#0000ff;stroke:#0000ff;\" x=\"692.128982\" xlink:href=\"#mde1a894a34\" y=\"294.140131\"/>\r\n     <use style=\"fill:#0000ff;stroke:#0000ff;\" x=\"342.82559\" xlink:href=\"#mde1a894a34\" y=\"49.120165\"/>\r\n     <use style=\"fill:#0000ff;stroke:#0000ff;\" x=\"202.07652\" xlink:href=\"#mde1a894a34\" y=\"155.806419\"/>\r\n     <use style=\"fill:#0000ff;stroke:#0000ff;\" x=\"801.604288\" xlink:href=\"#mde1a894a34\" y=\"158.420467\"/>\r\n     <use style=\"fill:#0000ff;stroke:#0000ff;\" x=\"218.82613\" xlink:href=\"#mde1a894a34\" y=\"43.451478\"/>\r\n     <use style=\"fill:#0000ff;stroke:#0000ff;\" x=\"649.943487\" xlink:href=\"#mde1a894a34\" y=\"201.3963\"/>\r\n     <use style=\"fill:#0000ff;stroke:#0000ff;\" x=\"250.94162\" xlink:href=\"#mde1a894a34\" y=\"283.551014\"/>\r\n     <use style=\"fill:#0000ff;stroke:#0000ff;\" x=\"118.974534\" xlink:href=\"#mde1a894a34\" y=\"220.896868\"/>\r\n    </g>\r\n   </g>\r\n   <g id=\"matplotlib.axis_1\">\r\n    <g id=\"xtick_1\">\r\n     <g id=\"line2d_1\">\r\n      <defs>\r\n       <path d=\"M 0 0 \r\nL 0 3.5 \r\n\" id=\"mcc6003cc27\" style=\"stroke:#000000;stroke-width:0.8;\"/>\r\n      </defs>\r\n      <g>\r\n       <use style=\"stroke:#000000;stroke-width:0.8;\" x=\"73.764402\" xlink:href=\"#mcc6003cc27\" y=\"387.72\"/>\r\n      </g>\r\n     </g>\r\n     <g id=\"text_1\">\r\n      <!-- −1.00 -->\r\n      <defs>\r\n       <path d=\"M 10.59375 35.5 \r\nL 73.1875 35.5 \r\nL 73.1875 27.203125 \r\nL 10.59375 27.203125 \r\nz\r\n\" id=\"DejaVuSans-8722\"/>\r\n       <path d=\"M 12.40625 8.296875 \r\nL 28.515625 8.296875 \r\nL 28.515625 63.921875 \r\nL 10.984375 60.40625 \r\nL 10.984375 69.390625 \r\nL 28.421875 72.90625 \r\nL 38.28125 72.90625 \r\nL 38.28125 8.296875 \r\nL 54.390625 8.296875 \r\nL 54.390625 0 \r\nL 12.40625 0 \r\nz\r\n\" id=\"DejaVuSans-49\"/>\r\n       <path d=\"M 10.6875 12.40625 \r\nL 21 12.40625 \r\nL 21 0 \r\nL 10.6875 0 \r\nz\r\n\" id=\"DejaVuSans-46\"/>\r\n       <path d=\"M 31.78125 66.40625 \r\nQ 24.171875 66.40625 20.328125 58.90625 \r\nQ 16.5 51.421875 16.5 36.375 \r\nQ 16.5 21.390625 20.328125 13.890625 \r\nQ 24.171875 6.390625 31.78125 6.390625 \r\nQ 39.453125 6.390625 43.28125 13.890625 \r\nQ 47.125 21.390625 47.125 36.375 \r\nQ 47.125 51.421875 43.28125 58.90625 \r\nQ 39.453125 66.40625 31.78125 66.40625 \r\nz\r\nM 31.78125 74.21875 \r\nQ 44.046875 74.21875 50.515625 64.515625 \r\nQ 56.984375 54.828125 56.984375 36.375 \r\nQ 56.984375 17.96875 50.515625 8.265625 \r\nQ 44.046875 -1.421875 31.78125 -1.421875 \r\nQ 19.53125 -1.421875 13.0625 8.265625 \r\nQ 6.59375 17.96875 6.59375 36.375 \r\nQ 6.59375 54.828125 13.0625 64.515625 \r\nQ 19.53125 74.21875 31.78125 74.21875 \r\nz\r\n\" id=\"DejaVuSans-48\"/>\r\n      </defs>\r\n      <g transform=\"translate(58.441746 402.318437)scale(0.1 -0.1)\">\r\n       <use xlink:href=\"#DejaVuSans-8722\"/>\r\n       <use x=\"83.789062\" xlink:href=\"#DejaVuSans-49\"/>\r\n       <use x=\"147.412109\" xlink:href=\"#DejaVuSans-46\"/>\r\n       <use x=\"179.199219\" xlink:href=\"#DejaVuSans-48\"/>\r\n       <use x=\"242.822266\" xlink:href=\"#DejaVuSans-48\"/>\r\n      </g>\r\n     </g>\r\n    </g>\r\n    <g id=\"xtick_2\">\r\n     <g id=\"line2d_2\">\r\n      <g>\r\n       <use style=\"stroke:#000000;stroke-width:0.8;\" x=\"171.151067\" xlink:href=\"#mcc6003cc27\" y=\"387.72\"/>\r\n      </g>\r\n     </g>\r\n     <g id=\"text_2\">\r\n      <!-- −0.75 -->\r\n      <defs>\r\n       <path d=\"M 8.203125 72.90625 \r\nL 55.078125 72.90625 \r\nL 55.078125 68.703125 \r\nL 28.609375 0 \r\nL 18.3125 0 \r\nL 43.21875 64.59375 \r\nL 8.203125 64.59375 \r\nz\r\n\" id=\"DejaVuSans-55\"/>\r\n       <path d=\"M 10.796875 72.90625 \r\nL 49.515625 72.90625 \r\nL 49.515625 64.59375 \r\nL 19.828125 64.59375 \r\nL 19.828125 46.734375 \r\nQ 21.96875 47.46875 24.109375 47.828125 \r\nQ 26.265625 48.1875 28.421875 48.1875 \r\nQ 40.625 48.1875 47.75 41.5 \r\nQ 54.890625 34.8125 54.890625 23.390625 \r\nQ 54.890625 11.625 47.5625 5.09375 \r\nQ 40.234375 -1.421875 26.90625 -1.421875 \r\nQ 22.3125 -1.421875 17.546875 -0.640625 \r\nQ 12.796875 0.140625 7.71875 1.703125 \r\nL 7.71875 11.625 \r\nQ 12.109375 9.234375 16.796875 8.0625 \r\nQ 21.484375 6.890625 26.703125 6.890625 \r\nQ 35.15625 6.890625 40.078125 11.328125 \r\nQ 45.015625 15.765625 45.015625 23.390625 \r\nQ 45.015625 31 40.078125 35.4375 \r\nQ 35.15625 39.890625 26.703125 39.890625 \r\nQ 22.75 39.890625 18.8125 39.015625 \r\nQ 14.890625 38.140625 10.796875 36.28125 \r\nz\r\n\" id=\"DejaVuSans-53\"/>\r\n      </defs>\r\n      <g transform=\"translate(155.828411 402.318437)scale(0.1 -0.1)\">\r\n       <use xlink:href=\"#DejaVuSans-8722\"/>\r\n       <use x=\"83.789062\" xlink:href=\"#DejaVuSans-48\"/>\r\n       <use x=\"147.412109\" xlink:href=\"#DejaVuSans-46\"/>\r\n       <use x=\"179.199219\" xlink:href=\"#DejaVuSans-55\"/>\r\n       <use x=\"242.822266\" xlink:href=\"#DejaVuSans-53\"/>\r\n      </g>\r\n     </g>\r\n    </g>\r\n    <g id=\"xtick_3\">\r\n     <g id=\"line2d_3\">\r\n      <g>\r\n       <use style=\"stroke:#000000;stroke-width:0.8;\" x=\"268.537732\" xlink:href=\"#mcc6003cc27\" y=\"387.72\"/>\r\n      </g>\r\n     </g>\r\n     <g id=\"text_3\">\r\n      <!-- −0.50 -->\r\n      <g transform=\"translate(253.215076 402.318437)scale(0.1 -0.1)\">\r\n       <use xlink:href=\"#DejaVuSans-8722\"/>\r\n       <use x=\"83.789062\" xlink:href=\"#DejaVuSans-48\"/>\r\n       <use x=\"147.412109\" xlink:href=\"#DejaVuSans-46\"/>\r\n       <use x=\"179.199219\" xlink:href=\"#DejaVuSans-53\"/>\r\n       <use x=\"242.822266\" xlink:href=\"#DejaVuSans-48\"/>\r\n      </g>\r\n     </g>\r\n    </g>\r\n    <g id=\"xtick_4\">\r\n     <g id=\"line2d_4\">\r\n      <g>\r\n       <use style=\"stroke:#000000;stroke-width:0.8;\" x=\"365.924398\" xlink:href=\"#mcc6003cc27\" y=\"387.72\"/>\r\n      </g>\r\n     </g>\r\n     <g id=\"text_4\">\r\n      <!-- −0.25 -->\r\n      <defs>\r\n       <path d=\"M 19.1875 8.296875 \r\nL 53.609375 8.296875 \r\nL 53.609375 0 \r\nL 7.328125 0 \r\nL 7.328125 8.296875 \r\nQ 12.9375 14.109375 22.625 23.890625 \r\nQ 32.328125 33.6875 34.8125 36.53125 \r\nQ 39.546875 41.84375 41.421875 45.53125 \r\nQ 43.3125 49.21875 43.3125 52.78125 \r\nQ 43.3125 58.59375 39.234375 62.25 \r\nQ 35.15625 65.921875 28.609375 65.921875 \r\nQ 23.96875 65.921875 18.8125 64.3125 \r\nQ 13.671875 62.703125 7.8125 59.421875 \r\nL 7.8125 69.390625 \r\nQ 13.765625 71.78125 18.9375 73 \r\nQ 24.125 74.21875 28.421875 74.21875 \r\nQ 39.75 74.21875 46.484375 68.546875 \r\nQ 53.21875 62.890625 53.21875 53.421875 \r\nQ 53.21875 48.921875 51.53125 44.890625 \r\nQ 49.859375 40.875 45.40625 35.40625 \r\nQ 44.1875 33.984375 37.640625 27.21875 \r\nQ 31.109375 20.453125 19.1875 8.296875 \r\nz\r\n\" id=\"DejaVuSans-50\"/>\r\n      </defs>\r\n      <g transform=\"translate(350.601741 402.318437)scale(0.1 -0.1)\">\r\n       <use xlink:href=\"#DejaVuSans-8722\"/>\r\n       <use x=\"83.789062\" xlink:href=\"#DejaVuSans-48\"/>\r\n       <use x=\"147.412109\" xlink:href=\"#DejaVuSans-46\"/>\r\n       <use x=\"179.199219\" xlink:href=\"#DejaVuSans-50\"/>\r\n       <use x=\"242.822266\" xlink:href=\"#DejaVuSans-53\"/>\r\n      </g>\r\n     </g>\r\n    </g>\r\n    <g id=\"xtick_5\">\r\n     <g id=\"line2d_5\">\r\n      <g>\r\n       <use style=\"stroke:#000000;stroke-width:0.8;\" x=\"463.311063\" xlink:href=\"#mcc6003cc27\" y=\"387.72\"/>\r\n      </g>\r\n     </g>\r\n     <g id=\"text_5\">\r\n      <!-- 0.00 -->\r\n      <g transform=\"translate(452.17825 402.318437)scale(0.1 -0.1)\">\r\n       <use xlink:href=\"#DejaVuSans-48\"/>\r\n       <use x=\"63.623047\" xlink:href=\"#DejaVuSans-46\"/>\r\n       <use x=\"95.410156\" xlink:href=\"#DejaVuSans-48\"/>\r\n       <use x=\"159.033203\" xlink:href=\"#DejaVuSans-48\"/>\r\n      </g>\r\n     </g>\r\n    </g>\r\n    <g id=\"xtick_6\">\r\n     <g id=\"line2d_6\">\r\n      <g>\r\n       <use style=\"stroke:#000000;stroke-width:0.8;\" x=\"560.697728\" xlink:href=\"#mcc6003cc27\" y=\"387.72\"/>\r\n      </g>\r\n     </g>\r\n     <g id=\"text_6\">\r\n      <!-- 0.25 -->\r\n      <g transform=\"translate(549.564915 402.318437)scale(0.1 -0.1)\">\r\n       <use xlink:href=\"#DejaVuSans-48\"/>\r\n       <use x=\"63.623047\" xlink:href=\"#DejaVuSans-46\"/>\r\n       <use x=\"95.410156\" xlink:href=\"#DejaVuSans-50\"/>\r\n       <use x=\"159.033203\" xlink:href=\"#DejaVuSans-53\"/>\r\n      </g>\r\n     </g>\r\n    </g>\r\n    <g id=\"xtick_7\">\r\n     <g id=\"line2d_7\">\r\n      <g>\r\n       <use style=\"stroke:#000000;stroke-width:0.8;\" x=\"658.084393\" xlink:href=\"#mcc6003cc27\" y=\"387.72\"/>\r\n      </g>\r\n     </g>\r\n     <g id=\"text_7\">\r\n      <!-- 0.50 -->\r\n      <g transform=\"translate(646.95158 402.318437)scale(0.1 -0.1)\">\r\n       <use xlink:href=\"#DejaVuSans-48\"/>\r\n       <use x=\"63.623047\" xlink:href=\"#DejaVuSans-46\"/>\r\n       <use x=\"95.410156\" xlink:href=\"#DejaVuSans-53\"/>\r\n       <use x=\"159.033203\" xlink:href=\"#DejaVuSans-48\"/>\r\n      </g>\r\n     </g>\r\n    </g>\r\n    <g id=\"xtick_8\">\r\n     <g id=\"line2d_8\">\r\n      <g>\r\n       <use style=\"stroke:#000000;stroke-width:0.8;\" x=\"755.471058\" xlink:href=\"#mcc6003cc27\" y=\"387.72\"/>\r\n      </g>\r\n     </g>\r\n     <g id=\"text_8\">\r\n      <!-- 0.75 -->\r\n      <g transform=\"translate(744.338245 402.318437)scale(0.1 -0.1)\">\r\n       <use xlink:href=\"#DejaVuSans-48\"/>\r\n       <use x=\"63.623047\" xlink:href=\"#DejaVuSans-46\"/>\r\n       <use x=\"95.410156\" xlink:href=\"#DejaVuSans-55\"/>\r\n       <use x=\"159.033203\" xlink:href=\"#DejaVuSans-53\"/>\r\n      </g>\r\n     </g>\r\n    </g>\r\n    <g id=\"xtick_9\">\r\n     <g id=\"line2d_9\">\r\n      <g>\r\n       <use style=\"stroke:#000000;stroke-width:0.8;\" x=\"852.857723\" xlink:href=\"#mcc6003cc27\" y=\"387.72\"/>\r\n      </g>\r\n     </g>\r\n     <g id=\"text_9\">\r\n      <!-- 1.00 -->\r\n      <g transform=\"translate(841.724911 402.318437)scale(0.1 -0.1)\">\r\n       <use xlink:href=\"#DejaVuSans-49\"/>\r\n       <use x=\"63.623047\" xlink:href=\"#DejaVuSans-46\"/>\r\n       <use x=\"95.410156\" xlink:href=\"#DejaVuSans-48\"/>\r\n       <use x=\"159.033203\" xlink:href=\"#DejaVuSans-48\"/>\r\n      </g>\r\n     </g>\r\n    </g>\r\n   </g>\r\n   <g id=\"matplotlib.axis_2\">\r\n    <g id=\"ytick_1\">\r\n     <g id=\"line2d_10\">\r\n      <defs>\r\n       <path d=\"M 0 0 \r\nL -3.5 0 \r\n\" id=\"ma3d658a9ba\" style=\"stroke:#000000;stroke-width:0.8;\"/>\r\n      </defs>\r\n      <g>\r\n       <use style=\"stroke:#000000;stroke-width:0.8;\" x=\"44.845313\" xlink:href=\"#ma3d658a9ba\" y=\"372.057485\"/>\r\n      </g>\r\n     </g>\r\n     <g id=\"text_10\">\r\n      <!-- −1.00 -->\r\n      <g transform=\"translate(7.2 375.856704)scale(0.1 -0.1)\">\r\n       <use xlink:href=\"#DejaVuSans-8722\"/>\r\n       <use x=\"83.789062\" xlink:href=\"#DejaVuSans-49\"/>\r\n       <use x=\"147.412109\" xlink:href=\"#DejaVuSans-46\"/>\r\n       <use x=\"179.199219\" xlink:href=\"#DejaVuSans-48\"/>\r\n       <use x=\"242.822266\" xlink:href=\"#DejaVuSans-48\"/>\r\n      </g>\r\n     </g>\r\n    </g>\r\n    <g id=\"ytick_2\">\r\n     <g id=\"line2d_11\">\r\n      <g>\r\n       <use style=\"stroke:#000000;stroke-width:0.8;\" x=\"44.845313\" xlink:href=\"#ma3d658a9ba\" y=\"328.562195\"/>\r\n      </g>\r\n     </g>\r\n     <g id=\"text_11\">\r\n      <!-- −0.75 -->\r\n      <g transform=\"translate(7.2 332.361414)scale(0.1 -0.1)\">\r\n       <use xlink:href=\"#DejaVuSans-8722\"/>\r\n       <use x=\"83.789062\" xlink:href=\"#DejaVuSans-48\"/>\r\n       <use x=\"147.412109\" xlink:href=\"#DejaVuSans-46\"/>\r\n       <use x=\"179.199219\" xlink:href=\"#DejaVuSans-55\"/>\r\n       <use x=\"242.822266\" xlink:href=\"#DejaVuSans-53\"/>\r\n      </g>\r\n     </g>\r\n    </g>\r\n    <g id=\"ytick_3\">\r\n     <g id=\"line2d_12\">\r\n      <g>\r\n       <use style=\"stroke:#000000;stroke-width:0.8;\" x=\"44.845313\" xlink:href=\"#ma3d658a9ba\" y=\"285.066905\"/>\r\n      </g>\r\n     </g>\r\n     <g id=\"text_12\">\r\n      <!-- −0.50 -->\r\n      <g transform=\"translate(7.2 288.866124)scale(0.1 -0.1)\">\r\n       <use xlink:href=\"#DejaVuSans-8722\"/>\r\n       <use x=\"83.789062\" xlink:href=\"#DejaVuSans-48\"/>\r\n       <use x=\"147.412109\" xlink:href=\"#DejaVuSans-46\"/>\r\n       <use x=\"179.199219\" xlink:href=\"#DejaVuSans-53\"/>\r\n       <use x=\"242.822266\" xlink:href=\"#DejaVuSans-48\"/>\r\n      </g>\r\n     </g>\r\n    </g>\r\n    <g id=\"ytick_4\">\r\n     <g id=\"line2d_13\">\r\n      <g>\r\n       <use style=\"stroke:#000000;stroke-width:0.8;\" x=\"44.845313\" xlink:href=\"#ma3d658a9ba\" y=\"241.571615\"/>\r\n      </g>\r\n     </g>\r\n     <g id=\"text_13\">\r\n      <!-- −0.25 -->\r\n      <g transform=\"translate(7.2 245.370834)scale(0.1 -0.1)\">\r\n       <use xlink:href=\"#DejaVuSans-8722\"/>\r\n       <use x=\"83.789062\" xlink:href=\"#DejaVuSans-48\"/>\r\n       <use x=\"147.412109\" xlink:href=\"#DejaVuSans-46\"/>\r\n       <use x=\"179.199219\" xlink:href=\"#DejaVuSans-50\"/>\r\n       <use x=\"242.822266\" xlink:href=\"#DejaVuSans-53\"/>\r\n      </g>\r\n     </g>\r\n    </g>\r\n    <g id=\"ytick_5\">\r\n     <g id=\"line2d_14\">\r\n      <g>\r\n       <use style=\"stroke:#000000;stroke-width:0.8;\" x=\"44.845313\" xlink:href=\"#ma3d658a9ba\" y=\"198.076325\"/>\r\n      </g>\r\n     </g>\r\n     <g id=\"text_14\">\r\n      <!-- 0.00 -->\r\n      <g transform=\"translate(15.579688 201.875544)scale(0.1 -0.1)\">\r\n       <use xlink:href=\"#DejaVuSans-48\"/>\r\n       <use x=\"63.623047\" xlink:href=\"#DejaVuSans-46\"/>\r\n       <use x=\"95.410156\" xlink:href=\"#DejaVuSans-48\"/>\r\n       <use x=\"159.033203\" xlink:href=\"#DejaVuSans-48\"/>\r\n      </g>\r\n     </g>\r\n    </g>\r\n    <g id=\"ytick_6\">\r\n     <g id=\"line2d_15\">\r\n      <g>\r\n       <use style=\"stroke:#000000;stroke-width:0.8;\" x=\"44.845313\" xlink:href=\"#ma3d658a9ba\" y=\"154.581035\"/>\r\n      </g>\r\n     </g>\r\n     <g id=\"text_15\">\r\n      <!-- 0.25 -->\r\n      <g transform=\"translate(15.579688 158.380254)scale(0.1 -0.1)\">\r\n       <use xlink:href=\"#DejaVuSans-48\"/>\r\n       <use x=\"63.623047\" xlink:href=\"#DejaVuSans-46\"/>\r\n       <use x=\"95.410156\" xlink:href=\"#DejaVuSans-50\"/>\r\n       <use x=\"159.033203\" xlink:href=\"#DejaVuSans-53\"/>\r\n      </g>\r\n     </g>\r\n    </g>\r\n    <g id=\"ytick_7\">\r\n     <g id=\"line2d_16\">\r\n      <g>\r\n       <use style=\"stroke:#000000;stroke-width:0.8;\" x=\"44.845313\" xlink:href=\"#ma3d658a9ba\" y=\"111.085745\"/>\r\n      </g>\r\n     </g>\r\n     <g id=\"text_16\">\r\n      <!-- 0.50 -->\r\n      <g transform=\"translate(15.579688 114.884964)scale(0.1 -0.1)\">\r\n       <use xlink:href=\"#DejaVuSans-48\"/>\r\n       <use x=\"63.623047\" xlink:href=\"#DejaVuSans-46\"/>\r\n       <use x=\"95.410156\" xlink:href=\"#DejaVuSans-53\"/>\r\n       <use x=\"159.033203\" xlink:href=\"#DejaVuSans-48\"/>\r\n      </g>\r\n     </g>\r\n    </g>\r\n    <g id=\"ytick_8\">\r\n     <g id=\"line2d_17\">\r\n      <g>\r\n       <use style=\"stroke:#000000;stroke-width:0.8;\" x=\"44.845313\" xlink:href=\"#ma3d658a9ba\" y=\"67.590455\"/>\r\n      </g>\r\n     </g>\r\n     <g id=\"text_17\">\r\n      <!-- 0.75 -->\r\n      <g transform=\"translate(15.579688 71.389674)scale(0.1 -0.1)\">\r\n       <use xlink:href=\"#DejaVuSans-48\"/>\r\n       <use x=\"63.623047\" xlink:href=\"#DejaVuSans-46\"/>\r\n       <use x=\"95.410156\" xlink:href=\"#DejaVuSans-55\"/>\r\n       <use x=\"159.033203\" xlink:href=\"#DejaVuSans-53\"/>\r\n      </g>\r\n     </g>\r\n    </g>\r\n    <g id=\"ytick_9\">\r\n     <g id=\"line2d_18\">\r\n      <g>\r\n       <use style=\"stroke:#000000;stroke-width:0.8;\" x=\"44.845313\" xlink:href=\"#ma3d658a9ba\" y=\"24.095165\"/>\r\n      </g>\r\n     </g>\r\n     <g id=\"text_18\">\r\n      <!-- 1.00 -->\r\n      <g transform=\"translate(15.579688 27.894384)scale(0.1 -0.1)\">\r\n       <use xlink:href=\"#DejaVuSans-49\"/>\r\n       <use x=\"63.623047\" xlink:href=\"#DejaVuSans-46\"/>\r\n       <use x=\"95.410156\" xlink:href=\"#DejaVuSans-48\"/>\r\n       <use x=\"159.033203\" xlink:href=\"#DejaVuSans-48\"/>\r\n      </g>\r\n     </g>\r\n    </g>\r\n   </g>\r\n   <g id=\"patch_3\">\r\n    <path d=\"M 44.845313 387.72 \r\nL 44.845313 7.2 \r\n\" style=\"fill:none;stroke:#000000;stroke-linecap:square;stroke-linejoin:miter;stroke-width:0.8;\"/>\r\n   </g>\r\n   <g id=\"patch_4\">\r\n    <path d=\"M 881.845312 387.72 \r\nL 881.845312 7.2 \r\n\" style=\"fill:none;stroke:#000000;stroke-linecap:square;stroke-linejoin:miter;stroke-width:0.8;\"/>\r\n   </g>\r\n   <g id=\"patch_5\">\r\n    <path d=\"M 44.845312 387.72 \r\nL 881.845313 387.72 \r\n\" style=\"fill:none;stroke:#000000;stroke-linecap:square;stroke-linejoin:miter;stroke-width:0.8;\"/>\r\n   </g>\r\n   <g id=\"patch_6\">\r\n    <path d=\"M 44.845312 7.2 \r\nL 881.845313 7.2 \r\n\" style=\"fill:none;stroke:#000000;stroke-linecap:square;stroke-linejoin:miter;stroke-width:0.8;\"/>\r\n   </g>\r\n   <g id=\"legend_1\">\r\n    <g id=\"patch_7\">\r\n     <path d=\"M 822.184375 44.55625 \r\nL 874.845312 44.55625 \r\nQ 876.845312 44.55625 876.845312 42.55625 \r\nL 876.845312 14.2 \r\nQ 876.845312 12.2 874.845312 12.2 \r\nL 822.184375 12.2 \r\nQ 820.184375 12.2 820.184375 14.2 \r\nL 820.184375 42.55625 \r\nQ 820.184375 44.55625 822.184375 44.55625 \r\nz\r\n\" style=\"fill:#ffffff;opacity:0.8;stroke:#cccccc;stroke-linejoin:miter;\"/>\r\n    </g>\r\n    <g id=\"PathCollection_3\">\r\n     <g>\r\n      <use style=\"fill:#ff0000;stroke:#ff0000;\" x=\"834.184375\" xlink:href=\"#m3e3158274c\" y=\"21.173437\"/>\r\n     </g>\r\n    </g>\r\n    <g id=\"text_19\">\r\n     <!-- y=0 -->\r\n     <defs>\r\n      <path d=\"M 32.171875 -5.078125 \r\nQ 28.375 -14.84375 24.75 -17.8125 \r\nQ 21.140625 -20.796875 15.09375 -20.796875 \r\nL 7.90625 -20.796875 \r\nL 7.90625 -13.28125 \r\nL 13.1875 -13.28125 \r\nQ 16.890625 -13.28125 18.9375 -11.515625 \r\nQ 21 -9.765625 23.484375 -3.21875 \r\nL 25.09375 0.875 \r\nL 2.984375 54.6875 \r\nL 12.5 54.6875 \r\nL 29.59375 11.921875 \r\nL 46.6875 54.6875 \r\nL 56.203125 54.6875 \r\nz\r\n\" id=\"DejaVuSans-121\"/>\r\n      <path d=\"M 10.59375 45.40625 \r\nL 73.1875 45.40625 \r\nL 73.1875 37.203125 \r\nL 10.59375 37.203125 \r\nz\r\nM 10.59375 25.484375 \r\nL 73.1875 25.484375 \r\nL 73.1875 17.1875 \r\nL 10.59375 17.1875 \r\nz\r\n\" id=\"DejaVuSans-61\"/>\r\n     </defs>\r\n     <g transform=\"translate(852.184375 23.798437)scale(0.1 -0.1)\">\r\n      <use xlink:href=\"#DejaVuSans-121\"/>\r\n      <use x=\"59.179688\" xlink:href=\"#DejaVuSans-61\"/>\r\n      <use x=\"142.96875\" xlink:href=\"#DejaVuSans-48\"/>\r\n     </g>\r\n    </g>\r\n    <g id=\"PathCollection_4\">\r\n     <g>\r\n      <use style=\"fill:#0000ff;stroke:#0000ff;\" x=\"834.184375\" xlink:href=\"#mde1a894a34\" y=\"35.851562\"/>\r\n     </g>\r\n    </g>\r\n    <g id=\"text_20\">\r\n     <!-- y=1 -->\r\n     <g transform=\"translate(852.184375 38.476562)scale(0.1 -0.1)\">\r\n      <use xlink:href=\"#DejaVuSans-121\"/>\r\n      <use x=\"59.179688\" xlink:href=\"#DejaVuSans-61\"/>\r\n      <use x=\"142.96875\" xlink:href=\"#DejaVuSans-49\"/>\r\n     </g>\r\n    </g>\r\n   </g>\r\n  </g>\r\n </g>\r\n <defs>\r\n  <clipPath id=\"p804148687f\">\r\n   <rect height=\"380.52\" width=\"837\" x=\"44.845313\" y=\"7.2\"/>\r\n  </clipPath>\r\n </defs>\r\n</svg>\r\n",
      "image/png": "[encoded data removed]"
     },
     "metadata": {
      "needs_background": "light"
     }
    }
   ],
   "source": [
    "import matplotlib.pyplot as plt\n",
    "\n",
    "# toy function parameters\n",
    "N_TRAIN = 100  \n",
    "NOISE_STD = 0.1\n",
    "SEED = 0 \n",
    "\n",
    "# toy function\n",
    "def toy_fcn(x, sigma=NOISE_STD, seed=0):\n",
    "    return np.multiply(-1.0 + 2*x[:,1] > -8*x[:,0]**2 + 2*x[:,0]**4 + 2*x[:,1]**3 + np.random.RandomState(seed).normal(0, sigma, x.shape[0]), 1)\n",
    "\n",
    "# generate data\n",
    "X = np.random.RandomState(SEED).uniform(low=-1,high=1,size=[N_TRAIN,2])\n",
    "y = toy_fcn(X, NOISE_STD, seed=SEED)\n",
    "\n",
    "# plot data\n",
    "plt.figure(figsize=(15,7))\n",
    "plt.scatter(*X[y==0].T, color=\"red\", label=\"y=0\")\n",
    "plt.scatter(*X[y==1].T, color=\"blue\", label=\"y=1\", marker=\"P\")\n",
    "_ = plt.legend()"
   ]
  },
  {
   "source": [
    "b) Complete ``predict()`` in ``NeuralNetwork``. \n",
    "Similar to last week's exercise, the predicted class is defined as a greater or equal comparison of the network's output and a certain threshold ``t``.\n",
    "Run the cell below to validate your implementation."
   ],
   "cell_type": "markdown",
   "metadata": {}
  },
  {
   "cell_type": "code",
   "execution_count": 165,
   "metadata": {},
   "outputs": [
    {
     "output_type": "stream",
     "name": "stdout",
     "text": [
      "Acc: 39.0%\nExpected accuracy: 57.0%\n"
     ]
    }
   ],
   "source": [
    "# convert to tensor\n",
    "X_tf = tf.convert_to_tensor(X, dtype=float)\n",
    "y_tf = tf.expand_dims(tf.convert_to_tensor(y, dtype=float), -1)\n",
    "\n",
    "# fix seed for initializing variables\n",
    "rng = np.random.RandomState(0)\n",
    "\n",
    "# instantiate NN\n",
    "N_HIDDEN_NEURONS = 6\n",
    "nn = NeuralNetwork(in_dim=2, out_dim=1, n_neurons=N_HIDDEN_NEURONS, rng=rng)\n",
    "\n",
    "# predict with random weights\n",
    "y_hat = nn.predict(X_tf)\n",
    "\n",
    "# evaluate performance\n",
    "print(f\"Acc: {100*np.sum(y_tf == y_hat)/N_TRAIN}%\")\n",
    "print(\"Expected accuracy: 57.0%\")"
   ]
  },
  {
   "source": [
    "c) Now that you completed all steps, run the cell below to train our network and to evaluate its performance."
   ],
   "cell_type": "markdown",
   "metadata": {}
  },
  {
   "cell_type": "code",
   "execution_count": 166,
   "metadata": {},
   "outputs": [
    {
     "output_type": "stream",
     "name": "stdout",
     "text": [
      "Epoch 1/20\n",
      "Epoch 2/20\n",
      "Epoch 3/20\n",
      "Epoch 4/20\n",
      "Epoch 5/20\n",
      "Epoch 6/20\n",
      "Epoch 7/20\n",
      "Epoch 8/20\n",
      "Epoch 9/20\n",
      "Epoch 10/20\n",
      "Epoch 11/20\n",
      "Epoch 12/20\n",
      "Epoch 13/20\n",
      "Epoch 14/20\n",
      "Epoch 15/20\n",
      "Epoch 16/20\n",
      "Epoch 17/20\n",
      "Epoch 18/20\n",
      "Epoch 19/20\n",
      "Epoch 20/20\n",
      "Acc: 98.0%\n",
      "Expected accuracy: 88.0%\n"
     ]
    }
   ],
   "source": [
    "# repeating code so re-run produces same result :)\n",
    "rng = np.random.RandomState(0)\n",
    "nn = NeuralNetwork(in_dim=2, out_dim=1, n_neurons=N_HIDDEN_NEURONS, rng=rng)\n",
    "\n",
    "# train network\n",
    "nn.fit(X_tf,y_tf,lr=5e-1,n_epochs=20)\n",
    "\n",
    "# predict with random weights\n",
    "y_hat = nn.predict(X_tf)\n",
    "\n",
    "# eval performance\n",
    "print(f\"Acc: {100*np.sum(y_tf == y_hat)/N_TRAIN}%\")\n",
    "print(\"Expected accuracy: 88.0%\")"
   ]
  },
  {
   "source": [
    "d) Run the cell below to visualize the decision boundary generated by our NN. Does it fit well the data?"
   ],
   "cell_type": "markdown",
   "metadata": {}
  },
  {
   "cell_type": "code",
   "execution_count": 167,
   "metadata": {},
   "outputs": [
    {
     "output_type": "display_data",
     "data": {
      "text/plain": "<Figure size 1080x504 with 1 Axes>",
      "image/svg+xml": "<?xml version=\"1.0\" encoding=\"utf-8\" standalone=\"no\"?>\r\n<!DOCTYPE svg PUBLIC \"-//W3C//DTD SVG 1.1//EN\"\r\n  \"http://www.w3.org/Graphics/SVG/1.1/DTD/svg11.dtd\">\r\n<!-- Created with matplotlib (https://matplotlib.org/) -->\r\n<svg height=\"415.397344pt\" version=\"1.1\" viewBox=\"0 0 900.178125 415.397344\" width=\"900.178125pt\" xmlns=\"http://www.w3.org/2000/svg\" xmlns:xlink=\"http://www.w3.org/1999/xlink\">\r\n <defs>\r\n  <style type=\"text/css\">\r\n*{stroke-linecap:butt;stroke-linejoin:round;}\r\n  </style>\r\n </defs>\r\n <g id=\"figure_1\">\r\n  <g id=\"patch_1\">\r\n   <path d=\"M 0 415.397344 \r\nL 900.178125 415.397344 \r\nL 900.178125 0 \r\nL 0 0 \r\nz\r\n\" style=\"fill:none;\"/>\r\n  </g>\r\n  <g id=\"axes_1\">\r\n   <g id=\"patch_2\">\r\n    <path d=\"M 44.845313 391.519219 \r\nL 881.845312 391.519219 \r\nL 881.845312 10.999219 \r\nL 44.845313 10.999219 \r\nz\r\n\" style=\"fill:#ffffff;\"/>\r\n   </g>\r\n   <g id=\"PathCollection_1\">\r\n    <defs>\r\n     <path d=\"M 0 3 \r\nC 0.795609 3 1.55874 2.683901 2.12132 2.12132 \r\nC 2.683901 1.55874 3 0.795609 3 0 \r\nC 3 -0.795609 2.683901 -1.55874 2.12132 -2.12132 \r\nC 1.55874 -2.683901 0.795609 -3 0 -3 \r\nC -0.795609 -3 -1.55874 -2.683901 -2.12132 -2.12132 \r\nC -2.683901 -1.55874 -3 -0.795609 -3 0 \r\nC -3 0.795609 -2.683901 1.55874 -2.12132 2.12132 \r\nC -1.55874 2.683901 -0.795609 3 0 3 \r\nz\r\n\" id=\"ma6eb818615\" style=\"stroke:#ff0000;\"/>\r\n    </defs>\r\n    <g clip-path=\"url(#pd5495d9e16)\">\r\n     <use style=\"fill:#ff0000;stroke:#ff0000;\" x=\"504.202215\" xlink:href=\"#ma6eb818615\" y=\"119.375361\"/>\r\n     <use style=\"fill:#ff0000;stroke:#ff0000;\" x=\"549.358258\" xlink:href=\"#ma6eb818615\" y=\"184.18027\"/>\r\n     <use style=\"fill:#ff0000;stroke:#ff0000;\" x=\"399.44438\" xlink:href=\"#ma6eb818615\" y=\"145.743591\"/>\r\n     <use style=\"fill:#ff0000;stroke:#ff0000;\" x=\"411.105808\" xlink:href=\"#ma6eb818615\" y=\"52.181756\"/>\r\n     <use style=\"fill:#ff0000;stroke:#ff0000;\" x=\"520.29861\" xlink:href=\"#ma6eb818615\" y=\"39.311186\"/>\r\n     <use style=\"fill:#ff0000;stroke:#ff0000;\" x=\"431.103539\" xlink:href=\"#ma6eb818615\" y=\"94.512257\"/>\r\n     <use style=\"fill:#ff0000;stroke:#ff0000;\" x=\"481.632358\" xlink:href=\"#ma6eb818615\" y=\"233.732057\"/>\r\n     <use style=\"fill:#ff0000;stroke:#ff0000;\" x=\"426.643141\" xlink:href=\"#ma6eb818615\" y=\"175.218733\"/>\r\n     <use style=\"fill:#ff0000;stroke:#ff0000;\" x=\"557.169432\" xlink:href=\"#ma6eb818615\" y=\"156.763494\"/>\r\n     <use style=\"fill:#ff0000;stroke:#ff0000;\" x=\"345.753425\" xlink:href=\"#ma6eb818615\" y=\"225.21982\"/>\r\n     <use style=\"fill:#ff0000;stroke:#ff0000;\" x=\"628.762623\" xlink:href=\"#ma6eb818615\" y=\"368.602222\"/>\r\n     <use style=\"fill:#ff0000;stroke:#ff0000;\" x=\"308.858842\" xlink:href=\"#ma6eb818615\" y=\"253.119996\"/>\r\n     <use style=\"fill:#ff0000;stroke:#ff0000;\" x=\"522.100009\" xlink:href=\"#ma6eb818615\" y=\"224.622571\"/>\r\n     <use style=\"fill:#ff0000;stroke:#ff0000;\" x=\"591.496981\" xlink:href=\"#ma6eb818615\" y=\"295.136698\"/>\r\n     <use style=\"fill:#ff0000;stroke:#ff0000;\" x=\"435.147429\" xlink:href=\"#ma6eb818615\" y=\"298.510392\"/>\r\n     <use style=\"fill:#ff0000;stroke:#ff0000;\" x=\"594.193179\" xlink:href=\"#ma6eb818615\" y=\"338.937842\"/>\r\n     <use style=\"fill:#ff0000;stroke:#ff0000;\" x=\"281.55474\" xlink:href=\"#ma6eb818615\" y=\"345.782023\"/>\r\n     <use style=\"fill:#ff0000;stroke:#ff0000;\" x=\"292.714658\" xlink:href=\"#ma6eb818615\" y=\"346.340947\"/>\r\n     <use style=\"fill:#ff0000;stroke:#ff0000;\" x=\"310.997234\" xlink:href=\"#ma6eb818615\" y=\"233.883864\"/>\r\n     <use style=\"fill:#ff0000;stroke:#ff0000;\" x=\"519.09073\" xlink:href=\"#ma6eb818615\" y=\"290.53321\"/>\r\n     <use style=\"fill:#ff0000;stroke:#ff0000;\" x=\"482.803933\" xlink:href=\"#ma6eb818615\" y=\"355.772976\"/>\r\n     <use style=\"fill:#ff0000;stroke:#ff0000;\" x=\"526.912529\" xlink:href=\"#ma6eb818615\" y=\"37.90343\"/>\r\n     <use style=\"fill:#ff0000;stroke:#ff0000;\" x=\"287.078212\" xlink:href=\"#ma6eb818615\" y=\"321.811242\"/>\r\n     <use style=\"fill:#ff0000;stroke:#ff0000;\" x=\"535.756639\" xlink:href=\"#ma6eb818615\" y=\"383.867895\"/>\r\n     <use style=\"fill:#ff0000;stroke:#ff0000;\" x=\"612.177754\" xlink:href=\"#ma6eb818615\" y=\"288.775785\"/>\r\n     <use style=\"fill:#ff0000;stroke:#ff0000;\" x=\"540.384409\" xlink:href=\"#ma6eb818615\" y=\"173.765924\"/>\r\n     <use style=\"fill:#ff0000;stroke:#ff0000;\" x=\"419.089254\" xlink:href=\"#ma6eb818615\" y=\"69.443791\"/>\r\n     <use style=\"fill:#ff0000;stroke:#ff0000;\" x=\"630.309466\" xlink:href=\"#ma6eb818615\" y=\"278.33851\"/>\r\n     <use style=\"fill:#ff0000;stroke:#ff0000;\" x=\"399.611988\" xlink:href=\"#ma6eb818615\" y=\"160.774473\"/>\r\n     <use style=\"fill:#ff0000;stroke:#ff0000;\" x=\"597.410563\" xlink:href=\"#ma6eb818615\" y=\"281.138888\"/>\r\n     <use style=\"fill:#ff0000;stroke:#ff0000;\" x=\"562.124227\" xlink:href=\"#ma6eb818615\" y=\"228.364153\"/>\r\n     <use style=\"fill:#ff0000;stroke:#ff0000;\" x=\"521.905943\" xlink:href=\"#ma6eb818615\" y=\"166.680316\"/>\r\n     <use style=\"fill:#ff0000;stroke:#ff0000;\" x=\"525.555546\" xlink:href=\"#ma6eb818615\" y=\"142.963243\"/>\r\n     <use style=\"fill:#ff0000;stroke:#ff0000;\" x=\"590.655749\" xlink:href=\"#ma6eb818615\" y=\"227.355876\"/>\r\n     <use style=\"fill:#ff0000;stroke:#ff0000;\" x=\"409.664255\" xlink:href=\"#ma6eb818615\" y=\"52.124544\"/>\r\n     <use style=\"fill:#ff0000;stroke:#ff0000;\" x=\"385.657732\" xlink:href=\"#ma6eb818615\" y=\"365.199794\"/>\r\n     <use style=\"fill:#ff0000;stroke:#ff0000;\" x=\"655.847413\" xlink:href=\"#ma6eb818615\" y=\"326.210694\"/>\r\n     <use style=\"fill:#ff0000;stroke:#ff0000;\" x=\"480.952952\" xlink:href=\"#ma6eb818615\" y=\"370.842527\"/>\r\n     <use style=\"fill:#ff0000;stroke:#ff0000;\" x=\"634.440167\" xlink:href=\"#ma6eb818615\" y=\"379.403869\"/>\r\n     <use style=\"fill:#ff0000;stroke:#ff0000;\" x=\"527.985641\" xlink:href=\"#ma6eb818615\" y=\"300.996242\"/>\r\n     <use style=\"fill:#ff0000;stroke:#ff0000;\" x=\"493.169969\" xlink:href=\"#ma6eb818615\" y=\"167.046675\"/>\r\n     <use style=\"fill:#ff0000;stroke:#ff0000;\" x=\"655.957451\" xlink:href=\"#ma6eb818615\" y=\"272.817909\"/>\r\n     <use style=\"fill:#ff0000;stroke:#ff0000;\" x=\"378.156342\" xlink:href=\"#ma6eb818615\" y=\"311.669475\"/>\r\n    </g>\r\n   </g>\r\n   <g id=\"PathCollection_2\">\r\n    <defs>\r\n     <path d=\"M -1 3 \r\nL 1 3 \r\nL 1 1 \r\nL 3 1 \r\nL 3 -1 \r\nL 1 -1 \r\nL 1 -3 \r\nL -1 -3 \r\nL -1 -1 \r\nL -3 -1 \r\nL -3 1 \r\nL -1 1 \r\nz\r\n\" id=\"m0d151c690f\" style=\"stroke:#0000ff;\"/>\r\n    </defs>\r\n    <g clip-path=\"url(#pd5495d9e16)\">\r\n     <use style=\"fill:#0000ff;stroke:#0000ff;\" x=\"851.431043\" xlink:href=\"#m0d151c690f\" y=\"245.612052\"/>\r\n     <use style=\"fill:#0000ff;stroke:#0000ff;\" x=\"707.519169\" xlink:href=\"#m0d151c690f\" y=\"190.264124\"/>\r\n     <use style=\"fill:#0000ff;stroke:#0000ff;\" x=\"104.302493\" xlink:href=\"#m0d151c690f\" y=\"358.364778\"/>\r\n     <use style=\"fill:#0000ff;stroke:#0000ff;\" x=\"61.768111\" xlink:href=\"#m0d151c690f\" y=\"74.690715\"/>\r\n     <use style=\"fill:#0000ff;stroke:#0000ff;\" x=\"696.162513\" xlink:href=\"#m0d151c690f\" y=\"60.462196\"/>\r\n     <use style=\"fill:#0000ff;stroke:#0000ff;\" x=\"863.948865\" xlink:href=\"#m0d151c690f\" y=\"87.423402\"/>\r\n     <use style=\"fill:#0000ff;stroke:#0000ff;\" x=\"143.841007\" xlink:href=\"#m0d151c690f\" y=\"148.016472\"/>\r\n     <use style=\"fill:#0000ff;stroke:#0000ff;\" x=\"164.832014\" xlink:href=\"#m0d151c690f\" y=\"32.053802\"/>\r\n     <use style=\"fill:#0000ff;stroke:#0000ff;\" x=\"266.27836\" xlink:href=\"#m0d151c690f\" y=\"96.907815\"/>\r\n     <use style=\"fill:#0000ff;stroke:#0000ff;\" x=\"60.572375\" xlink:href=\"#m0d151c690f\" y=\"156.496559\"/>\r\n     <use style=\"fill:#0000ff;stroke:#0000ff;\" x=\"834.762454\" xlink:href=\"#m0d151c690f\" y=\"132.072959\"/>\r\n     <use style=\"fill:#0000ff;stroke:#0000ff;\" x=\"602.929053\" xlink:href=\"#m0d151c690f\" y=\"136.328097\"/>\r\n     <use style=\"fill:#0000ff;stroke:#0000ff;\" x=\"220.935516\" xlink:href=\"#m0d151c690f\" y=\"342.460184\"/>\r\n     <use style=\"fill:#0000ff;stroke:#0000ff;\" x=\"872.114215\" xlink:href=\"#m0d151c690f\" y=\"352.689127\"/>\r\n     <use style=\"fill:#0000ff;stroke:#0000ff;\" x=\"219.675157\" xlink:href=\"#m0d151c690f\" y=\"330.137721\"/>\r\n     <use style=\"fill:#0000ff;stroke:#0000ff;\" x=\"177.902854\" xlink:href=\"#m0d151c690f\" y=\"349.51927\"/>\r\n     <use style=\"fill:#0000ff;stroke:#0000ff;\" x=\"209.384749\" xlink:href=\"#m0d151c690f\" y=\"251.211917\"/>\r\n     <use style=\"fill:#0000ff;stroke:#0000ff;\" x=\"732.016646\" xlink:href=\"#m0d151c690f\" y=\"354.570241\"/>\r\n     <use style=\"fill:#0000ff;stroke:#0000ff;\" x=\"746.2052\" xlink:href=\"#m0d151c690f\" y=\"354.951853\"/>\r\n     <use style=\"fill:#0000ff;stroke:#0000ff;\" x=\"862.141885\" xlink:href=\"#m0d151c690f\" y=\"213.188063\"/>\r\n     <use style=\"fill:#0000ff;stroke:#0000ff;\" x=\"862.394343\" xlink:href=\"#m0d151c690f\" y=\"161.363402\"/>\r\n     <use style=\"fill:#0000ff;stroke:#0000ff;\" x=\"663.608928\" xlink:href=\"#m0d151c690f\" y=\"376.60748\"/>\r\n     <use style=\"fill:#0000ff;stroke:#0000ff;\" x=\"98.536767\" xlink:href=\"#m0d151c690f\" y=\"128.019728\"/>\r\n     <use style=\"fill:#0000ff;stroke:#0000ff;\" x=\"311.487526\" xlink:href=\"#m0d151c690f\" y=\"137.556221\"/>\r\n     <use style=\"fill:#0000ff;stroke:#0000ff;\" x=\"155.160123\" xlink:href=\"#m0d151c690f\" y=\"118.942391\"/>\r\n     <use style=\"fill:#0000ff;stroke:#0000ff;\" x=\"738.668117\" xlink:href=\"#m0d151c690f\" y=\"389.732496\"/>\r\n     <use style=\"fill:#0000ff;stroke:#0000ff;\" x=\"660.202709\" xlink:href=\"#m0d151c690f\" y=\"25.387234\"/>\r\n     <use style=\"fill:#0000ff;stroke:#0000ff;\" x=\"253.051694\" xlink:href=\"#m0d151c690f\" y=\"172.27983\"/>\r\n     <use style=\"fill:#0000ff;stroke:#0000ff;\" x=\"231.564639\" xlink:href=\"#m0d151c690f\" y=\"28.979165\"/>\r\n     <use style=\"fill:#0000ff;stroke:#0000ff;\" x=\"725.994088\" xlink:href=\"#m0d151c690f\" y=\"240.640854\"/>\r\n     <use style=\"fill:#0000ff;stroke:#0000ff;\" x=\"782.328688\" xlink:href=\"#m0d151c690f\" y=\"170.333265\"/>\r\n     <use style=\"fill:#0000ff;stroke:#0000ff;\" x=\"782.85781\" xlink:href=\"#m0d151c690f\" y=\"127.997098\"/>\r\n     <use style=\"fill:#0000ff;stroke:#0000ff;\" x=\"651.883145\" xlink:href=\"#m0d151c690f\" y=\"200.755265\"/>\r\n     <use style=\"fill:#0000ff;stroke:#0000ff;\" x=\"845.087315\" xlink:href=\"#m0d151c690f\" y=\"146.468068\"/>\r\n     <use style=\"fill:#0000ff;stroke:#0000ff;\" x=\"60.910019\" xlink:href=\"#m0d151c690f\" y=\"276.76397\"/>\r\n     <use style=\"fill:#0000ff;stroke:#0000ff;\" x=\"158.237104\" xlink:href=\"#m0d151c690f\" y=\"278.016828\"/>\r\n     <use style=\"fill:#0000ff;stroke:#0000ff;\" x=\"795.254813\" xlink:href=\"#m0d151c690f\" y=\"251.654576\"/>\r\n     <use style=\"fill:#0000ff;stroke:#0000ff;\" x=\"719.629681\" xlink:href=\"#m0d151c690f\" y=\"123.675535\"/>\r\n     <use style=\"fill:#0000ff;stroke:#0000ff;\" x=\"128.735217\" xlink:href=\"#m0d151c690f\" y=\"41.637695\"/>\r\n     <use style=\"fill:#0000ff;stroke:#0000ff;\" x=\"642.66528\" xlink:href=\"#m0d151c690f\" y=\"11.437956\"/>\r\n     <use style=\"fill:#0000ff;stroke:#0000ff;\" x=\"169.933543\" xlink:href=\"#m0d151c690f\" y=\"61.179891\"/>\r\n     <use style=\"fill:#0000ff;stroke:#0000ff;\" x=\"180.851899\" xlink:href=\"#m0d151c690f\" y=\"157.286493\"/>\r\n     <use style=\"fill:#0000ff;stroke:#0000ff;\" x=\"148.482638\" xlink:href=\"#m0d151c690f\" y=\"68.835127\"/>\r\n     <use style=\"fill:#0000ff;stroke:#0000ff;\" x=\"720.571281\" xlink:href=\"#m0d151c690f\" y=\"174.965006\"/>\r\n     <use style=\"fill:#0000ff;stroke:#0000ff;\" x=\"628.593196\" xlink:href=\"#m0d151c690f\" y=\"218.937157\"/>\r\n     <use style=\"fill:#0000ff;stroke:#0000ff;\" x=\"649.205849\" xlink:href=\"#m0d151c690f\" y=\"61.843416\"/>\r\n     <use style=\"fill:#0000ff;stroke:#0000ff;\" x=\"861.356812\" xlink:href=\"#m0d151c690f\" y=\"65.868931\"/>\r\n     <use style=\"fill:#0000ff;stroke:#0000ff;\" x=\"54.650001\" xlink:href=\"#m0d151c690f\" y=\"254.540366\"/>\r\n     <use style=\"fill:#0000ff;stroke:#0000ff;\" x=\"212.242404\" xlink:href=\"#m0d151c690f\" y=\"384.471306\"/>\r\n     <use style=\"fill:#0000ff;stroke:#0000ff;\" x=\"709.17029\" xlink:href=\"#m0d151c690f\" y=\"306.311396\"/>\r\n     <use style=\"fill:#0000ff;stroke:#0000ff;\" x=\"333.904669\" xlink:href=\"#m0d151c690f\" y=\"38.365725\"/>\r\n     <use style=\"fill:#0000ff;stroke:#0000ff;\" x=\"182.694321\" xlink:href=\"#m0d151c690f\" y=\"155.034257\"/>\r\n     <use style=\"fill:#0000ff;stroke:#0000ff;\" x=\"826.782429\" xlink:href=\"#m0d151c690f\" y=\"157.892893\"/>\r\n     <use style=\"fill:#0000ff;stroke:#0000ff;\" x=\"200.688858\" xlink:href=\"#m0d151c690f\" y=\"32.166637\"/>\r\n     <use style=\"fill:#0000ff;stroke:#0000ff;\" x=\"663.849328\" xlink:href=\"#m0d151c690f\" y=\"204.889833\"/>\r\n     <use style=\"fill:#0000ff;stroke:#0000ff;\" x=\"235.191356\" xlink:href=\"#m0d151c690f\" y=\"294.73149\"/>\r\n     <use style=\"fill:#0000ff;stroke:#0000ff;\" x=\"93.41572\" xlink:href=\"#m0d151c690f\" y=\"226.215004\"/>\r\n    </g>\r\n   </g>\r\n   <g id=\"matplotlib.axis_1\">\r\n    <g id=\"xtick_1\">\r\n     <g id=\"line2d_1\">\r\n      <defs>\r\n       <path d=\"M 0 0 \r\nL 0 3.5 \r\n\" id=\"mf66cef726a\" style=\"stroke:#000000;stroke-width:0.8;\"/>\r\n      </defs>\r\n      <g>\r\n       <use style=\"stroke:#000000;stroke-width:0.8;\" x=\"44.845312\" xlink:href=\"#mf66cef726a\" y=\"391.519219\"/>\r\n      </g>\r\n     </g>\r\n     <g id=\"text_1\">\r\n      <!-- −1.00 -->\r\n      <defs>\r\n       <path d=\"M 10.59375 35.5 \r\nL 73.1875 35.5 \r\nL 73.1875 27.203125 \r\nL 10.59375 27.203125 \r\nz\r\n\" id=\"DejaVuSans-8722\"/>\r\n       <path d=\"M 12.40625 8.296875 \r\nL 28.515625 8.296875 \r\nL 28.515625 63.921875 \r\nL 10.984375 60.40625 \r\nL 10.984375 69.390625 \r\nL 28.421875 72.90625 \r\nL 38.28125 72.90625 \r\nL 38.28125 8.296875 \r\nL 54.390625 8.296875 \r\nL 54.390625 0 \r\nL 12.40625 0 \r\nz\r\n\" id=\"DejaVuSans-49\"/>\r\n       <path d=\"M 10.6875 12.40625 \r\nL 21 12.40625 \r\nL 21 0 \r\nL 10.6875 0 \r\nz\r\n\" id=\"DejaVuSans-46\"/>\r\n       <path d=\"M 31.78125 66.40625 \r\nQ 24.171875 66.40625 20.328125 58.90625 \r\nQ 16.5 51.421875 16.5 36.375 \r\nQ 16.5 21.390625 20.328125 13.890625 \r\nQ 24.171875 6.390625 31.78125 6.390625 \r\nQ 39.453125 6.390625 43.28125 13.890625 \r\nQ 47.125 21.390625 47.125 36.375 \r\nQ 47.125 51.421875 43.28125 58.90625 \r\nQ 39.453125 66.40625 31.78125 66.40625 \r\nz\r\nM 31.78125 74.21875 \r\nQ 44.046875 74.21875 50.515625 64.515625 \r\nQ 56.984375 54.828125 56.984375 36.375 \r\nQ 56.984375 17.96875 50.515625 8.265625 \r\nQ 44.046875 -1.421875 31.78125 -1.421875 \r\nQ 19.53125 -1.421875 13.0625 8.265625 \r\nQ 6.59375 17.96875 6.59375 36.375 \r\nQ 6.59375 54.828125 13.0625 64.515625 \r\nQ 19.53125 74.21875 31.78125 74.21875 \r\nz\r\n\" id=\"DejaVuSans-48\"/>\r\n      </defs>\r\n      <g transform=\"translate(29.522656 406.117656)scale(0.1 -0.1)\">\r\n       <use xlink:href=\"#DejaVuSans-8722\"/>\r\n       <use x=\"83.789062\" xlink:href=\"#DejaVuSans-49\"/>\r\n       <use x=\"147.412109\" xlink:href=\"#DejaVuSans-46\"/>\r\n       <use x=\"179.199219\" xlink:href=\"#DejaVuSans-48\"/>\r\n       <use x=\"242.822266\" xlink:href=\"#DejaVuSans-48\"/>\r\n      </g>\r\n     </g>\r\n    </g>\r\n    <g id=\"xtick_2\">\r\n     <g id=\"line2d_2\">\r\n      <g>\r\n       <use style=\"stroke:#000000;stroke-width:0.8;\" x=\"149.470312\" xlink:href=\"#mf66cef726a\" y=\"391.519219\"/>\r\n      </g>\r\n     </g>\r\n     <g id=\"text_2\">\r\n      <!-- −0.75 -->\r\n      <defs>\r\n       <path d=\"M 8.203125 72.90625 \r\nL 55.078125 72.90625 \r\nL 55.078125 68.703125 \r\nL 28.609375 0 \r\nL 18.3125 0 \r\nL 43.21875 64.59375 \r\nL 8.203125 64.59375 \r\nz\r\n\" id=\"DejaVuSans-55\"/>\r\n       <path d=\"M 10.796875 72.90625 \r\nL 49.515625 72.90625 \r\nL 49.515625 64.59375 \r\nL 19.828125 64.59375 \r\nL 19.828125 46.734375 \r\nQ 21.96875 47.46875 24.109375 47.828125 \r\nQ 26.265625 48.1875 28.421875 48.1875 \r\nQ 40.625 48.1875 47.75 41.5 \r\nQ 54.890625 34.8125 54.890625 23.390625 \r\nQ 54.890625 11.625 47.5625 5.09375 \r\nQ 40.234375 -1.421875 26.90625 -1.421875 \r\nQ 22.3125 -1.421875 17.546875 -0.640625 \r\nQ 12.796875 0.140625 7.71875 1.703125 \r\nL 7.71875 11.625 \r\nQ 12.109375 9.234375 16.796875 8.0625 \r\nQ 21.484375 6.890625 26.703125 6.890625 \r\nQ 35.15625 6.890625 40.078125 11.328125 \r\nQ 45.015625 15.765625 45.015625 23.390625 \r\nQ 45.015625 31 40.078125 35.4375 \r\nQ 35.15625 39.890625 26.703125 39.890625 \r\nQ 22.75 39.890625 18.8125 39.015625 \r\nQ 14.890625 38.140625 10.796875 36.28125 \r\nz\r\n\" id=\"DejaVuSans-53\"/>\r\n      </defs>\r\n      <g transform=\"translate(134.147656 406.117656)scale(0.1 -0.1)\">\r\n       <use xlink:href=\"#DejaVuSans-8722\"/>\r\n       <use x=\"83.789062\" xlink:href=\"#DejaVuSans-48\"/>\r\n       <use x=\"147.412109\" xlink:href=\"#DejaVuSans-46\"/>\r\n       <use x=\"179.199219\" xlink:href=\"#DejaVuSans-55\"/>\r\n       <use x=\"242.822266\" xlink:href=\"#DejaVuSans-53\"/>\r\n      </g>\r\n     </g>\r\n    </g>\r\n    <g id=\"xtick_3\">\r\n     <g id=\"line2d_3\">\r\n      <g>\r\n       <use style=\"stroke:#000000;stroke-width:0.8;\" x=\"254.095312\" xlink:href=\"#mf66cef726a\" y=\"391.519219\"/>\r\n      </g>\r\n     </g>\r\n     <g id=\"text_3\">\r\n      <!-- −0.50 -->\r\n      <g transform=\"translate(238.772656 406.117656)scale(0.1 -0.1)\">\r\n       <use xlink:href=\"#DejaVuSans-8722\"/>\r\n       <use x=\"83.789062\" xlink:href=\"#DejaVuSans-48\"/>\r\n       <use x=\"147.412109\" xlink:href=\"#DejaVuSans-46\"/>\r\n       <use x=\"179.199219\" xlink:href=\"#DejaVuSans-53\"/>\r\n       <use x=\"242.822266\" xlink:href=\"#DejaVuSans-48\"/>\r\n      </g>\r\n     </g>\r\n    </g>\r\n    <g id=\"xtick_4\">\r\n     <g id=\"line2d_4\">\r\n      <g>\r\n       <use style=\"stroke:#000000;stroke-width:0.8;\" x=\"358.720312\" xlink:href=\"#mf66cef726a\" y=\"391.519219\"/>\r\n      </g>\r\n     </g>\r\n     <g id=\"text_4\">\r\n      <!-- −0.25 -->\r\n      <defs>\r\n       <path d=\"M 19.1875 8.296875 \r\nL 53.609375 8.296875 \r\nL 53.609375 0 \r\nL 7.328125 0 \r\nL 7.328125 8.296875 \r\nQ 12.9375 14.109375 22.625 23.890625 \r\nQ 32.328125 33.6875 34.8125 36.53125 \r\nQ 39.546875 41.84375 41.421875 45.53125 \r\nQ 43.3125 49.21875 43.3125 52.78125 \r\nQ 43.3125 58.59375 39.234375 62.25 \r\nQ 35.15625 65.921875 28.609375 65.921875 \r\nQ 23.96875 65.921875 18.8125 64.3125 \r\nQ 13.671875 62.703125 7.8125 59.421875 \r\nL 7.8125 69.390625 \r\nQ 13.765625 71.78125 18.9375 73 \r\nQ 24.125 74.21875 28.421875 74.21875 \r\nQ 39.75 74.21875 46.484375 68.546875 \r\nQ 53.21875 62.890625 53.21875 53.421875 \r\nQ 53.21875 48.921875 51.53125 44.890625 \r\nQ 49.859375 40.875 45.40625 35.40625 \r\nQ 44.1875 33.984375 37.640625 27.21875 \r\nQ 31.109375 20.453125 19.1875 8.296875 \r\nz\r\n\" id=\"DejaVuSans-50\"/>\r\n      </defs>\r\n      <g transform=\"translate(343.397656 406.117656)scale(0.1 -0.1)\">\r\n       <use xlink:href=\"#DejaVuSans-8722\"/>\r\n       <use x=\"83.789062\" xlink:href=\"#DejaVuSans-48\"/>\r\n       <use x=\"147.412109\" xlink:href=\"#DejaVuSans-46\"/>\r\n       <use x=\"179.199219\" xlink:href=\"#DejaVuSans-50\"/>\r\n       <use x=\"242.822266\" xlink:href=\"#DejaVuSans-53\"/>\r\n      </g>\r\n     </g>\r\n    </g>\r\n    <g id=\"xtick_5\">\r\n     <g id=\"line2d_5\">\r\n      <g>\r\n       <use style=\"stroke:#000000;stroke-width:0.8;\" x=\"463.345312\" xlink:href=\"#mf66cef726a\" y=\"391.519219\"/>\r\n      </g>\r\n     </g>\r\n     <g id=\"text_5\">\r\n      <!-- 0.00 -->\r\n      <g transform=\"translate(452.2125 406.117656)scale(0.1 -0.1)\">\r\n       <use xlink:href=\"#DejaVuSans-48\"/>\r\n       <use x=\"63.623047\" xlink:href=\"#DejaVuSans-46\"/>\r\n       <use x=\"95.410156\" xlink:href=\"#DejaVuSans-48\"/>\r\n       <use x=\"159.033203\" xlink:href=\"#DejaVuSans-48\"/>\r\n      </g>\r\n     </g>\r\n    </g>\r\n    <g id=\"xtick_6\">\r\n     <g id=\"line2d_6\">\r\n      <g>\r\n       <use style=\"stroke:#000000;stroke-width:0.8;\" x=\"567.970312\" xlink:href=\"#mf66cef726a\" y=\"391.519219\"/>\r\n      </g>\r\n     </g>\r\n     <g id=\"text_6\">\r\n      <!-- 0.25 -->\r\n      <g transform=\"translate(556.8375 406.117656)scale(0.1 -0.1)\">\r\n       <use xlink:href=\"#DejaVuSans-48\"/>\r\n       <use x=\"63.623047\" xlink:href=\"#DejaVuSans-46\"/>\r\n       <use x=\"95.410156\" xlink:href=\"#DejaVuSans-50\"/>\r\n       <use x=\"159.033203\" xlink:href=\"#DejaVuSans-53\"/>\r\n      </g>\r\n     </g>\r\n    </g>\r\n    <g id=\"xtick_7\">\r\n     <g id=\"line2d_7\">\r\n      <g>\r\n       <use style=\"stroke:#000000;stroke-width:0.8;\" x=\"672.595312\" xlink:href=\"#mf66cef726a\" y=\"391.519219\"/>\r\n      </g>\r\n     </g>\r\n     <g id=\"text_7\">\r\n      <!-- 0.50 -->\r\n      <g transform=\"translate(661.4625 406.117656)scale(0.1 -0.1)\">\r\n       <use xlink:href=\"#DejaVuSans-48\"/>\r\n       <use x=\"63.623047\" xlink:href=\"#DejaVuSans-46\"/>\r\n       <use x=\"95.410156\" xlink:href=\"#DejaVuSans-53\"/>\r\n       <use x=\"159.033203\" xlink:href=\"#DejaVuSans-48\"/>\r\n      </g>\r\n     </g>\r\n    </g>\r\n    <g id=\"xtick_8\">\r\n     <g id=\"line2d_8\">\r\n      <g>\r\n       <use style=\"stroke:#000000;stroke-width:0.8;\" x=\"777.220312\" xlink:href=\"#mf66cef726a\" y=\"391.519219\"/>\r\n      </g>\r\n     </g>\r\n     <g id=\"text_8\">\r\n      <!-- 0.75 -->\r\n      <g transform=\"translate(766.0875 406.117656)scale(0.1 -0.1)\">\r\n       <use xlink:href=\"#DejaVuSans-48\"/>\r\n       <use x=\"63.623047\" xlink:href=\"#DejaVuSans-46\"/>\r\n       <use x=\"95.410156\" xlink:href=\"#DejaVuSans-55\"/>\r\n       <use x=\"159.033203\" xlink:href=\"#DejaVuSans-53\"/>\r\n      </g>\r\n     </g>\r\n    </g>\r\n    <g id=\"xtick_9\">\r\n     <g id=\"line2d_9\">\r\n      <g>\r\n       <use style=\"stroke:#000000;stroke-width:0.8;\" x=\"881.845312\" xlink:href=\"#mf66cef726a\" y=\"391.519219\"/>\r\n      </g>\r\n     </g>\r\n     <g id=\"text_9\">\r\n      <!-- 1.00 -->\r\n      <g transform=\"translate(870.7125 406.117656)scale(0.1 -0.1)\">\r\n       <use xlink:href=\"#DejaVuSans-49\"/>\r\n       <use x=\"63.623047\" xlink:href=\"#DejaVuSans-46\"/>\r\n       <use x=\"95.410156\" xlink:href=\"#DejaVuSans-48\"/>\r\n       <use x=\"159.033203\" xlink:href=\"#DejaVuSans-48\"/>\r\n      </g>\r\n     </g>\r\n    </g>\r\n   </g>\r\n   <g id=\"matplotlib.axis_2\">\r\n    <g id=\"ytick_1\">\r\n     <g id=\"line2d_10\">\r\n      <defs>\r\n       <path d=\"M 0 0 \r\nL -3.5 0 \r\n\" id=\"m70bc88b7d4\" style=\"stroke:#000000;stroke-width:0.8;\"/>\r\n      </defs>\r\n      <g>\r\n       <use style=\"stroke:#000000;stroke-width:0.8;\" x=\"44.845313\" xlink:href=\"#m70bc88b7d4\" y=\"391.519219\"/>\r\n      </g>\r\n     </g>\r\n     <g id=\"text_10\">\r\n      <!-- −1.00 -->\r\n      <g transform=\"translate(7.2 395.318438)scale(0.1 -0.1)\">\r\n       <use xlink:href=\"#DejaVuSans-8722\"/>\r\n       <use x=\"83.789062\" xlink:href=\"#DejaVuSans-49\"/>\r\n       <use x=\"147.412109\" xlink:href=\"#DejaVuSans-46\"/>\r\n       <use x=\"179.199219\" xlink:href=\"#DejaVuSans-48\"/>\r\n       <use x=\"242.822266\" xlink:href=\"#DejaVuSans-48\"/>\r\n      </g>\r\n     </g>\r\n    </g>\r\n    <g id=\"ytick_2\">\r\n     <g id=\"line2d_11\">\r\n      <g>\r\n       <use style=\"stroke:#000000;stroke-width:0.8;\" x=\"44.845313\" xlink:href=\"#m70bc88b7d4\" y=\"343.954219\"/>\r\n      </g>\r\n     </g>\r\n     <g id=\"text_11\">\r\n      <!-- −0.75 -->\r\n      <g transform=\"translate(7.2 347.753438)scale(0.1 -0.1)\">\r\n       <use xlink:href=\"#DejaVuSans-8722\"/>\r\n       <use x=\"83.789062\" xlink:href=\"#DejaVuSans-48\"/>\r\n       <use x=\"147.412109\" xlink:href=\"#DejaVuSans-46\"/>\r\n       <use x=\"179.199219\" xlink:href=\"#DejaVuSans-55\"/>\r\n       <use x=\"242.822266\" xlink:href=\"#DejaVuSans-53\"/>\r\n      </g>\r\n     </g>\r\n    </g>\r\n    <g id=\"ytick_3\">\r\n     <g id=\"line2d_12\">\r\n      <g>\r\n       <use style=\"stroke:#000000;stroke-width:0.8;\" x=\"44.845313\" xlink:href=\"#m70bc88b7d4\" y=\"296.389219\"/>\r\n      </g>\r\n     </g>\r\n     <g id=\"text_12\">\r\n      <!-- −0.50 -->\r\n      <g transform=\"translate(7.2 300.188437)scale(0.1 -0.1)\">\r\n       <use xlink:href=\"#DejaVuSans-8722\"/>\r\n       <use x=\"83.789062\" xlink:href=\"#DejaVuSans-48\"/>\r\n       <use x=\"147.412109\" xlink:href=\"#DejaVuSans-46\"/>\r\n       <use x=\"179.199219\" xlink:href=\"#DejaVuSans-53\"/>\r\n       <use x=\"242.822266\" xlink:href=\"#DejaVuSans-48\"/>\r\n      </g>\r\n     </g>\r\n    </g>\r\n    <g id=\"ytick_4\">\r\n     <g id=\"line2d_13\">\r\n      <g>\r\n       <use style=\"stroke:#000000;stroke-width:0.8;\" x=\"44.845313\" xlink:href=\"#m70bc88b7d4\" y=\"248.824219\"/>\r\n      </g>\r\n     </g>\r\n     <g id=\"text_13\">\r\n      <!-- −0.25 -->\r\n      <g transform=\"translate(7.2 252.623437)scale(0.1 -0.1)\">\r\n       <use xlink:href=\"#DejaVuSans-8722\"/>\r\n       <use x=\"83.789062\" xlink:href=\"#DejaVuSans-48\"/>\r\n       <use x=\"147.412109\" xlink:href=\"#DejaVuSans-46\"/>\r\n       <use x=\"179.199219\" xlink:href=\"#DejaVuSans-50\"/>\r\n       <use x=\"242.822266\" xlink:href=\"#DejaVuSans-53\"/>\r\n      </g>\r\n     </g>\r\n    </g>\r\n    <g id=\"ytick_5\">\r\n     <g id=\"line2d_14\">\r\n      <g>\r\n       <use style=\"stroke:#000000;stroke-width:0.8;\" x=\"44.845313\" xlink:href=\"#m70bc88b7d4\" y=\"201.259219\"/>\r\n      </g>\r\n     </g>\r\n     <g id=\"text_14\">\r\n      <!-- 0.00 -->\r\n      <g transform=\"translate(15.579688 205.058437)scale(0.1 -0.1)\">\r\n       <use xlink:href=\"#DejaVuSans-48\"/>\r\n       <use x=\"63.623047\" xlink:href=\"#DejaVuSans-46\"/>\r\n       <use x=\"95.410156\" xlink:href=\"#DejaVuSans-48\"/>\r\n       <use x=\"159.033203\" xlink:href=\"#DejaVuSans-48\"/>\r\n      </g>\r\n     </g>\r\n    </g>\r\n    <g id=\"ytick_6\">\r\n     <g id=\"line2d_15\">\r\n      <g>\r\n       <use style=\"stroke:#000000;stroke-width:0.8;\" x=\"44.845313\" xlink:href=\"#m70bc88b7d4\" y=\"153.694219\"/>\r\n      </g>\r\n     </g>\r\n     <g id=\"text_15\">\r\n      <!-- 0.25 -->\r\n      <g transform=\"translate(15.579688 157.493438)scale(0.1 -0.1)\">\r\n       <use xlink:href=\"#DejaVuSans-48\"/>\r\n       <use x=\"63.623047\" xlink:href=\"#DejaVuSans-46\"/>\r\n       <use x=\"95.410156\" xlink:href=\"#DejaVuSans-50\"/>\r\n       <use x=\"159.033203\" xlink:href=\"#DejaVuSans-53\"/>\r\n      </g>\r\n     </g>\r\n    </g>\r\n    <g id=\"ytick_7\">\r\n     <g id=\"line2d_16\">\r\n      <g>\r\n       <use style=\"stroke:#000000;stroke-width:0.8;\" x=\"44.845313\" xlink:href=\"#m70bc88b7d4\" y=\"106.129219\"/>\r\n      </g>\r\n     </g>\r\n     <g id=\"text_16\">\r\n      <!-- 0.50 -->\r\n      <g transform=\"translate(15.579688 109.928438)scale(0.1 -0.1)\">\r\n       <use xlink:href=\"#DejaVuSans-48\"/>\r\n       <use x=\"63.623047\" xlink:href=\"#DejaVuSans-46\"/>\r\n       <use x=\"95.410156\" xlink:href=\"#DejaVuSans-53\"/>\r\n       <use x=\"159.033203\" xlink:href=\"#DejaVuSans-48\"/>\r\n      </g>\r\n     </g>\r\n    </g>\r\n    <g id=\"ytick_8\">\r\n     <g id=\"line2d_17\">\r\n      <g>\r\n       <use style=\"stroke:#000000;stroke-width:0.8;\" x=\"44.845313\" xlink:href=\"#m70bc88b7d4\" y=\"58.564219\"/>\r\n      </g>\r\n     </g>\r\n     <g id=\"text_17\">\r\n      <!-- 0.75 -->\r\n      <g transform=\"translate(15.579688 62.363438)scale(0.1 -0.1)\">\r\n       <use xlink:href=\"#DejaVuSans-48\"/>\r\n       <use x=\"63.623047\" xlink:href=\"#DejaVuSans-46\"/>\r\n       <use x=\"95.410156\" xlink:href=\"#DejaVuSans-55\"/>\r\n       <use x=\"159.033203\" xlink:href=\"#DejaVuSans-53\"/>\r\n      </g>\r\n     </g>\r\n    </g>\r\n    <g id=\"ytick_9\">\r\n     <g id=\"line2d_18\">\r\n      <g>\r\n       <use style=\"stroke:#000000;stroke-width:0.8;\" x=\"44.845313\" xlink:href=\"#m70bc88b7d4\" y=\"10.999219\"/>\r\n      </g>\r\n     </g>\r\n     <g id=\"text_18\">\r\n      <!-- 1.00 -->\r\n      <g transform=\"translate(15.579688 14.798438)scale(0.1 -0.1)\">\r\n       <use xlink:href=\"#DejaVuSans-49\"/>\r\n       <use x=\"63.623047\" xlink:href=\"#DejaVuSans-46\"/>\r\n       <use x=\"95.410156\" xlink:href=\"#DejaVuSans-48\"/>\r\n       <use x=\"159.033203\" xlink:href=\"#DejaVuSans-48\"/>\r\n      </g>\r\n     </g>\r\n    </g>\r\n   </g>\r\n   <g id=\"LineCollection_1\">\r\n    <path clip-path=\"url(#pd5495d9e16)\" d=\"M 245.258947 391.519219 \r\nL 247.479785 383.753504 \r\nL 249.824904 376.322807 \r\nL 249.920742 375.98779 \r\nL 252.047185 368.222076 \r\nL 254.066686 360.456362 \r\nL 256.056407 352.690647 \r\nL 258.097331 344.924933 \r\nL 260.281497 337.159219 \r\nL 262.722738 329.393504 \r\nL 265.57289 321.62779 \r\nL 266.906537 318.500663 \r\nL 268.612599 313.862076 \r\nL 271.459934 306.096362 \r\nL 274.389141 298.330647 \r\nL 277.614494 290.564933 \r\nL 281.459774 282.799219 \r\nL 283.98817 278.630308 \r\nL 285.959998 275.033504 \r\nL 289.972302 267.26779 \r\nL 293.883134 259.502076 \r\nL 298.207987 251.736362 \r\nL 301.069802 247.312775 \r\nL 303.12344 243.970647 \r\nL 307.157968 236.204933 \r\nL 310.703902 228.439219 \r\nL 314.23334 220.673504 \r\nL 318.07547 212.90779 \r\nL 318.151435 212.755429 \r\nL 321.538054 205.142076 \r\nL 324.316986 197.376362 \r\nL 326.745752 189.610647 \r\nL 329.042452 181.844933 \r\nL 331.362601 174.079219 \r\nL 333.829565 166.313504 \r\nL 335.233068 162.163768 \r\nL 336.435532 158.54779 \r\nL 338.731477 150.782076 \r\nL 340.788941 143.016362 \r\nL 342.724284 135.250647 \r\nL 344.639334 127.484933 \r\nL 346.632183 119.719219 \r\nL 348.806502 111.953504 \r\nL 351.28113 104.18779 \r\nL 352.3147 101.290682 \r\nL 354.00459 96.422076 \r\nL 356.549628 88.656362 \r\nL 359.023049 80.890647 \r\nL 361.583813 73.124933 \r\nL 364.428752 65.359219 \r\nL 367.818892 57.593504 \r\nL 369.396333 54.539521 \r\nL 371.8653 49.82779 \r\nL 375.79899 42.062076 \r\nL 379.817673 34.296362 \r\nL 384.328136 26.530647 \r\nL 386.477966 23.290233 \r\nL 389.607755 18.764933 \r\nL 394.427548 10.999219 \r\n\" style=\"fill:none;stroke:#440154;stroke-width:1.5;\"/>\r\n    <path clip-path=\"url(#pd5495d9e16)\" d=\"M 573.44904 10.999219 \r\nL 574.375925 16.488789 \r\nL 574.728323 18.764933 \r\nL 575.919903 26.530647 \r\nL 577.090458 34.296362 \r\nL 578.251821 42.062076 \r\nL 579.416562 49.82779 \r\nL 580.59855 57.593504 \r\nL 581.813828 65.359219 \r\nL 583.081314 73.124933 \r\nL 584.424724 80.890647 \r\nL 585.874743 88.656362 \r\nL 587.472947 96.422076 \r\nL 589.277708 104.18779 \r\nL 591.37368 111.953504 \r\nL 591.457557 112.225632 \r\nL 593.570787 119.719219 \r\nL 595.74521 127.484933 \r\nL 597.94402 135.250647 \r\nL 600.245243 143.016362 \r\nL 602.785767 150.782076 \r\nL 605.804277 158.54779 \r\nL 608.53919 164.11979 \r\nL 609.673391 166.313504 \r\nL 613.655952 174.079219 \r\nL 617.523217 181.844933 \r\nL 621.770234 189.610647 \r\nL 625.620823 195.307922 \r\nL 627.203516 197.376362 \r\nL 632.598519 205.142076 \r\nL 637.537363 212.90779 \r\nL 642.702455 220.381831 \r\nL 642.951752 220.673504 \r\nL 648.696559 228.439219 \r\nL 653.427567 236.204933 \r\nL 657.9261 243.970647 \r\nL 659.784088 247.149363 \r\nL 662.886311 251.736362 \r\nL 667.258657 259.502076 \r\nL 671.112081 267.26779 \r\nL 674.817522 275.033504 \r\nL 676.865721 279.336998 \r\nL 678.84656 282.799219 \r\nL 682.772573 290.564933 \r\nL 686.3293 298.330647 \r\nL 689.708242 306.096362 \r\nL 693.025989 313.862076 \r\nL 693.947353 316.092809 \r\nL 696.696067 321.62779 \r\nL 700.214766 329.393504 \r\nL 703.496965 337.159219 \r\nL 706.606498 344.924933 \r\nL 709.571579 352.690647 \r\nL 711.028986 356.756535 \r\nL 712.672967 360.456362 \r\nL 715.833168 368.222076 \r\nL 718.764609 375.98779 \r\nL 721.484093 383.753504 \r\nL 723.996997 391.519219 \r\n\" style=\"fill:none;stroke:#440154;stroke-width:1.5;\"/>\r\n   </g>\r\n   <g id=\"patch_3\">\r\n    <path d=\"M 44.845313 391.519219 \r\nL 44.845313 10.999219 \r\n\" style=\"fill:none;stroke:#000000;stroke-linecap:square;stroke-linejoin:miter;stroke-width:0.8;\"/>\r\n   </g>\r\n   <g id=\"patch_4\">\r\n    <path d=\"M 881.845312 391.519219 \r\nL 881.845312 10.999219 \r\n\" style=\"fill:none;stroke:#000000;stroke-linecap:square;stroke-linejoin:miter;stroke-width:0.8;\"/>\r\n   </g>\r\n   <g id=\"patch_5\">\r\n    <path d=\"M 44.845312 391.519219 \r\nL 881.845312 391.519219 \r\n\" style=\"fill:none;stroke:#000000;stroke-linecap:square;stroke-linejoin:miter;stroke-width:0.8;\"/>\r\n   </g>\r\n   <g id=\"patch_6\">\r\n    <path d=\"M 44.845312 10.999219 \r\nL 881.845312 10.999219 \r\n\" style=\"fill:none;stroke:#000000;stroke-linecap:square;stroke-linejoin:miter;stroke-width:0.8;\"/>\r\n   </g>\r\n   <g id=\"legend_1\">\r\n    <g id=\"patch_7\">\r\n     <path d=\"M 822.184375 48.355469 \r\nL 874.845312 48.355469 \r\nQ 876.845312 48.355469 876.845312 46.355469 \r\nL 876.845312 17.999219 \r\nQ 876.845312 15.999219 874.845312 15.999219 \r\nL 822.184375 15.999219 \r\nQ 820.184375 15.999219 820.184375 17.999219 \r\nL 820.184375 46.355469 \r\nQ 820.184375 48.355469 822.184375 48.355469 \r\nz\r\n\" style=\"fill:#ffffff;opacity:0.8;stroke:#cccccc;stroke-linejoin:miter;\"/>\r\n    </g>\r\n    <g id=\"PathCollection_3\">\r\n     <g>\r\n      <use style=\"fill:#ff0000;stroke:#ff0000;\" x=\"834.184375\" xlink:href=\"#ma6eb818615\" y=\"24.972656\"/>\r\n     </g>\r\n    </g>\r\n    <g id=\"text_19\">\r\n     <!-- y=0 -->\r\n     <defs>\r\n      <path d=\"M 32.171875 -5.078125 \r\nQ 28.375 -14.84375 24.75 -17.8125 \r\nQ 21.140625 -20.796875 15.09375 -20.796875 \r\nL 7.90625 -20.796875 \r\nL 7.90625 -13.28125 \r\nL 13.1875 -13.28125 \r\nQ 16.890625 -13.28125 18.9375 -11.515625 \r\nQ 21 -9.765625 23.484375 -3.21875 \r\nL 25.09375 0.875 \r\nL 2.984375 54.6875 \r\nL 12.5 54.6875 \r\nL 29.59375 11.921875 \r\nL 46.6875 54.6875 \r\nL 56.203125 54.6875 \r\nz\r\n\" id=\"DejaVuSans-121\"/>\r\n      <path d=\"M 10.59375 45.40625 \r\nL 73.1875 45.40625 \r\nL 73.1875 37.203125 \r\nL 10.59375 37.203125 \r\nz\r\nM 10.59375 25.484375 \r\nL 73.1875 25.484375 \r\nL 73.1875 17.1875 \r\nL 10.59375 17.1875 \r\nz\r\n\" id=\"DejaVuSans-61\"/>\r\n     </defs>\r\n     <g transform=\"translate(852.184375 27.597656)scale(0.1 -0.1)\">\r\n      <use xlink:href=\"#DejaVuSans-121\"/>\r\n      <use x=\"59.179688\" xlink:href=\"#DejaVuSans-61\"/>\r\n      <use x=\"142.96875\" xlink:href=\"#DejaVuSans-48\"/>\r\n     </g>\r\n    </g>\r\n    <g id=\"PathCollection_4\">\r\n     <g>\r\n      <use style=\"fill:#0000ff;stroke:#0000ff;\" x=\"834.184375\" xlink:href=\"#m0d151c690f\" y=\"39.650781\"/>\r\n     </g>\r\n    </g>\r\n    <g id=\"text_20\">\r\n     <!-- y=1 -->\r\n     <g transform=\"translate(852.184375 42.275781)scale(0.1 -0.1)\">\r\n      <use xlink:href=\"#DejaVuSans-121\"/>\r\n      <use x=\"59.179688\" xlink:href=\"#DejaVuSans-61\"/>\r\n      <use x=\"142.96875\" xlink:href=\"#DejaVuSans-49\"/>\r\n     </g>\r\n    </g>\r\n   </g>\r\n  </g>\r\n </g>\r\n <defs>\r\n  <clipPath id=\"pd5495d9e16\">\r\n   <rect height=\"380.52\" width=\"837\" x=\"44.845313\" y=\"10.999219\"/>\r\n  </clipPath>\r\n </defs>\r\n</svg>\r\n",
      "image/png": "[encoded data removed]"
     },
     "metadata": {
      "needs_background": "light"
     }
    }
   ],
   "source": [
    "# plot decison boundary\n",
    "xx1,xx2=np.meshgrid(np.linspace(-1,1,50),np.linspace(-1,1,50))\n",
    "XX = np.column_stack((np.ravel(xx1),np.ravel(xx2)))\n",
    "y_hat = np.reshape(nn.forward(tf.convert_to_tensor(XX, dtype=float)).numpy(), (50,50))\n",
    "\n",
    "fig = plt.figure(figsize=(15,7))\n",
    "plt.scatter(*X[y==0].T, color=\"red\", label=\"y=0\")\n",
    "plt.scatter(*X[y==1].T, color=\"blue\", label=\"y=1\", marker=\"P\")\n",
    "plt.contour(xx1,xx2, y_hat, levels=[0.5])\n",
    "_ = plt.legend()\n",
    "fig.savefig('decision_boundary.jpeg', bbox_inches='tight')"
   ]
  },
  {
   "source": [
    "Expected output:\n",
    "<br>\n",
    "<div>\n",
    "    <img src=\"images/decision_boundary.jpeg\">"
   ],
   "cell_type": "markdown",
   "metadata": {}
  },
  {
   "source": [
    "e) What happens if we add more hidden neurons to our network? And if we change the learning rate? Try out different values for these variables and see how important hyperparameter tuning is in deep learning :)"
   ],
   "cell_type": "markdown",
   "metadata": {}
  },
  {
   "source": [
    "That's it! You successfully built your first neural network from scratch! Next week we'll see some applications in the energy domain where neural networks can be a useful tool for classification."
   ],
   "cell_type": "markdown",
   "metadata": {}
  }
 ]
}