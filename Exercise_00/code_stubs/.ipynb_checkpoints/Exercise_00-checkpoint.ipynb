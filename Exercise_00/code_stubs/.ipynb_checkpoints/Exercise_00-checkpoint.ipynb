{
 "cells": [
  {
   "cell_type": "markdown",
   "metadata": {},
   "source": [
    "# Machine Learning & Energy WS 20/21 - Exercise 0: Introduction"
   ]
  },
  {
   "cell_type": "code",
   "execution_count": 1,
   "metadata": {},
   "outputs": [],
   "source": [
    "%load_ext autoreload\n",
    "%autoreload 2"
   ]
  },
  {
   "cell_type": "markdown",
   "metadata": {},
   "source": [
    "## Solving an electrical circuit\n",
    "Now let's practice what we've seen so far using an electrical engineering example. \n",
    "To analyze an electrical circuit it is necessary to determine the voltage and current in several points of the circuit.\n",
    "We generally use the Kirchhoff's circuit laws to determine the unknowns of the system. \n",
    "To remind you, Kirchhoff's current law states that the currents meeting at a point must sum to zero, while the voltage law states that the sum of the voltages in any closed-loop is zero. <br>\n",
    "Consider the following circuit:"
   ]
  },
  {
   "cell_type": "markdown",
   "metadata": {},
   "source": [
    "<div style=\"text-align:center\">\n",
    "    <img src=\"images/circuit.png\" width=\"512\">"
   ]
  },
  {
   "source": [
    "We can apply Kirchhoff's laws and the resulting system is the following:\n",
    "- $V_1 = R_1I_1 + R_4I_1 - R_4I_2 - R_1I_3 $\n",
    "- $V_2 = R_4I_1 - R_4I_2 - R_2I_2$\n",
    "- $0 = - R_1I_1 + R_1I_3 + R_3I_3$\n",
    "\n",
    "The values for the voltages are $V_1=10, V_2 = 5$.\n",
    "\n",
    "The values for the resitances are $R_1=2, R_2=6, R_3=7, R_4=10$.\n",
    "\n",
    "*In the code cell below, create two lists. One list named  ``volt`` which contains the values for the voltages and a list named ``res`` containing the values for the resistances.*"
   ],
   "cell_type": "markdown",
   "metadata": {}
  },
  {
   "cell_type": "code",
   "execution_count": 5,
   "metadata": {},
   "outputs": [],
   "source": [
    "volt = (10, 5, 0)\n",
    "res = (2,6,7,10)\n",
    "\n",
    "\n",
    "# add code here"
   ]
  },
  {
   "source": [
    "We can also formulate the above equations in matricial form, i.e.\n",
    "$$ \\mathbf{v} = \\mathbf{R}\\mathbf{i}, $$\n",
    "where $\\mathbf{v} \\in \\mathbb{R}^{3 \\times 1}$ is a column vector  of voltages, $\\mathbf{R}$ is a matrix in $\\mathbb{R}^{3 \\times 3}$, and $\\mathbf{i} \\in \\mathbb{R}^{3 \\times 1}$ is a column vector representing the unknown currents.\n",
    "\n",
    "*Use the code cell below to import numpy and define the vector $\\mathbf{v}$ and the matrix $\\mathbf{R}$ as numpy arrays using the lists for the voltages and resistances (keep in mind that indexing in Python starts with 0). You can use the variable explorer or the print function to check shape and values for both arrays.*"
   ],
   "cell_type": "markdown",
   "metadata": {}
  },
  {
   "cell_type": "code",
   "execution_count": 8,
   "metadata": {},
   "outputs": [
    {
     "output_type": "stream",
     "name": "stdout",
     "text": [
      "[[10  5  0]]\n[[ 12 -10  -2]\n [ 10 -16   0]\n [ -2   0   9]]\n(3, 3)\n"
     ]
    }
   ],
   "source": [
    "import numpy as np\n",
    "\n",
    "v = np.array([volt])\n",
    "r = np.array([[res[0]+res[3],-res[3],-res[0]],\n",
    "              [res[3]       ,-res[3] -res[1],0],\n",
    "              [-res[0]      ,0,res[0]+res[2]]]\n",
    "                                            )\n",
    "print(v)\n",
    "print(r)\n",
    " \n",
    "print(r.shape)\n",
    "\n",
    "\n",
    "# add code here"
   ]
  },
  {
   "cell_type": "markdown",
   "metadata": {},
   "source": [
    "The currents can be easily determined as \n",
    "$$\\mathbf{i} = \\mathbf{R}^{-1}\\mathbf{v}.$$\n",
    "<br>\n",
    "*Use the equation above to compute the vector of currents $\\mathbf{i}$. (HINT: use ``np.linalg.inv()`` to invert a matrix)*\n"
   ]
  },
  {
   "cell_type": "code",
   "execution_count": 9,
   "metadata": {},
   "outputs": [
    {
     "output_type": "stream",
     "name": "stdout",
     "text": [
      "i=[[1.296]\n [0.497]\n [0.288]]\n\n(Should be:\n i=[[1.296]\n [0.497]\n [0.288]])\n"
     ]
    }
   ],
   "source": [
    "# add code here\n",
    "rt = np.linalg.inv(r)\n",
    "\n",
    "i = rt @ v.T\n",
    "\n",
    "print('i=%s' % np.array2string(i, precision=3))\n",
    "print('\\n(Should be:\\n i=[[1.296]\\n [0.497]\\n [0.288]])')"
   ]
  },
  {
   "source": [
    "Now suppose we would like to compute the currents for (many) other combination of resistances and voltages for our network. Hence, it would be nice to have a small function available.\n",
    "\n",
    "*Complete the function ``compute_currents()``. It takes the lists of voltages and resistances as inputs and returns the vector of currents.*"
   ],
   "cell_type": "markdown",
   "metadata": {}
  },
  {
   "cell_type": "code",
   "execution_count": 10,
   "metadata": {},
   "outputs": [
    {
     "output_type": "execute_result",
     "data": {
      "text/plain": [
       "array([[1.29581152],\n",
       "       [0.4973822 ],\n",
       "       [0.28795812]])"
      ]
     },
     "metadata": {},
     "execution_count": 10
    }
   ],
   "source": [
    "# complete this code\n",
    "def compute_currents(volt, res):\n",
    "    v = np.array([volt])\n",
    "    r = np.array([[res[0]+res[3],-res[3],-res[0]],\n",
    "              [res[3]       ,-res[3] -res[1],0],\n",
    "              [-res[0]      ,0,res[0]+res[2]]]\n",
    "                                            )\n",
    "\n",
    "    rt = np.linalg.inv(r)\n",
    "    i = rt @ v.T\n",
    "    return i \n",
    "\n",
    "\n",
    "compute_currents(volt, res)\n",
    "#####################"
   ]
  },
  {
   "source": [
    "*Run the cell below to check your function:*"
   ],
   "cell_type": "markdown",
   "metadata": {}
  },
  {
   "cell_type": "code",
   "execution_count": 9,
   "metadata": {},
   "outputs": [
    {
     "output_type": "stream",
     "name": "stdout",
     "text": [
      "[[1.29581152]\n [0.4973822 ]\n [0.28795812]]\n(Should be i=[[1.296],[0.497],[0.288]])\n"
     ]
    }
   ],
   "source": [
    "i = compute_currents(volt=volt, res=res)\n",
    "print(i)\n",
    "print('(Should be i=[[1.296],[0.497],[0.288]])')"
   ]
  },
  {
   "source": [
    "It is common practice to not define functions in the main script/notebook but instead define them in modules and then import them.\n",
    "\n",
    "*Create a new python file with the name ``MyPowerFlowLibrary.py`` in the folder of this notebook and define the function ``compute_currents()`` there. Then run the cell below to check your implementation:*"
   ],
   "cell_type": "markdown",
   "metadata": {}
  },
  {
   "cell_type": "code",
   "execution_count": 10,
   "metadata": {},
   "outputs": [
    {
     "output_type": "stream",
     "name": "stdout",
     "text": [
      "[[1.29581152]\n [0.4973822 ]\n [0.28795812]]\n(Should be i=[[1.296],[0.497],[0.288]])\n"
     ]
    }
   ],
   "source": [
    "import MyPowerFlowLibrary as mpfl\n",
    "\n",
    "volt = (10, 5, 0)\n",
    "res = (2,6,7,10)    \n",
    "\n",
    "i = mpfl.compute_currents(volt=volt, res=res)\n",
    "\n",
    "\n",
    "print(i)\n",
    "print('(Should be i=[[1.296],[0.497],[0.288]])')"
   ]
  },
  {
   "cell_type": "markdown",
   "metadata": {},
   "source": [
    "Now we will compute how the currents in our network change as the values of $V_1$ changes (while $V_2$ is constant).\n",
    "\n",
    "*Create an array of 10 equally spaced values between $V_{1,min}=5$ and $V_{1,max}=15$ using ``np.linspace``.\n",
    "Then use a ``for`` loop to compute the vector of currents for the different values of $V_1$ using the function ``compute_currents()``. Save the results in the matrix $I$.*"
   ]
  },
  {
   "cell_type": "code",
   "execution_count": null,
   "metadata": {},
   "outputs": [],
   "source": []
  },
  {
   "cell_type": "code",
   "execution_count": null,
   "metadata": {},
   "outputs": [],
   "source": []
  },
  {
   "cell_type": "code",
   "execution_count": 11,
   "metadata": {},
   "outputs": [
    {
     "output_type": "stream",
     "name": "stdout",
     "text": [
      "(3,)\nI=[[ 0.353 -0.092  0.079]\n [ 0.563  0.039  0.125]\n [ 0.772  0.17   0.172]\n [ 0.982  0.301  0.218]\n [ 1.191  0.432  0.265]\n [ 1.401  0.563  0.311]\n [ 1.61   0.694  0.358]\n [ 1.819  0.825  0.404]\n [ 2.029  0.955  0.451]\n [ 2.238  1.086  0.497]]\n\n(Should be:\n [[ 0.353 -0.092  0.079]\n [ 0.563  0.039  0.125]\n ... \n [2.238  1.086  0.497]])\n"
     ]
    }
   ],
   "source": [
    "NUM = 10\n",
    "v1_min = 5\n",
    "v1_max = 15\n",
    "I = np.zeros((NUM,3)) # <-- write currents to this array\n",
    "print(np.shape(I[1]))\n",
    "### add code here\n",
    "voltages = np.linspace(v1_min,v1_max,NUM)\n",
    "for x, volt in enumerate(voltages):\n",
    "    I[x] = np.array(compute_currents((volt,5,0), res)).T\n",
    "\n",
    "\n",
    "##################\n",
    "print('I=%s' % np.array2string(I, precision=3))\n",
    "print('\\n(Should be:\\n [[ 0.353 -0.092  0.079]\\n [ 0.563  0.039  0.125]\\n ... \\n [2.238  1.086  0.497]])')"
   ]
  },
  {
   "cell_type": "markdown",
   "metadata": {},
   "source": [
    "Now, plot the effect of changing $V_1$ on the currents $I_1, I_2, I_3$ using matplotlib:"
   ]
  },
  {
   "cell_type": "code",
   "execution_count": 12,
   "metadata": {},
   "outputs": [
    {
     "output_type": "display_data",
     "data": {
      "text/plain": "<Figure size 432x288 with 1 Axes>",
      "image/svg+xml": "<?xml version=\"1.0\" encoding=\"utf-8\" standalone=\"no\"?>\r\n<!DOCTYPE svg PUBLIC \"-//W3C//DTD SVG 1.1//EN\"\r\n  \"http://www.w3.org/Graphics/SVG/1.1/DTD/svg11.dtd\">\r\n<!-- Created with matplotlib (https://matplotlib.org/) -->\r\n<svg height=\"277.31625pt\" version=\"1.1\" viewBox=\"0 0 385.78125 277.31625\" width=\"385.78125pt\" xmlns=\"http://www.w3.org/2000/svg\" xmlns:xlink=\"http://www.w3.org/1999/xlink\">\r\n <metadata>\r\n  <rdf:RDF xmlns:cc=\"http://creativecommons.org/ns#\" xmlns:dc=\"http://purl.org/dc/elements/1.1/\" xmlns:rdf=\"http://www.w3.org/1999/02/22-rdf-syntax-ns#\">\r\n   <cc:Work>\r\n    <dc:type rdf:resource=\"http://purl.org/dc/dcmitype/StillImage\"/>\r\n    <dc:date>2020-11-06T09:33:22.464904</dc:date>\r\n    <dc:format>image/svg+xml</dc:format>\r\n    <dc:creator>\r\n     <cc:Agent>\r\n      <dc:title>Matplotlib v3.3.2, https://matplotlib.org/</dc:title>\r\n     </cc:Agent>\r\n    </dc:creator>\r\n   </cc:Work>\r\n  </rdf:RDF>\r\n </metadata>\r\n <defs>\r\n  <style type=\"text/css\">*{stroke-linecap:butt;stroke-linejoin:round;}</style>\r\n </defs>\r\n <g id=\"figure_1\">\r\n  <g id=\"patch_1\">\r\n   <path d=\"M 0 277.31625 \r\nL 385.78125 277.31625 \r\nL 385.78125 0 \r\nL 0 0 \r\nz\r\n\" style=\"fill:none;\"/>\r\n  </g>\r\n  <g id=\"axes_1\">\r\n   <g id=\"patch_2\">\r\n    <path d=\"M 43.78125 239.76 \r\nL 378.58125 239.76 \r\nL 378.58125 22.32 \r\nL 43.78125 22.32 \r\nz\r\n\" style=\"fill:#ffffff;\"/>\r\n   </g>\r\n   <g id=\"matplotlib.axis_1\">\r\n    <g id=\"xtick_1\">\r\n     <g id=\"line2d_1\">\r\n      <defs>\r\n       <path d=\"M 0 0 \r\nL 0 3.5 \r\n\" id=\"m957dad1766\" style=\"stroke:#000000;stroke-width:0.8;\"/>\r\n      </defs>\r\n      <g>\r\n       <use style=\"stroke:#000000;stroke-width:0.8;\" x=\"89.435795\" xlink:href=\"#m957dad1766\" y=\"239.76\"/>\r\n      </g>\r\n     </g>\r\n     <g id=\"text_1\">\r\n      <!-- 6 -->\r\n      <g transform=\"translate(86.254545 254.358437)scale(0.1 -0.1)\">\r\n       <defs>\r\n        <path d=\"M 33.015625 40.375 \r\nQ 26.375 40.375 22.484375 35.828125 \r\nQ 18.609375 31.296875 18.609375 23.390625 \r\nQ 18.609375 15.53125 22.484375 10.953125 \r\nQ 26.375 6.390625 33.015625 6.390625 \r\nQ 39.65625 6.390625 43.53125 10.953125 \r\nQ 47.40625 15.53125 47.40625 23.390625 \r\nQ 47.40625 31.296875 43.53125 35.828125 \r\nQ 39.65625 40.375 33.015625 40.375 \r\nz\r\nM 52.59375 71.296875 \r\nL 52.59375 62.3125 \r\nQ 48.875 64.0625 45.09375 64.984375 \r\nQ 41.3125 65.921875 37.59375 65.921875 \r\nQ 27.828125 65.921875 22.671875 59.328125 \r\nQ 17.53125 52.734375 16.796875 39.40625 \r\nQ 19.671875 43.65625 24.015625 45.921875 \r\nQ 28.375 48.1875 33.59375 48.1875 \r\nQ 44.578125 48.1875 50.953125 41.515625 \r\nQ 57.328125 34.859375 57.328125 23.390625 \r\nQ 57.328125 12.15625 50.6875 5.359375 \r\nQ 44.046875 -1.421875 33.015625 -1.421875 \r\nQ 20.359375 -1.421875 13.671875 8.265625 \r\nQ 6.984375 17.96875 6.984375 36.375 \r\nQ 6.984375 53.65625 15.1875 63.9375 \r\nQ 23.390625 74.21875 37.203125 74.21875 \r\nQ 40.921875 74.21875 44.703125 73.484375 \r\nQ 48.484375 72.75 52.59375 71.296875 \r\nz\r\n\" id=\"DejaVuSans-54\"/>\r\n       </defs>\r\n       <use xlink:href=\"#DejaVuSans-54\"/>\r\n      </g>\r\n     </g>\r\n    </g>\r\n    <g id=\"xtick_2\">\r\n     <g id=\"line2d_2\">\r\n      <g>\r\n       <use style=\"stroke:#000000;stroke-width:0.8;\" x=\"150.308523\" xlink:href=\"#m957dad1766\" y=\"239.76\"/>\r\n      </g>\r\n     </g>\r\n     <g id=\"text_2\">\r\n      <!-- 8 -->\r\n      <g transform=\"translate(147.127273 254.358437)scale(0.1 -0.1)\">\r\n       <defs>\r\n        <path d=\"M 31.78125 34.625 \r\nQ 24.75 34.625 20.71875 30.859375 \r\nQ 16.703125 27.09375 16.703125 20.515625 \r\nQ 16.703125 13.921875 20.71875 10.15625 \r\nQ 24.75 6.390625 31.78125 6.390625 \r\nQ 38.8125 6.390625 42.859375 10.171875 \r\nQ 46.921875 13.96875 46.921875 20.515625 \r\nQ 46.921875 27.09375 42.890625 30.859375 \r\nQ 38.875 34.625 31.78125 34.625 \r\nz\r\nM 21.921875 38.8125 \r\nQ 15.578125 40.375 12.03125 44.71875 \r\nQ 8.5 49.078125 8.5 55.328125 \r\nQ 8.5 64.0625 14.71875 69.140625 \r\nQ 20.953125 74.21875 31.78125 74.21875 \r\nQ 42.671875 74.21875 48.875 69.140625 \r\nQ 55.078125 64.0625 55.078125 55.328125 \r\nQ 55.078125 49.078125 51.53125 44.71875 \r\nQ 48 40.375 41.703125 38.8125 \r\nQ 48.828125 37.15625 52.796875 32.3125 \r\nQ 56.78125 27.484375 56.78125 20.515625 \r\nQ 56.78125 9.90625 50.3125 4.234375 \r\nQ 43.84375 -1.421875 31.78125 -1.421875 \r\nQ 19.734375 -1.421875 13.25 4.234375 \r\nQ 6.78125 9.90625 6.78125 20.515625 \r\nQ 6.78125 27.484375 10.78125 32.3125 \r\nQ 14.796875 37.15625 21.921875 38.8125 \r\nz\r\nM 18.3125 54.390625 \r\nQ 18.3125 48.734375 21.84375 45.5625 \r\nQ 25.390625 42.390625 31.78125 42.390625 \r\nQ 38.140625 42.390625 41.71875 45.5625 \r\nQ 45.3125 48.734375 45.3125 54.390625 \r\nQ 45.3125 60.0625 41.71875 63.234375 \r\nQ 38.140625 66.40625 31.78125 66.40625 \r\nQ 25.390625 66.40625 21.84375 63.234375 \r\nQ 18.3125 60.0625 18.3125 54.390625 \r\nz\r\n\" id=\"DejaVuSans-56\"/>\r\n       </defs>\r\n       <use xlink:href=\"#DejaVuSans-56\"/>\r\n      </g>\r\n     </g>\r\n    </g>\r\n    <g id=\"xtick_3\">\r\n     <g id=\"line2d_3\">\r\n      <g>\r\n       <use style=\"stroke:#000000;stroke-width:0.8;\" x=\"211.18125\" xlink:href=\"#m957dad1766\" y=\"239.76\"/>\r\n      </g>\r\n     </g>\r\n     <g id=\"text_3\">\r\n      <!-- 10 -->\r\n      <g transform=\"translate(204.81875 254.358437)scale(0.1 -0.1)\">\r\n       <defs>\r\n        <path d=\"M 12.40625 8.296875 \r\nL 28.515625 8.296875 \r\nL 28.515625 63.921875 \r\nL 10.984375 60.40625 \r\nL 10.984375 69.390625 \r\nL 28.421875 72.90625 \r\nL 38.28125 72.90625 \r\nL 38.28125 8.296875 \r\nL 54.390625 8.296875 \r\nL 54.390625 0 \r\nL 12.40625 0 \r\nz\r\n\" id=\"DejaVuSans-49\"/>\r\n        <path d=\"M 31.78125 66.40625 \r\nQ 24.171875 66.40625 20.328125 58.90625 \r\nQ 16.5 51.421875 16.5 36.375 \r\nQ 16.5 21.390625 20.328125 13.890625 \r\nQ 24.171875 6.390625 31.78125 6.390625 \r\nQ 39.453125 6.390625 43.28125 13.890625 \r\nQ 47.125 21.390625 47.125 36.375 \r\nQ 47.125 51.421875 43.28125 58.90625 \r\nQ 39.453125 66.40625 31.78125 66.40625 \r\nz\r\nM 31.78125 74.21875 \r\nQ 44.046875 74.21875 50.515625 64.515625 \r\nQ 56.984375 54.828125 56.984375 36.375 \r\nQ 56.984375 17.96875 50.515625 8.265625 \r\nQ 44.046875 -1.421875 31.78125 -1.421875 \r\nQ 19.53125 -1.421875 13.0625 8.265625 \r\nQ 6.59375 17.96875 6.59375 36.375 \r\nQ 6.59375 54.828125 13.0625 64.515625 \r\nQ 19.53125 74.21875 31.78125 74.21875 \r\nz\r\n\" id=\"DejaVuSans-48\"/>\r\n       </defs>\r\n       <use xlink:href=\"#DejaVuSans-49\"/>\r\n       <use x=\"63.623047\" xlink:href=\"#DejaVuSans-48\"/>\r\n      </g>\r\n     </g>\r\n    </g>\r\n    <g id=\"xtick_4\">\r\n     <g id=\"line2d_4\">\r\n      <g>\r\n       <use style=\"stroke:#000000;stroke-width:0.8;\" x=\"272.053977\" xlink:href=\"#m957dad1766\" y=\"239.76\"/>\r\n      </g>\r\n     </g>\r\n     <g id=\"text_4\">\r\n      <!-- 12 -->\r\n      <g transform=\"translate(265.691477 254.358437)scale(0.1 -0.1)\">\r\n       <defs>\r\n        <path d=\"M 19.1875 8.296875 \r\nL 53.609375 8.296875 \r\nL 53.609375 0 \r\nL 7.328125 0 \r\nL 7.328125 8.296875 \r\nQ 12.9375 14.109375 22.625 23.890625 \r\nQ 32.328125 33.6875 34.8125 36.53125 \r\nQ 39.546875 41.84375 41.421875 45.53125 \r\nQ 43.3125 49.21875 43.3125 52.78125 \r\nQ 43.3125 58.59375 39.234375 62.25 \r\nQ 35.15625 65.921875 28.609375 65.921875 \r\nQ 23.96875 65.921875 18.8125 64.3125 \r\nQ 13.671875 62.703125 7.8125 59.421875 \r\nL 7.8125 69.390625 \r\nQ 13.765625 71.78125 18.9375 73 \r\nQ 24.125 74.21875 28.421875 74.21875 \r\nQ 39.75 74.21875 46.484375 68.546875 \r\nQ 53.21875 62.890625 53.21875 53.421875 \r\nQ 53.21875 48.921875 51.53125 44.890625 \r\nQ 49.859375 40.875 45.40625 35.40625 \r\nQ 44.1875 33.984375 37.640625 27.21875 \r\nQ 31.109375 20.453125 19.1875 8.296875 \r\nz\r\n\" id=\"DejaVuSans-50\"/>\r\n       </defs>\r\n       <use xlink:href=\"#DejaVuSans-49\"/>\r\n       <use x=\"63.623047\" xlink:href=\"#DejaVuSans-50\"/>\r\n      </g>\r\n     </g>\r\n    </g>\r\n    <g id=\"xtick_5\">\r\n     <g id=\"line2d_5\">\r\n      <g>\r\n       <use style=\"stroke:#000000;stroke-width:0.8;\" x=\"332.926705\" xlink:href=\"#m957dad1766\" y=\"239.76\"/>\r\n      </g>\r\n     </g>\r\n     <g id=\"text_5\">\r\n      <!-- 14 -->\r\n      <g transform=\"translate(326.564205 254.358437)scale(0.1 -0.1)\">\r\n       <defs>\r\n        <path d=\"M 37.796875 64.3125 \r\nL 12.890625 25.390625 \r\nL 37.796875 25.390625 \r\nz\r\nM 35.203125 72.90625 \r\nL 47.609375 72.90625 \r\nL 47.609375 25.390625 \r\nL 58.015625 25.390625 \r\nL 58.015625 17.1875 \r\nL 47.609375 17.1875 \r\nL 47.609375 0 \r\nL 37.796875 0 \r\nL 37.796875 17.1875 \r\nL 4.890625 17.1875 \r\nL 4.890625 26.703125 \r\nz\r\n\" id=\"DejaVuSans-52\"/>\r\n       </defs>\r\n       <use xlink:href=\"#DejaVuSans-49\"/>\r\n       <use x=\"63.623047\" xlink:href=\"#DejaVuSans-52\"/>\r\n      </g>\r\n     </g>\r\n    </g>\r\n    <g id=\"text_6\">\r\n     <!-- V₁[V] -->\r\n     <g transform=\"translate(198.434375 268.036562)scale(0.1 -0.1)\">\r\n      <defs>\r\n       <path d=\"M 28.609375 0 \r\nL 0.78125 72.90625 \r\nL 11.078125 72.90625 \r\nL 34.1875 11.53125 \r\nL 57.328125 72.90625 \r\nL 67.578125 72.90625 \r\nL 39.796875 0 \r\nz\r\n\" id=\"DejaVuSans-86\"/>\r\n       <path d=\"M 7.625 4.984375 \r\nL 17.578125 4.984375 \r\nL 17.578125 34.828125 \r\nL 6.6875 32.828125 \r\nL 6.6875 38.484375 \r\nL 17.921875 40.390625 \r\nL 24.609375 40.390625 \r\nL 24.609375 4.984375 \r\nL 34.625 4.984375 \r\nL 34.625 -0.375 \r\nL 7.625 -0.375 \r\nz\r\n\" id=\"DejaVuSans-8321\"/>\r\n       <path d=\"M 8.59375 75.984375 \r\nL 29.296875 75.984375 \r\nL 29.296875 69 \r\nL 17.578125 69 \r\nL 17.578125 -6.203125 \r\nL 29.296875 -6.203125 \r\nL 29.296875 -13.1875 \r\nL 8.59375 -13.1875 \r\nz\r\n\" id=\"DejaVuSans-91\"/>\r\n       <path d=\"M 30.421875 75.984375 \r\nL 30.421875 -13.1875 \r\nL 9.71875 -13.1875 \r\nL 9.71875 -6.203125 \r\nL 21.390625 -6.203125 \r\nL 21.390625 69 \r\nL 9.71875 69 \r\nL 9.71875 75.984375 \r\nz\r\n\" id=\"DejaVuSans-93\"/>\r\n      </defs>\r\n      <use xlink:href=\"#DejaVuSans-86\"/>\r\n      <use x=\"68.408203\" xlink:href=\"#DejaVuSans-8321\"/>\r\n      <use x=\"108.496094\" xlink:href=\"#DejaVuSans-91\"/>\r\n      <use x=\"147.509766\" xlink:href=\"#DejaVuSans-86\"/>\r\n      <use x=\"215.917969\" xlink:href=\"#DejaVuSans-93\"/>\r\n     </g>\r\n    </g>\r\n   </g>\r\n   <g id=\"matplotlib.axis_2\">\r\n    <g id=\"ytick_1\">\r\n     <g id=\"line2d_6\">\r\n      <defs>\r\n       <path d=\"M 0 0 \r\nL -3.5 0 \r\n\" id=\"md29627b58e\" style=\"stroke:#000000;stroke-width:0.8;\"/>\r\n      </defs>\r\n      <g>\r\n       <use style=\"stroke:#000000;stroke-width:0.8;\" x=\"43.78125\" xlink:href=\"#md29627b58e\" y=\"222.102717\"/>\r\n      </g>\r\n     </g>\r\n     <g id=\"text_7\">\r\n      <!-- 0.0 -->\r\n      <g transform=\"translate(20.878125 225.901936)scale(0.1 -0.1)\">\r\n       <defs>\r\n        <path d=\"M 10.6875 12.40625 \r\nL 21 12.40625 \r\nL 21 0 \r\nL 10.6875 0 \r\nz\r\n\" id=\"DejaVuSans-46\"/>\r\n       </defs>\r\n       <use xlink:href=\"#DejaVuSans-48\"/>\r\n       <use x=\"63.623047\" xlink:href=\"#DejaVuSans-46\"/>\r\n       <use x=\"95.410156\" xlink:href=\"#DejaVuSans-48\"/>\r\n      </g>\r\n     </g>\r\n    </g>\r\n    <g id=\"ytick_2\">\r\n     <g id=\"line2d_7\">\r\n      <g>\r\n       <use style=\"stroke:#000000;stroke-width:0.8;\" x=\"43.78125\" xlink:href=\"#md29627b58e\" y=\"179.680817\"/>\r\n      </g>\r\n     </g>\r\n     <g id=\"text_8\">\r\n      <!-- 0.5 -->\r\n      <g transform=\"translate(20.878125 183.480036)scale(0.1 -0.1)\">\r\n       <defs>\r\n        <path d=\"M 10.796875 72.90625 \r\nL 49.515625 72.90625 \r\nL 49.515625 64.59375 \r\nL 19.828125 64.59375 \r\nL 19.828125 46.734375 \r\nQ 21.96875 47.46875 24.109375 47.828125 \r\nQ 26.265625 48.1875 28.421875 48.1875 \r\nQ 40.625 48.1875 47.75 41.5 \r\nQ 54.890625 34.8125 54.890625 23.390625 \r\nQ 54.890625 11.625 47.5625 5.09375 \r\nQ 40.234375 -1.421875 26.90625 -1.421875 \r\nQ 22.3125 -1.421875 17.546875 -0.640625 \r\nQ 12.796875 0.140625 7.71875 1.703125 \r\nL 7.71875 11.625 \r\nQ 12.109375 9.234375 16.796875 8.0625 \r\nQ 21.484375 6.890625 26.703125 6.890625 \r\nQ 35.15625 6.890625 40.078125 11.328125 \r\nQ 45.015625 15.765625 45.015625 23.390625 \r\nQ 45.015625 31 40.078125 35.4375 \r\nQ 35.15625 39.890625 26.703125 39.890625 \r\nQ 22.75 39.890625 18.8125 39.015625 \r\nQ 14.890625 38.140625 10.796875 36.28125 \r\nz\r\n\" id=\"DejaVuSans-53\"/>\r\n       </defs>\r\n       <use xlink:href=\"#DejaVuSans-48\"/>\r\n       <use x=\"63.623047\" xlink:href=\"#DejaVuSans-46\"/>\r\n       <use x=\"95.410156\" xlink:href=\"#DejaVuSans-53\"/>\r\n      </g>\r\n     </g>\r\n    </g>\r\n    <g id=\"ytick_3\">\r\n     <g id=\"line2d_8\">\r\n      <g>\r\n       <use style=\"stroke:#000000;stroke-width:0.8;\" x=\"43.78125\" xlink:href=\"#md29627b58e\" y=\"137.258917\"/>\r\n      </g>\r\n     </g>\r\n     <g id=\"text_9\">\r\n      <!-- 1.0 -->\r\n      <g transform=\"translate(20.878125 141.058136)scale(0.1 -0.1)\">\r\n       <use xlink:href=\"#DejaVuSans-49\"/>\r\n       <use x=\"63.623047\" xlink:href=\"#DejaVuSans-46\"/>\r\n       <use x=\"95.410156\" xlink:href=\"#DejaVuSans-48\"/>\r\n      </g>\r\n     </g>\r\n    </g>\r\n    <g id=\"ytick_4\">\r\n     <g id=\"line2d_9\">\r\n      <g>\r\n       <use style=\"stroke:#000000;stroke-width:0.8;\" x=\"43.78125\" xlink:href=\"#md29627b58e\" y=\"94.837017\"/>\r\n      </g>\r\n     </g>\r\n     <g id=\"text_10\">\r\n      <!-- 1.5 -->\r\n      <g transform=\"translate(20.878125 98.636236)scale(0.1 -0.1)\">\r\n       <use xlink:href=\"#DejaVuSans-49\"/>\r\n       <use x=\"63.623047\" xlink:href=\"#DejaVuSans-46\"/>\r\n       <use x=\"95.410156\" xlink:href=\"#DejaVuSans-53\"/>\r\n      </g>\r\n     </g>\r\n    </g>\r\n    <g id=\"ytick_5\">\r\n     <g id=\"line2d_10\">\r\n      <g>\r\n       <use style=\"stroke:#000000;stroke-width:0.8;\" x=\"43.78125\" xlink:href=\"#md29627b58e\" y=\"52.415117\"/>\r\n      </g>\r\n     </g>\r\n     <g id=\"text_11\">\r\n      <!-- 2.0 -->\r\n      <g transform=\"translate(20.878125 56.214336)scale(0.1 -0.1)\">\r\n       <use xlink:href=\"#DejaVuSans-50\"/>\r\n       <use x=\"63.623047\" xlink:href=\"#DejaVuSans-46\"/>\r\n       <use x=\"95.410156\" xlink:href=\"#DejaVuSans-48\"/>\r\n      </g>\r\n     </g>\r\n    </g>\r\n    <g id=\"text_12\">\r\n     <!-- Currents[A] -->\r\n     <g transform=\"translate(14.798438 159.743125)rotate(-90)scale(0.1 -0.1)\">\r\n      <defs>\r\n       <path d=\"M 64.40625 67.28125 \r\nL 64.40625 56.890625 \r\nQ 59.421875 61.53125 53.78125 63.8125 \r\nQ 48.140625 66.109375 41.796875 66.109375 \r\nQ 29.296875 66.109375 22.65625 58.46875 \r\nQ 16.015625 50.828125 16.015625 36.375 \r\nQ 16.015625 21.96875 22.65625 14.328125 \r\nQ 29.296875 6.6875 41.796875 6.6875 \r\nQ 48.140625 6.6875 53.78125 8.984375 \r\nQ 59.421875 11.28125 64.40625 15.921875 \r\nL 64.40625 5.609375 \r\nQ 59.234375 2.09375 53.4375 0.328125 \r\nQ 47.65625 -1.421875 41.21875 -1.421875 \r\nQ 24.65625 -1.421875 15.125 8.703125 \r\nQ 5.609375 18.84375 5.609375 36.375 \r\nQ 5.609375 53.953125 15.125 64.078125 \r\nQ 24.65625 74.21875 41.21875 74.21875 \r\nQ 47.75 74.21875 53.53125 72.484375 \r\nQ 59.328125 70.75 64.40625 67.28125 \r\nz\r\n\" id=\"DejaVuSans-67\"/>\r\n       <path d=\"M 8.5 21.578125 \r\nL 8.5 54.6875 \r\nL 17.484375 54.6875 \r\nL 17.484375 21.921875 \r\nQ 17.484375 14.15625 20.5 10.265625 \r\nQ 23.53125 6.390625 29.59375 6.390625 \r\nQ 36.859375 6.390625 41.078125 11.03125 \r\nQ 45.3125 15.671875 45.3125 23.6875 \r\nL 45.3125 54.6875 \r\nL 54.296875 54.6875 \r\nL 54.296875 0 \r\nL 45.3125 0 \r\nL 45.3125 8.40625 \r\nQ 42.046875 3.421875 37.71875 1 \r\nQ 33.40625 -1.421875 27.6875 -1.421875 \r\nQ 18.265625 -1.421875 13.375 4.4375 \r\nQ 8.5 10.296875 8.5 21.578125 \r\nz\r\nM 31.109375 56 \r\nz\r\n\" id=\"DejaVuSans-117\"/>\r\n       <path d=\"M 41.109375 46.296875 \r\nQ 39.59375 47.171875 37.8125 47.578125 \r\nQ 36.03125 48 33.890625 48 \r\nQ 26.265625 48 22.1875 43.046875 \r\nQ 18.109375 38.09375 18.109375 28.8125 \r\nL 18.109375 0 \r\nL 9.078125 0 \r\nL 9.078125 54.6875 \r\nL 18.109375 54.6875 \r\nL 18.109375 46.1875 \r\nQ 20.953125 51.171875 25.484375 53.578125 \r\nQ 30.03125 56 36.53125 56 \r\nQ 37.453125 56 38.578125 55.875 \r\nQ 39.703125 55.765625 41.0625 55.515625 \r\nz\r\n\" id=\"DejaVuSans-114\"/>\r\n       <path d=\"M 56.203125 29.59375 \r\nL 56.203125 25.203125 \r\nL 14.890625 25.203125 \r\nQ 15.484375 15.921875 20.484375 11.0625 \r\nQ 25.484375 6.203125 34.421875 6.203125 \r\nQ 39.59375 6.203125 44.453125 7.46875 \r\nQ 49.3125 8.734375 54.109375 11.28125 \r\nL 54.109375 2.78125 \r\nQ 49.265625 0.734375 44.1875 -0.34375 \r\nQ 39.109375 -1.421875 33.890625 -1.421875 \r\nQ 20.796875 -1.421875 13.15625 6.1875 \r\nQ 5.515625 13.8125 5.515625 26.8125 \r\nQ 5.515625 40.234375 12.765625 48.109375 \r\nQ 20.015625 56 32.328125 56 \r\nQ 43.359375 56 49.78125 48.890625 \r\nQ 56.203125 41.796875 56.203125 29.59375 \r\nz\r\nM 47.21875 32.234375 \r\nQ 47.125 39.59375 43.09375 43.984375 \r\nQ 39.0625 48.390625 32.421875 48.390625 \r\nQ 24.90625 48.390625 20.390625 44.140625 \r\nQ 15.875 39.890625 15.1875 32.171875 \r\nz\r\n\" id=\"DejaVuSans-101\"/>\r\n       <path d=\"M 54.890625 33.015625 \r\nL 54.890625 0 \r\nL 45.90625 0 \r\nL 45.90625 32.71875 \r\nQ 45.90625 40.484375 42.875 44.328125 \r\nQ 39.84375 48.1875 33.796875 48.1875 \r\nQ 26.515625 48.1875 22.3125 43.546875 \r\nQ 18.109375 38.921875 18.109375 30.90625 \r\nL 18.109375 0 \r\nL 9.078125 0 \r\nL 9.078125 54.6875 \r\nL 18.109375 54.6875 \r\nL 18.109375 46.1875 \r\nQ 21.34375 51.125 25.703125 53.5625 \r\nQ 30.078125 56 35.796875 56 \r\nQ 45.21875 56 50.046875 50.171875 \r\nQ 54.890625 44.34375 54.890625 33.015625 \r\nz\r\n\" id=\"DejaVuSans-110\"/>\r\n       <path d=\"M 18.3125 70.21875 \r\nL 18.3125 54.6875 \r\nL 36.8125 54.6875 \r\nL 36.8125 47.703125 \r\nL 18.3125 47.703125 \r\nL 18.3125 18.015625 \r\nQ 18.3125 11.328125 20.140625 9.421875 \r\nQ 21.96875 7.515625 27.59375 7.515625 \r\nL 36.8125 7.515625 \r\nL 36.8125 0 \r\nL 27.59375 0 \r\nQ 17.1875 0 13.234375 3.875 \r\nQ 9.28125 7.765625 9.28125 18.015625 \r\nL 9.28125 47.703125 \r\nL 2.6875 47.703125 \r\nL 2.6875 54.6875 \r\nL 9.28125 54.6875 \r\nL 9.28125 70.21875 \r\nz\r\n\" id=\"DejaVuSans-116\"/>\r\n       <path d=\"M 44.28125 53.078125 \r\nL 44.28125 44.578125 \r\nQ 40.484375 46.53125 36.375 47.5 \r\nQ 32.28125 48.484375 27.875 48.484375 \r\nQ 21.1875 48.484375 17.84375 46.4375 \r\nQ 14.5 44.390625 14.5 40.28125 \r\nQ 14.5 37.15625 16.890625 35.375 \r\nQ 19.28125 33.59375 26.515625 31.984375 \r\nL 29.59375 31.296875 \r\nQ 39.15625 29.25 43.1875 25.515625 \r\nQ 47.21875 21.78125 47.21875 15.09375 \r\nQ 47.21875 7.46875 41.1875 3.015625 \r\nQ 35.15625 -1.421875 24.609375 -1.421875 \r\nQ 20.21875 -1.421875 15.453125 -0.5625 \r\nQ 10.6875 0.296875 5.421875 2 \r\nL 5.421875 11.28125 \r\nQ 10.40625 8.6875 15.234375 7.390625 \r\nQ 20.0625 6.109375 24.8125 6.109375 \r\nQ 31.15625 6.109375 34.5625 8.28125 \r\nQ 37.984375 10.453125 37.984375 14.40625 \r\nQ 37.984375 18.0625 35.515625 20.015625 \r\nQ 33.0625 21.96875 24.703125 23.78125 \r\nL 21.578125 24.515625 \r\nQ 13.234375 26.265625 9.515625 29.90625 \r\nQ 5.8125 33.546875 5.8125 39.890625 \r\nQ 5.8125 47.609375 11.28125 51.796875 \r\nQ 16.75 56 26.8125 56 \r\nQ 31.78125 56 36.171875 55.265625 \r\nQ 40.578125 54.546875 44.28125 53.078125 \r\nz\r\n\" id=\"DejaVuSans-115\"/>\r\n       <path d=\"M 34.1875 63.1875 \r\nL 20.796875 26.90625 \r\nL 47.609375 26.90625 \r\nz\r\nM 28.609375 72.90625 \r\nL 39.796875 72.90625 \r\nL 67.578125 0 \r\nL 57.328125 0 \r\nL 50.6875 18.703125 \r\nL 17.828125 18.703125 \r\nL 11.1875 0 \r\nL 0.78125 0 \r\nz\r\n\" id=\"DejaVuSans-65\"/>\r\n      </defs>\r\n      <use xlink:href=\"#DejaVuSans-67\"/>\r\n      <use x=\"69.824219\" xlink:href=\"#DejaVuSans-117\"/>\r\n      <use x=\"133.203125\" xlink:href=\"#DejaVuSans-114\"/>\r\n      <use x=\"172.566406\" xlink:href=\"#DejaVuSans-114\"/>\r\n      <use x=\"211.429688\" xlink:href=\"#DejaVuSans-101\"/>\r\n      <use x=\"272.953125\" xlink:href=\"#DejaVuSans-110\"/>\r\n      <use x=\"336.332031\" xlink:href=\"#DejaVuSans-116\"/>\r\n      <use x=\"375.541016\" xlink:href=\"#DejaVuSans-115\"/>\r\n      <use x=\"427.640625\" xlink:href=\"#DejaVuSans-91\"/>\r\n      <use x=\"466.654297\" xlink:href=\"#DejaVuSans-65\"/>\r\n      <use x=\"535.0625\" xlink:href=\"#DejaVuSans-93\"/>\r\n     </g>\r\n    </g>\r\n   </g>\r\n   <g id=\"line2d_11\">\r\n    <path clip-path=\"url(#pfd76379ac5)\" d=\"M 58.999432 192.118652 \r\nL 92.817614 174.350317 \r\nL 126.635795 156.581982 \r\nL 160.453977 138.813647 \r\nL 194.272159 121.045312 \r\nL 228.090341 103.276977 \r\nL 261.908523 85.508641 \r\nL 295.726705 67.740306 \r\nL 329.544886 49.971971 \r\nL 363.363068 32.203636 \r\n\" style=\"fill:none;stroke:#0000ff;stroke-linecap:square;stroke-width:1.5;\"/>\r\n   </g>\r\n   <g id=\"line2d_12\">\r\n    <path clip-path=\"url(#pfd76379ac5)\" d=\"M 58.999432 229.876364 \r\nL 92.817614 218.771154 \r\nL 126.635795 207.665945 \r\nL 160.453977 196.560735 \r\nL 194.272159 185.455526 \r\nL 228.090341 174.350317 \r\nL 261.908523 163.245107 \r\nL 295.726705 152.139898 \r\nL 329.544886 141.034688 \r\nL 363.363068 129.929479 \r\n\" style=\"fill:none;stroke:#ffa500;stroke-linecap:square;stroke-width:1.5;\"/>\r\n   </g>\r\n   <g id=\"line2d_13\">\r\n    <path clip-path=\"url(#pfd76379ac5)\" d=\"M 58.999432 215.439591 \r\nL 92.817614 211.491073 \r\nL 126.635795 207.542554 \r\nL 160.453977 203.594035 \r\nL 194.272159 199.645516 \r\nL 228.090341 195.696997 \r\nL 261.908523 191.748478 \r\nL 295.726705 187.799959 \r\nL 329.544886 183.85144 \r\nL 363.363068 179.902921 \r\n\" style=\"fill:none;stroke:#008000;stroke-linecap:square;stroke-width:1.5;\"/>\r\n   </g>\r\n   <g id=\"patch_3\">\r\n    <path d=\"M 43.78125 239.76 \r\nL 43.78125 22.32 \r\n\" style=\"fill:none;stroke:#000000;stroke-linecap:square;stroke-linejoin:miter;stroke-width:0.8;\"/>\r\n   </g>\r\n   <g id=\"patch_4\">\r\n    <path d=\"M 378.58125 239.76 \r\nL 378.58125 22.32 \r\n\" style=\"fill:none;stroke:#000000;stroke-linecap:square;stroke-linejoin:miter;stroke-width:0.8;\"/>\r\n   </g>\r\n   <g id=\"patch_5\">\r\n    <path d=\"M 43.78125 239.76 \r\nL 378.58125 239.76 \r\n\" style=\"fill:none;stroke:#000000;stroke-linecap:square;stroke-linejoin:miter;stroke-width:0.8;\"/>\r\n   </g>\r\n   <g id=\"patch_6\">\r\n    <path d=\"M 43.78125 22.32 \r\nL 378.58125 22.32 \r\n\" style=\"fill:none;stroke:#000000;stroke-linecap:square;stroke-linejoin:miter;stroke-width:0.8;\"/>\r\n   </g>\r\n   <g id=\"text_13\">\r\n    <!-- Effect of Voltage $\\it{V₁}$ on Currents $\\it{I₁}$,$\\it{I₂}$,$\\it{I₃}$ -->\r\n    <g transform=\"translate(97.36125 16.32)scale(0.12 -0.12)\">\r\n     <defs>\r\n      <path d=\"M 9.8125 72.90625 \r\nL 55.90625 72.90625 \r\nL 55.90625 64.59375 \r\nL 19.671875 64.59375 \r\nL 19.671875 43.015625 \r\nL 54.390625 43.015625 \r\nL 54.390625 34.71875 \r\nL 19.671875 34.71875 \r\nL 19.671875 8.296875 \r\nL 56.78125 8.296875 \r\nL 56.78125 0 \r\nL 9.8125 0 \r\nz\r\n\" id=\"DejaVuSans-69\"/>\r\n      <path d=\"M 37.109375 75.984375 \r\nL 37.109375 68.5 \r\nL 28.515625 68.5 \r\nQ 23.6875 68.5 21.796875 66.546875 \r\nQ 19.921875 64.59375 19.921875 59.515625 \r\nL 19.921875 54.6875 \r\nL 34.71875 54.6875 \r\nL 34.71875 47.703125 \r\nL 19.921875 47.703125 \r\nL 19.921875 0 \r\nL 10.890625 0 \r\nL 10.890625 47.703125 \r\nL 2.296875 47.703125 \r\nL 2.296875 54.6875 \r\nL 10.890625 54.6875 \r\nL 10.890625 58.5 \r\nQ 10.890625 67.625 15.140625 71.796875 \r\nQ 19.390625 75.984375 28.609375 75.984375 \r\nz\r\n\" id=\"DejaVuSans-102\"/>\r\n      <path d=\"M 48.78125 52.59375 \r\nL 48.78125 44.1875 \r\nQ 44.96875 46.296875 41.140625 47.34375 \r\nQ 37.3125 48.390625 33.40625 48.390625 \r\nQ 24.65625 48.390625 19.8125 42.84375 \r\nQ 14.984375 37.3125 14.984375 27.296875 \r\nQ 14.984375 17.28125 19.8125 11.734375 \r\nQ 24.65625 6.203125 33.40625 6.203125 \r\nQ 37.3125 6.203125 41.140625 7.25 \r\nQ 44.96875 8.296875 48.78125 10.40625 \r\nL 48.78125 2.09375 \r\nQ 45.015625 0.34375 40.984375 -0.53125 \r\nQ 36.96875 -1.421875 32.421875 -1.421875 \r\nQ 20.0625 -1.421875 12.78125 6.34375 \r\nQ 5.515625 14.109375 5.515625 27.296875 \r\nQ 5.515625 40.671875 12.859375 48.328125 \r\nQ 20.21875 56 33.015625 56 \r\nQ 37.15625 56 41.109375 55.140625 \r\nQ 45.0625 54.296875 48.78125 52.59375 \r\nz\r\n\" id=\"DejaVuSans-99\"/>\r\n      <path id=\"DejaVuSans-32\"/>\r\n      <path d=\"M 30.609375 48.390625 \r\nQ 23.390625 48.390625 19.1875 42.75 \r\nQ 14.984375 37.109375 14.984375 27.296875 \r\nQ 14.984375 17.484375 19.15625 11.84375 \r\nQ 23.34375 6.203125 30.609375 6.203125 \r\nQ 37.796875 6.203125 41.984375 11.859375 \r\nQ 46.1875 17.53125 46.1875 27.296875 \r\nQ 46.1875 37.015625 41.984375 42.703125 \r\nQ 37.796875 48.390625 30.609375 48.390625 \r\nz\r\nM 30.609375 56 \r\nQ 42.328125 56 49.015625 48.375 \r\nQ 55.71875 40.765625 55.71875 27.296875 \r\nQ 55.71875 13.875 49.015625 6.21875 \r\nQ 42.328125 -1.421875 30.609375 -1.421875 \r\nQ 18.84375 -1.421875 12.171875 6.21875 \r\nQ 5.515625 13.875 5.515625 27.296875 \r\nQ 5.515625 40.765625 12.171875 48.375 \r\nQ 18.84375 56 30.609375 56 \r\nz\r\n\" id=\"DejaVuSans-111\"/>\r\n      <path d=\"M 9.421875 75.984375 \r\nL 18.40625 75.984375 \r\nL 18.40625 0 \r\nL 9.421875 0 \r\nz\r\n\" id=\"DejaVuSans-108\"/>\r\n      <path d=\"M 34.28125 27.484375 \r\nQ 23.390625 27.484375 19.1875 25 \r\nQ 14.984375 22.515625 14.984375 16.5 \r\nQ 14.984375 11.71875 18.140625 8.90625 \r\nQ 21.296875 6.109375 26.703125 6.109375 \r\nQ 34.1875 6.109375 38.703125 11.40625 \r\nQ 43.21875 16.703125 43.21875 25.484375 \r\nL 43.21875 27.484375 \r\nz\r\nM 52.203125 31.203125 \r\nL 52.203125 0 \r\nL 43.21875 0 \r\nL 43.21875 8.296875 \r\nQ 40.140625 3.328125 35.546875 0.953125 \r\nQ 30.953125 -1.421875 24.3125 -1.421875 \r\nQ 15.921875 -1.421875 10.953125 3.296875 \r\nQ 6 8.015625 6 15.921875 \r\nQ 6 25.140625 12.171875 29.828125 \r\nQ 18.359375 34.515625 30.609375 34.515625 \r\nL 43.21875 34.515625 \r\nL 43.21875 35.40625 \r\nQ 43.21875 41.609375 39.140625 45 \r\nQ 35.0625 48.390625 27.6875 48.390625 \r\nQ 23 48.390625 18.546875 47.265625 \r\nQ 14.109375 46.140625 10.015625 43.890625 \r\nL 10.015625 52.203125 \r\nQ 14.9375 54.109375 19.578125 55.046875 \r\nQ 24.21875 56 28.609375 56 \r\nQ 40.484375 56 46.34375 49.84375 \r\nQ 52.203125 43.703125 52.203125 31.203125 \r\nz\r\n\" id=\"DejaVuSans-97\"/>\r\n      <path d=\"M 45.40625 27.984375 \r\nQ 45.40625 37.75 41.375 43.109375 \r\nQ 37.359375 48.484375 30.078125 48.484375 \r\nQ 22.859375 48.484375 18.828125 43.109375 \r\nQ 14.796875 37.75 14.796875 27.984375 \r\nQ 14.796875 18.265625 18.828125 12.890625 \r\nQ 22.859375 7.515625 30.078125 7.515625 \r\nQ 37.359375 7.515625 41.375 12.890625 \r\nQ 45.40625 18.265625 45.40625 27.984375 \r\nz\r\nM 54.390625 6.78125 \r\nQ 54.390625 -7.171875 48.1875 -13.984375 \r\nQ 42 -20.796875 29.203125 -20.796875 \r\nQ 24.46875 -20.796875 20.265625 -20.09375 \r\nQ 16.0625 -19.390625 12.109375 -17.921875 \r\nL 12.109375 -9.1875 \r\nQ 16.0625 -11.328125 19.921875 -12.34375 \r\nQ 23.78125 -13.375 27.78125 -13.375 \r\nQ 36.625 -13.375 41.015625 -8.765625 \r\nQ 45.40625 -4.15625 45.40625 5.171875 \r\nL 45.40625 9.625 \r\nQ 42.625 4.78125 38.28125 2.390625 \r\nQ 33.9375 0 27.875 0 \r\nQ 17.828125 0 11.671875 7.65625 \r\nQ 5.515625 15.328125 5.515625 27.984375 \r\nQ 5.515625 40.671875 11.671875 48.328125 \r\nQ 17.828125 56 27.875 56 \r\nQ 33.9375 56 38.28125 53.609375 \r\nQ 42.625 51.21875 45.40625 46.390625 \r\nL 45.40625 54.6875 \r\nL 54.390625 54.6875 \r\nz\r\n\" id=\"DejaVuSans-103\"/>\r\n      <path d=\"M 20.609375 0 \r\nL 7.8125 72.90625 \r\nL 17.484375 72.90625 \r\nL 28.078125 10.203125 \r\nL 63.484375 72.90625 \r\nL 74.21875 72.90625 \r\nL 32.078125 0 \r\nz\r\n\" id=\"DejaVuSans-Oblique-86\"/>\r\n      <path d=\"M 16.890625 72.90625 \r\nL 26.8125 72.90625 \r\nL 12.59375 0 \r\nL 2.6875 0 \r\nz\r\n\" id=\"DejaVuSans-Oblique-73\"/>\r\n      <path d=\"M 11.71875 12.40625 \r\nL 22.015625 12.40625 \r\nL 22.015625 4 \r\nL 14.015625 -11.625 \r\nL 7.71875 -11.625 \r\nL 11.71875 4 \r\nz\r\n\" id=\"DejaVuSans-44\"/>\r\n      <path d=\"M 13.09375 5.1875 \r\nL 33.796875 5.1875 \r\nL 33.796875 -0.375 \r\nL 4.59375 -0.375 \r\nL 4.59375 4.984375 \r\nQ 6.25 6.5 9.328125 9.234375 \r\nQ 26.125 24.125 26.125 28.71875 \r\nQ 26.125 31.9375 23.578125 33.90625 \r\nQ 21.046875 35.890625 16.890625 35.890625 \r\nQ 14.359375 35.890625 11.375 35.03125 \r\nQ 8.40625 34.1875 4.890625 32.484375 \r\nL 4.890625 38.484375 \r\nQ 8.640625 39.859375 11.890625 40.53125 \r\nQ 15.140625 41.21875 17.921875 41.21875 \r\nQ 25 41.21875 29.25 38 \r\nQ 33.5 34.78125 33.5 29.5 \r\nQ 33.5 22.71875 17.328125 8.84375 \r\nQ 14.59375 6.5 13.09375 5.1875 \r\nz\r\n\" id=\"DejaVuSans-8322\"/>\r\n      <path d=\"M 25.59375 21.6875 \r\nQ 30.078125 20.8125 32.546875 18.140625 \r\nQ 35.015625 15.484375 35.015625 11.484375 \r\nQ 35.015625 5.421875 30.375 2.15625 \r\nQ 25.734375 -1.109375 17.09375 -1.109375 \r\nQ 14.3125 -1.109375 11.25 -0.59375 \r\nQ 8.203125 -0.09375 4.78125 0.890625 \r\nL 4.78125 6.796875 \r\nQ 7.328125 5.484375 10.234375 4.84375 \r\nQ 13.140625 4.203125 16.40625 4.203125 \r\nQ 21.734375 4.203125 24.65625 6.125 \r\nQ 27.59375 8.0625 27.59375 11.484375 \r\nQ 27.59375 15.09375 24.875 16.953125 \r\nQ 22.171875 18.8125 16.890625 18.8125 \r\nL 12.703125 18.8125 \r\nL 12.703125 24.078125 \r\nL 17.28125 24.078125 \r\nQ 21.875 24.078125 24.234375 25.609375 \r\nQ 26.609375 27.15625 26.609375 30.09375 \r\nQ 26.609375 32.921875 24.171875 34.40625 \r\nQ 21.734375 35.890625 17.09375 35.890625 \r\nQ 15.140625 35.890625 12.640625 35.453125 \r\nQ 10.15625 35.015625 6.203125 33.890625 \r\nL 6.203125 39.515625 \r\nQ 9.765625 40.34375 12.890625 40.78125 \r\nQ 16.015625 41.21875 18.703125 41.21875 \r\nQ 25.734375 41.21875 29.859375 38.328125 \r\nQ 33.984375 35.453125 33.984375 30.625 \r\nQ 33.984375 27.25 31.78125 24.90625 \r\nQ 29.59375 22.5625 25.59375 21.6875 \r\nz\r\n\" id=\"DejaVuSans-8323\"/>\r\n     </defs>\r\n     <use transform=\"translate(0 0.015625)\" xlink:href=\"#DejaVuSans-69\"/>\r\n     <use transform=\"translate(63.183594 0.015625)\" xlink:href=\"#DejaVuSans-102\"/>\r\n     <use transform=\"translate(98.388672 0.015625)\" xlink:href=\"#DejaVuSans-102\"/>\r\n     <use transform=\"translate(133.59375 0.015625)\" xlink:href=\"#DejaVuSans-101\"/>\r\n     <use transform=\"translate(195.117188 0.015625)\" xlink:href=\"#DejaVuSans-99\"/>\r\n     <use transform=\"translate(250.097656 0.015625)\" xlink:href=\"#DejaVuSans-116\"/>\r\n     <use transform=\"translate(289.306641 0.015625)\" xlink:href=\"#DejaVuSans-32\"/>\r\n     <use transform=\"translate(321.09375 0.015625)\" xlink:href=\"#DejaVuSans-111\"/>\r\n     <use transform=\"translate(382.275391 0.015625)\" xlink:href=\"#DejaVuSans-102\"/>\r\n     <use transform=\"translate(417.480469 0.015625)\" xlink:href=\"#DejaVuSans-32\"/>\r\n     <use transform=\"translate(449.267578 0.015625)\" xlink:href=\"#DejaVuSans-86\"/>\r\n     <use transform=\"translate(517.675781 0.015625)\" xlink:href=\"#DejaVuSans-111\"/>\r\n     <use transform=\"translate(578.857422 0.015625)\" xlink:href=\"#DejaVuSans-108\"/>\r\n     <use transform=\"translate(606.640625 0.015625)\" xlink:href=\"#DejaVuSans-116\"/>\r\n     <use transform=\"translate(645.849609 0.015625)\" xlink:href=\"#DejaVuSans-97\"/>\r\n     <use transform=\"translate(707.128906 0.015625)\" xlink:href=\"#DejaVuSans-103\"/>\r\n     <use transform=\"translate(770.605469 0.015625)\" xlink:href=\"#DejaVuSans-101\"/>\r\n     <use transform=\"translate(832.128906 0.015625)\" xlink:href=\"#DejaVuSans-32\"/>\r\n     <use transform=\"translate(863.916016 0.015625)\" xlink:href=\"#DejaVuSans-Oblique-86\"/>\r\n     <use transform=\"translate(932.324219 0.015625)\" xlink:href=\"#DejaVuSans-8321\"/>\r\n     <use transform=\"translate(972.412109 0.015625)\" xlink:href=\"#DejaVuSans-32\"/>\r\n     <use transform=\"translate(1004.199219 0.015625)\" xlink:href=\"#DejaVuSans-111\"/>\r\n     <use transform=\"translate(1065.380859 0.015625)\" xlink:href=\"#DejaVuSans-110\"/>\r\n     <use transform=\"translate(1128.759766 0.015625)\" xlink:href=\"#DejaVuSans-32\"/>\r\n     <use transform=\"translate(1160.546875 0.015625)\" xlink:href=\"#DejaVuSans-67\"/>\r\n     <use transform=\"translate(1230.371094 0.015625)\" xlink:href=\"#DejaVuSans-117\"/>\r\n     <use transform=\"translate(1293.75 0.015625)\" xlink:href=\"#DejaVuSans-114\"/>\r\n     <use transform=\"translate(1334.863281 0.015625)\" xlink:href=\"#DejaVuSans-114\"/>\r\n     <use transform=\"translate(1375.976562 0.015625)\" xlink:href=\"#DejaVuSans-101\"/>\r\n     <use transform=\"translate(1437.5 0.015625)\" xlink:href=\"#DejaVuSans-110\"/>\r\n     <use transform=\"translate(1500.878906 0.015625)\" xlink:href=\"#DejaVuSans-116\"/>\r\n     <use transform=\"translate(1540.087891 0.015625)\" xlink:href=\"#DejaVuSans-115\"/>\r\n     <use transform=\"translate(1592.1875 0.015625)\" xlink:href=\"#DejaVuSans-32\"/>\r\n     <use transform=\"translate(1623.974609 0.015625)\" xlink:href=\"#DejaVuSans-Oblique-73\"/>\r\n     <use transform=\"translate(1653.466797 0.015625)\" xlink:href=\"#DejaVuSans-8321\"/>\r\n     <use transform=\"translate(1693.554688 0.015625)\" xlink:href=\"#DejaVuSans-44\"/>\r\n     <use transform=\"translate(1725.341797 0.015625)\" xlink:href=\"#DejaVuSans-Oblique-73\"/>\r\n     <use transform=\"translate(1754.833984 0.015625)\" xlink:href=\"#DejaVuSans-8322\"/>\r\n     <use transform=\"translate(1794.921875 0.015625)\" xlink:href=\"#DejaVuSans-44\"/>\r\n     <use transform=\"translate(1826.708984 0.015625)\" xlink:href=\"#DejaVuSans-Oblique-73\"/>\r\n     <use transform=\"translate(1856.201172 0.015625)\" xlink:href=\"#DejaVuSans-8323\"/>\r\n    </g>\r\n   </g>\r\n   <g id=\"legend_1\">\r\n    <g id=\"patch_7\">\r\n     <path d=\"M 50.78125 74.354375 \r\nL 89.78125 74.354375 \r\nQ 91.78125 74.354375 91.78125 72.354375 \r\nL 91.78125 29.32 \r\nQ 91.78125 27.32 89.78125 27.32 \r\nL 50.78125 27.32 \r\nQ 48.78125 27.32 48.78125 29.32 \r\nL 48.78125 72.354375 \r\nQ 48.78125 74.354375 50.78125 74.354375 \r\nz\r\n\" style=\"fill:#ffffff;opacity:0.8;stroke:#cccccc;stroke-linejoin:miter;\"/>\r\n    </g>\r\n    <g id=\"line2d_14\">\r\n     <path d=\"M 52.78125 35.418437 \r\nL 72.78125 35.418437 \r\n\" style=\"fill:none;stroke:#0000ff;stroke-linecap:square;stroke-width:1.5;\"/>\r\n    </g>\r\n    <g id=\"line2d_15\"/>\r\n    <g id=\"text_14\">\r\n     <!-- $\\it{I₁}$ -->\r\n     <g transform=\"translate(80.78125 38.918437)scale(0.1 -0.1)\">\r\n      <use transform=\"translate(0 0.09375)\" xlink:href=\"#DejaVuSans-Oblique-73\"/>\r\n      <use transform=\"translate(29.492188 0.09375)\" xlink:href=\"#DejaVuSans-8321\"/>\r\n     </g>\r\n    </g>\r\n    <g id=\"line2d_16\">\r\n     <path d=\"M 52.78125 50.096562 \r\nL 72.78125 50.096562 \r\n\" style=\"fill:none;stroke:#ffa500;stroke-linecap:square;stroke-width:1.5;\"/>\r\n    </g>\r\n    <g id=\"line2d_17\"/>\r\n    <g id=\"text_15\">\r\n     <!-- $\\it{I₂}$ -->\r\n     <g transform=\"translate(80.78125 53.596562)scale(0.1 -0.1)\">\r\n      <use transform=\"translate(0 0.09375)\" xlink:href=\"#DejaVuSans-Oblique-73\"/>\r\n      <use transform=\"translate(29.492188 0.09375)\" xlink:href=\"#DejaVuSans-8322\"/>\r\n     </g>\r\n    </g>\r\n    <g id=\"line2d_18\">\r\n     <path d=\"M 52.78125 64.774687 \r\nL 72.78125 64.774687 \r\n\" style=\"fill:none;stroke:#008000;stroke-linecap:square;stroke-width:1.5;\"/>\r\n    </g>\r\n    <g id=\"line2d_19\"/>\r\n    <g id=\"text_16\">\r\n     <!-- $\\it{I₃}$ -->\r\n     <g transform=\"translate(80.78125 68.274687)scale(0.1 -0.1)\">\r\n      <use transform=\"translate(0 0.09375)\" xlink:href=\"#DejaVuSans-Oblique-73\"/>\r\n      <use transform=\"translate(29.492188 0.09375)\" xlink:href=\"#DejaVuSans-8323\"/>\r\n     </g>\r\n    </g>\r\n   </g>\r\n  </g>\r\n </g>\r\n <defs>\r\n  <clipPath id=\"pfd76379ac5\">\r\n   <rect height=\"217.44\" width=\"334.8\" x=\"43.78125\" y=\"22.32\"/>\r\n  </clipPath>\r\n </defs>\r\n</svg>\r\n",
      "image/png": "[encoded data removed]"
     },
     "metadata": {
      "needs_background": "light"
     }
    }
   ],
   "source": [
    "# add code here\n",
    "import matplotlib.pyplot as plt\n",
    "\n",
    "\n",
    "i1, = plt.plot(voltages, I[:,0])\n",
    "i2, = plt.plot(voltages, I[:,1])\n",
    "i3, = plt.plot(voltages, I[:,2])\n",
    "i1.set_label('$\\it{I\\u2081}$')\n",
    "i2.set_label('$\\it{I\\u2082}$')\n",
    "i3.set_label('$\\it{I\\u2083}$')\n",
    "\n",
    "i1.set_color('blue')\n",
    "i2.set_color('orange')\n",
    "i3.set_color('green')\n",
    "plt.legend()\n",
    "\n",
    "plt.ylabel('Currents[A]')\n",
    "plt.xlabel('V\\u2081[V]')\n",
    "plt.title('Effect of Voltage $\\it{V\\u2081}$ on Currents $\\it{I\\u2081}$,$\\it{I\\u2082}$,$\\it{I\\u2083}$')\n",
    "plt.show()\n"
   ]
  },
  {
   "cell_type": "markdown",
   "metadata": {},
   "source": [
    "Expected output:\n",
    "<br>\n",
    "<div>\n",
    "    <img src=\"images/currents.jpg\"> \n"
   ]
  }
 ],
 "metadata": {
  "kernelspec": {
   "name": "Python 3.8.5 64-bit ('MLE': conda)",
   "display_name": "Python 3.8.5 64-bit ('MLE': conda)",
   "metadata": {
    "interpreter": {
     "hash": "4e15f4fb2c0a347adcbff0627e750cfe1ed5303f2c11b5814285ffe17aafcb11"
    }
   }
  },
  "language_info": {
   "codemirror_mode": {
    "name": "ipython",
    "version": 3
   },
   "file_extension": ".py",
   "mimetype": "text/x-python",
   "name": "python",
   "nbconvert_exporter": "python",
   "pygments_lexer": "ipython3",
   "version": "3.8.5-final"
  }
 },
 "nbformat": 4,
 "nbformat_minor": 2
}