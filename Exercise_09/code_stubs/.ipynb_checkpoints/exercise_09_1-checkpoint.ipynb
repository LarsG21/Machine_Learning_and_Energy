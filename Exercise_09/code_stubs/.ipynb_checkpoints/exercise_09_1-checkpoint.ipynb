{
 "metadata": {
  "language_info": {
   "codemirror_mode": {
    "name": "ipython",
    "version": 3
   },
   "file_extension": ".py",
   "mimetype": "text/x-python",
   "name": "python",
   "nbconvert_exporter": "python",
   "pygments_lexer": "ipython3",
   "version": "3.8.5-final"
  },
  "orig_nbformat": 2,
  "kernelspec": {
   "name": "python3",
   "display_name": "Python 3",
   "language": "python"
  }
 },
 "nbformat": 4,
 "nbformat_minor": 2,
 "cells": [
  {
   "source": [
    "# Machine Learning & Energy WS 20/21\n",
    "## Exercise 9 - Probabilistic Graphical Models: Inference with PGMs"
   ],
   "cell_type": "markdown",
   "metadata": {}
  },
  {
   "source": [
    "**NOTE: Please additionally install pgmpy in our virtual environment:**\n",
    "- Open the anaconda prompt\n",
    "- type ``conda activate MLE`` and press enter\n",
    "- type ``pip install pgmpy`` and press enter"
   ],
   "cell_type": "markdown",
   "metadata": {}
  },
  {
   "cell_type": "code",
   "execution_count": 1,
   "metadata": {},
   "outputs": [],
   "source": [
    "%load_ext autoreload\n",
    "%autoreload 2"
   ]
  },
  {
   "source": [
    "Now we are going to make inference in a PGM that models a section of a distribution grid with prosumers. Instead of using custom functions we are going to use the library ``pgmpy`` for modeling our problem. We encourage you to read its documentation: http://pgmpy.org/"
   ],
   "cell_type": "markdown",
   "metadata": {}
  },
  {
   "source": [
    "## 1. A Distribution Network Example\n",
    "\n",
    "Consider a distribution grid section consisting of two households $HH\\{1,2\\}$ connected to transformer $TRA$. The demand for the households are $D\\{1,2\\}$ and have states LOW(.8 of probability) and HIGH(.2 of probability). $HH1$ has a $PV$ plant that also assumes states LOW(.3 of probability) or HIGH(.7 of probability). Depending on the combination of $D1$ and $PV$ the state of $HH1$ is determistically estimated as CONS ($PV=$ LOW, $D1=$ HIGH), NONE ($PV=D1$), or PROD ($PV=$ HIGH, $D1=$ LOW). \n",
    "\n",
    "$HH2$ owns a small combined heat and power plant $CHP$. Depending on the external temperature $T$, which can be either LOW(.3 of probability) or HIGH(.7 of probability), the production of $CHP$ can either be HIGH or LOW (see table below). Analogous to $HH1$'s state probabilities, the power state of $HH2$ depends on $D2$ and $CHP$.\n",
    "\n",
    "The transformer $TRA$ can be either under NORMAL or CRITICAL operation. CRITICAL operation happens with .8 of probability only if $HH1=HH2=$ HIGH or $HH1=HH2=$ LOW.\n",
    "\n",
    "<br>\n",
    "\n",
    "| &nbsp | &nbsp $T= $ HIGH &nbsp | &nbsp $T= $ LOW &nbsp |\n",
    "| :- | :-: | :-: |\n",
    "| p($CHP=$ HIGH) | &nbsp.1 |&nbsp .8 |\n",
    "| p($CHP=$ LOW)  | &nbsp.9 |&nbsp .2 |\n",
    "\n",
    "<br>\n",
    "<br>\n",
    "\n",
    "<div>\n",
    "    <img src=\"images/GM2.jpg\" width=600>\n",
    "\n",
    "a) Build a Bayesian network that models the problem above using the method ``BayesianModel()`` from ``pgmpy.models``. The input for this method is a list with tuples containing the (directed) edges of the PGM. See the example below."
   ],
   "cell_type": "markdown",
   "metadata": {}
  },
  {
   "cell_type": "code",
   "execution_count": 8,
   "metadata": {},
   "outputs": [],
   "source": [
    "from pgmpy.models import BayesianModel\n",
    "\n",
    "# PGM's directed edges\n",
    "edges = [('D1', 'HH1'),('PV', 'HH1'), ('HH1','TRA'), ('T','CRP'),('CRP','HH2'),('D2','HH2'),('HH2','TRA')]  # TODO: add other edges\n",
    "\n",
    "# define Bayesian network model\n",
    "model = BayesianModel(edges)"
   ]
  },
  {
   "source": [
    "b) Define the probability distribution function of the variables in the model using the method ``TabularCPD`` from ``pgmpy.factors.discrete``. The input for this method are (i) the model's variable you want to input values for, (ii) the number of values (states) the variable can take, (iii) the probability of each state, (iv) the name of each state. We have already coded the marginal distribution for $D1$ and the conditional probability of $CHP$, i.e. $p$($CHP=$ c | $T=$ t). Use them as example."
   ],
   "cell_type": "markdown",
   "metadata": {}
  },
  {
   "cell_type": "code",
   "execution_count": 23,
   "metadata": {},
   "outputs": [
    {
     "output_type": "error",
     "ename": "ValueError",
     "evalue": "values must be of shape (2, 4). Got shape: (3, 4)",
     "traceback": [
      "\u001b[1;31m---------------------------------------------------------------------------\u001b[0m",
      "\u001b[1;31mValueError\u001b[0m                                Traceback (most recent call last)",
      "\u001b[1;32m<ipython-input-23-f280cec69ae7>\u001b[0m in \u001b[0;36m<module>\u001b[1;34m\u001b[0m\n\u001b[0;32m     16\u001b[0m                                'T': ['HIGH', 'LOW']})\n\u001b[0;32m     17\u001b[0m \u001b[1;33m\u001b[0m\u001b[0m\n\u001b[1;32m---> 18\u001b[1;33m cp_hh1 = TabularCPD(variable='HH1', variable_card=2, \n\u001b[0m\u001b[0;32m     19\u001b[0m                    values=[[1,0,0,0],\n\u001b[0;32m     20\u001b[0m                            \u001b[1;33m[\u001b[0m\u001b[1;36m0\u001b[0m\u001b[1;33m,\u001b[0m\u001b[1;36m1\u001b[0m\u001b[1;33m,\u001b[0m\u001b[1;36m1\u001b[0m\u001b[1;33m,\u001b[0m\u001b[1;36m0\u001b[0m\u001b[1;33m]\u001b[0m\u001b[1;33m,\u001b[0m\u001b[1;33m\u001b[0m\u001b[1;33m\u001b[0m\u001b[0m\n",
      "\u001b[1;32m~\\anaconda3\\envs\\MLE\\lib\\site-packages\\pgmpy\\factors\\discrete\\CPD.py\u001b[0m in \u001b[0;36m__init__\u001b[1;34m(self, variable, variable_card, values, evidence, evidence_card, state_names)\u001b[0m\n\u001b[0;32m    129\u001b[0m             \u001b[0mexpected_cpd_shape\u001b[0m \u001b[1;33m=\u001b[0m \u001b[1;33m(\u001b[0m\u001b[0mvariable_card\u001b[0m\u001b[1;33m,\u001b[0m \u001b[0mnp\u001b[0m\u001b[1;33m.\u001b[0m\u001b[0mproduct\u001b[0m\u001b[1;33m(\u001b[0m\u001b[0mevidence_card\u001b[0m\u001b[1;33m)\u001b[0m\u001b[1;33m)\u001b[0m\u001b[1;33m\u001b[0m\u001b[1;33m\u001b[0m\u001b[0m\n\u001b[0;32m    130\u001b[0m         \u001b[1;32mif\u001b[0m \u001b[0mvalues\u001b[0m\u001b[1;33m.\u001b[0m\u001b[0mshape\u001b[0m \u001b[1;33m!=\u001b[0m \u001b[0mexpected_cpd_shape\u001b[0m\u001b[1;33m:\u001b[0m\u001b[1;33m\u001b[0m\u001b[1;33m\u001b[0m\u001b[0m\n\u001b[1;32m--> 131\u001b[1;33m             raise ValueError(\n\u001b[0m\u001b[0;32m    132\u001b[0m                 \u001b[1;34mf\"values must be of shape {expected_cpd_shape}. Got shape: {values.shape}\"\u001b[0m\u001b[1;33m\u001b[0m\u001b[1;33m\u001b[0m\u001b[0m\n\u001b[0;32m    133\u001b[0m             )\n",
      "\u001b[1;31mValueError\u001b[0m: values must be of shape (2, 4). Got shape: (3, 4)"
     ]
    }
   ],
   "source": [
    "from pgmpy.factors.discrete import TabularCPD\n",
    "\n",
    "# define probability for independent variables\n",
    "p_d1 = TabularCPD(variable='D1', variable_card=2, values=[[0.2], [0.8]], state_names={'D1': ['HIGH', 'LOW']})\n",
    "p_d2 = TabularCPD(variable='D2', variable_card=2, values=[[0.2], [0.8]], state_names={'D2': ['HIGH', 'LOW']})\n",
    "p_t = TabularCPD(variable='T', variable_card=2, values=[[0.7], [0.3]], state_names={'T': ['HIGH', 'LOW']})\n",
    "p_pv = TabularCPD(variable='PV', variable_card=2, values=[[0.7], [0.]], state_names={'PV': ['HIGH', 'LOW']})\n",
    "\n",
    "# define conditional probability for remaining variables\n",
    "cp_chp = TabularCPD(variable='CHP', variable_card=2, \n",
    "                   values=[[0.1, 0.8],\n",
    "                           [0.9, 0.2]],\n",
    "                  evidence=['T'],\n",
    "                  evidence_card=[2],\n",
    "                  state_names={'CHP': ['HIGH', 'LOW'],\n",
    "                               'T': ['HIGH', 'LOW']})\n",
    "\n",
    "cp_hh1 = TabularCPD(variable='HH1', variable_card=2, \n",
    "                   values=[[1,0,0,0],\n",
    "                           [0,1,1,0],\n",
    "                           [0,0,0,1]],\n",
    "                  evidence=['D1','PV'],\n",
    "                  evidence_card=[2,2],\n",
    "                  state_names={'HH1': ['CONS', 'NON', 'PROD'],\n",
    "                               'D1': ['HIGH', 'LOW'],\n",
    "                               'PV': ['HIGH', 'LOW']})\n",
    "\n",
    "cp_hh2 = None  # TODO: change code here\n",
    "\n",
    "cp_tra = None  # TODO: change code here\n",
    "\n",
    "# Associating the CPDs with the network\n",
    "model.add_cpds(p_d1, p_d2, p_t, p_pv, cp_chp, cp_hh1, cp_hh2, cp_tra)\n",
    "\n",
    "print(\"Conditional probability p(TRA| HH1=h1, HH2=h2): \")\n",
    "print(\"Value:\")\n",
    "print(model.get_cpds('TRA'))\n",
    "print(\"Expected value:\")\n",
    "print(\"+---------------+-----------+-----------+-----------+-----------+-----------+-----------+-----------+-----------+-----------+\\n\\\n",
    "| HH1           | HH1(PROD) | HH1(PROD) | HH1(PROD) | HH1(NONE) | HH1(NONE) | HH1(NONE) | HH1(CONS) | HH1(CONS) | HH1(CONS) |\\n\\\n",
    "+---------------+-----------+-----------+-----------+-----------+-----------+-----------+-----------+-----------+-----------+\\n\\\n",
    "| HH2           | HH2(PROD) | HH2(NONE) | HH2(CONS) | HH2(PROD) | HH2(NONE) | HH2(CONS) | HH2(PROD) | HH2(NONE) | HH2(CONS) |\\n\\\n",
    "+---------------+-----------+-----------+-----------+-----------+-----------+-----------+-----------+-----------+-----------+\\n\\\n",
    "| TRA(NORMAL)   | 0.2       | 1.0       | 1.0       | 1.0       | 1.0       | 1.0       | 1.0       | 1.0       | 0.2       |\\n\\\n",
    "+---------------+-----------+-----------+-----------+-----------+-----------+-----------+-----------+-----------+-----------+\\n\\\n",
    "| TRA(CRITICAL) | 0.8       | 0.0       | 0.0       | 0.0       | 0.0       | 0.0       | 0.0       | 0.0       | 0.8       |\\n\\\n",
    "+---------------+-----------+-----------+-----------+-----------+-----------+-----------+-----------+-----------+-----------+\")"
   ]
  },
  {
   "source": [
    "c) With ``pgmpy`` inference in PGMs is pretty easy. You just have to select the inference algorithm and call the method ``query()``. Read the documentation to understand its functioning and calculate the marginal probability distribution $p$($TRA$) in the cell below ."
   ],
   "cell_type": "markdown",
   "metadata": {}
  },
  {
   "cell_type": "code",
   "execution_count": null,
   "metadata": {},
   "outputs": [],
   "source": [
    "from pgmpy.inference import VariableElimination\n",
    "\n",
    "# initialize \"inference\" object\n",
    "infer = None  # TODO: change code here\n",
    "\n",
    "# make inference\n",
    "hh1_dist = None  # TODO: change code here\n",
    "\n",
    "print(\"Marginal probability p(TRA): \")\n",
    "print(\"Value:\")\n",
    "print(hh1_dist)\n",
    "print(\"Expected value:\")\n",
    "print(\"| TRA           |   phi(TRA) |\\n\\\n",
    "+===============+============+\\n\\\n",
    "| TRA(NORMAL)   |     0.8823 |\\n\\\n",
    "+---------------+------------+\\n\\\n",
    "| TRA(CRITICAL) |     0.1177 |\\n\\\n",
    "+---------------+------------+\")"
   ]
  },
  {
   "source": [
    "d) You can also calculate the probability distribution of a variable given an evidence using the optional argument ``evidence`` to ``query()``. Now calculate $p$($HH1$|$PV=$ HIGH). "
   ],
   "cell_type": "markdown",
   "metadata": {}
  },
  {
   "cell_type": "code",
   "execution_count": null,
   "metadata": {},
   "outputs": [],
   "source": [
    "# make inference\n",
    "hh1_dist = None  # TODO: change code here\n",
    "\n",
    "print(\"Conditional probability p(HH1|PV=HIGH): \")\n",
    "print(\"Value:\")\n",
    "print(hh1_dist)\n",
    "print(\"Expected value:\")\n",
    "print(\"| HH1       |   phi(HH1) |\\n\\\n",
    "+===========+============+\\n\\\n",
    "| HH1(PROD) |     0.8000 |\\n\\\n",
    "+-----------+------------+\\n\\\n",
    "| HH1(NONE) |     0.2000 |\\n\\\n",
    "+-----------+------------+\\n\\\n",
    "| HH1(CONS) |     0.0000 |\\n\\\n",
    "+-----------+------------+\")"
   ]
  },
  {
   "source": [
    "e) More efficient algorithms are also available for inference in PGMs. E.g., the Sum-Product algorithm is implemented under the class ``BeliefPropagation``. Use the associated constructor method ``BeliefPropagation()`` and call the method ``get_cliques()`` to print the cliques of the moralized Bayesian network. Do it yourself by hand to check if the result is correct."
   ],
   "cell_type": "markdown",
   "metadata": {}
  },
  {
   "cell_type": "code",
   "execution_count": null,
   "metadata": {},
   "outputs": [],
   "source": [
    "from pgmpy.inference import BeliefPropagation\n",
    "\n",
    "# initialize \"inference\" object\n",
    "bp = None  # TODO: change code here\n",
    "\n",
    "# return cliques from moralized model\n",
    "cliques = None  # TODO: change code here\n",
    "\n",
    "print(\"Cliques of moralized model: \")\n",
    "print(\"Value: {}\".format(cliques))\n",
    "print(\"Expected value: [('CHP', 'T'), ('CHP', 'HH2', 'D2'),  ('HH1', 'TRA', 'HH2'), ('HH1', 'D1', 'PV')]\")"
   ]
  },
  {
   "source": [
    "f) At last calculate $p$($PV$|$HH1=$ NONE) using belief propagation."
   ],
   "cell_type": "markdown",
   "metadata": {}
  },
  {
   "cell_type": "code",
   "execution_count": null,
   "metadata": {},
   "outputs": [],
   "source": [
    "# make inference\n",
    "pv_dist = None  # TODO: change code here\n",
    "\n",
    "print(\"Conditional probability p(PV|HH1=NONE): \")\n",
    "print(\"Value:\")\n",
    "print(pv_dist)\n",
    "print(\"Expected value:\")\n",
    "print(\"+----------+-----------+\\n\\\n",
    "| PV       |   phi(PV) |\\n\\\n",
    "+==========+===========+\\n\\\n",
    "| PV(HIGH) |    0.3684 |\\n\\\n",
    "+----------+-----------+\\n\\\n",
    "| PV(LOW)  |    0.6316 |\\n\\\n",
    "+----------+-----------+\")"
   ]
  },
  {
   "source": [
    "That's it! We hope these exercises helped you with a better understanding of the lecture's content. Also, we advise you to always have these notebooks nearby. Who knows when you'll need to perform inference in a probabilistic model whose structure should be learned from a regression model where you have to make feature engineering using cross-validation ;)"
   ],
   "cell_type": "markdown",
   "metadata": {}
  }
 ]
}