{
 "cells": [
  {
   "cell_type": "markdown",
   "metadata": {},
   "source": [
    "# Machine Learning & Energy WS 20/21\n",
    "## Exercise 9 - Probabilistic Graphical Models: Computing probabilities"
   ]
  },
  {
   "cell_type": "code",
   "execution_count": null,
   "metadata": {},
   "outputs": [],
   "source": [
    "%load_ext autoreload\n",
    "%autoreload 2"
   ]
  },
  {
   "cell_type": "markdown",
   "metadata": {},
   "source": [
    "In this last exercise we're going to work on Probabilistic Graphical Models (PGM). More specifically all the examples we use are classified as Bayesian Networks, which are PGM's representing conditional dependencies via a Directed Acyclic Graph (DAG). First we are going to marginalize and condition random variables in a simple example. In the second notebook we are going to use a Python library that will make our lives much easier for inference in PGMs."
   ]
  },
  {
   "cell_type": "markdown",
   "metadata": {},
   "source": [
    "## 1. Conditional probability\n",
    "\n",
    "The graphical model below describes the fuel system of a car.\n",
    "It consists of a battery $B$ that is either CHARGED or FLAT, a fuel tank F that is either FULL or EMPTY, and an electric fuel gauge $G$, which indicates FULL or EMPTY."
   ]
  },
  {
   "cell_type": "markdown",
   "metadata": {},
   "source": [
    "<div>\n",
    "    <img src=\"images/GM1.jpg\" width=450>"
   ]
  },
  {
   "cell_type": "markdown",
   "metadata": {},
   "source": [
    "The distribution $p(G|B,F)$ is given as follows:\n",
    "\n",
    "| $B$ | $F$  |  p($G=$ FULL) &nbsp | p($G=$ EMPTY)|\n",
    "| :- | :- | :- | :- |\n",
    "| FLAT | EMPTY &nbsp| .1 | .9 |\n",
    "| FLAT | FULL | .2 | .8 |\n",
    "| CHARGED &nbsp| EMPTY | .2 | .8 |\n",
    "| CHARGED | FULL | .8 | .2 |\n",
    "\n",
    "\n",
    "a) First, write down the formula for the joint probability $p(B=b,F=f,G=g)$ where $(b,f,g)$ are evaluation points. Then, complete the function ``joint_dist_eval()`` in the next cell. It should return the value of $p(B=b,F=f,G=g)$."
   ]
  },
  {
   "cell_type": "code",
   "execution_count": 1,
   "metadata": {},
   "outputs": [
    {
     "name": "stdout",
     "output_type": "stream",
     "text": [
      "Joint probability p(B=CHARGED, F=FULL, G=EMPTY): \n",
      "Value: 0.16200000000000003\n",
      "Expected value: 0.162\n"
     ]
    }
   ],
   "source": [
    "# define probability distributions\n",
    "p_b = {'FLAT':.1, 'CHARGED':.9}\n",
    "p_f = {'EMPTY':.1, 'FULL':.9}\n",
    "p_g = {('FLAT','EMPTY','FULL'):.1, ('FLAT','EMPTY','EMPTY'):.9, \n",
    "       ('FLAT','FULL','FULL'):.2, ('FLAT','FULL','EMPTY'):.8,\n",
    "       ('CHARGED','EMPTY','FULL'):.2, ('CHARGED','EMPTY','EMPTY'):.8,\n",
    "       ('CHARGED','FULL','FULL'):.8, ('CHARGED','FULL','EMPTY'):.2,}\n",
    "\n",
    "# function definition to evaluate joint distribution\n",
    "def joint_dist_eval(p_b, p_f, p_g, b, f, g):\n",
    "    return p_b[b]*p_f[f]*p_g[b,f,g]  # TODO: change code here\n",
    "\n",
    "print(\"Joint probability p(B=CHARGED, F=FULL, G=EMPTY): \")\n",
    "print(\"Value: {}\".format(joint_dist_eval(p_b, p_f, p_g, 'CHARGED', 'FULL', 'EMPTY')))\n",
    "print(\"Expected value: 0.162\")"
   ]
  },
  {
   "cell_type": "markdown",
   "metadata": {},
   "source": [
    "b) Now, write down the formula of the marginal distribution $p(G=g)$ and complete the function ``marginal_dist_eval()`` in the next cell.\n",
    "\n",
    "PS.: The method ``keys()`` returns an iterator with all keys of a dictionary."
   ]
  },
  {
   "cell_type": "code",
   "execution_count": 6,
   "metadata": {},
   "outputs": [
    {
     "name": "stdout",
     "output_type": "stream",
     "text": [
      "Marginal probability p(G=FULL): \n",
      "Value: 0.31500000000000006\n",
      "Expected value: 0.315\n"
     ]
    }
   ],
   "source": [
    "# function definition to evaluate marginal distribution of G\n",
    "import numpy as np\n",
    "def marginal_dist_eval(p_b, p_f, p_g, g):\n",
    "    sumg = 0\n",
    "    for b in p_b.keys():\n",
    "        for f in p_f.keys():\n",
    "            sumg +=p_b[b]*p_f[f]*p_g[b,f,g]\n",
    "        \n",
    "\n",
    "    return sumg  # TODO: change code here\n",
    "\n",
    "print(\"Marginal probability p(G=FULL): \")\n",
    "print(\"Value: {}\".format(marginal_dist_eval(p_b, p_f, p_g, 'EMPTY')))\n",
    "print(\"Expected value: 0.315\")"
   ]
  },
  {
   "cell_type": "markdown",
   "metadata": {},
   "source": [
    "c) If now we observe the fuel gauge and see that it reads EMPTY, what is the probability that the fuel tank is EMPTY? Write down the formula for the conditional probability $p(F=$ EMPTY$| G=$ EMPTY$)$ and calculate it using the function ``generalized_dist_val()``. This function returns the probability of the distribution defined by the given number of evidences. For example, if ``evidences={'b':FLAT, 'f':EMPTY}`` the function's output is $p(B=$ FLAT$, F=$ EMPTY$)$. If ``evidences={'g':FULL}`` the function's output is $p(G=$ FULL$)$\n",
    "\n",
    "PS.: remember that $P(X|Y) = \\frac{P(X,Y)}{P(Y)}$"
   ]
  },
  {
   "cell_type": "code",
   "execution_count": 17,
   "metadata": {},
   "outputs": [
    {
     "name": "stdout",
     "output_type": "stream",
     "text": [
      "Conditional probability p(F=EMPTY| G=EMPTY): \n",
      "Value: 0.2571428571428572\n",
      "Expected value: 0.2571428571428572\n"
     ]
    }
   ],
   "source": [
    "def generalized_dist_eval(p_b, p_f, p_g, evidences={}):\n",
    "    variables = {'b':p_b.keys(), 'f':p_f.keys(), 'g':p_g.keys()}\n",
    "    for v in variables.keys():\n",
    "        if v in evidences:\n",
    "            variables[v] = [evidences[v]]\n",
    "    return sum([sum([sum([p_b[b]*p_f[f]*p_g[(b,f,g)] for b in variables['b']]) for f in variables['f']]) for g in variables['g']])\n",
    "\n",
    "# value of conditional probability\n",
    "value = generalized_dist_eval(p_b, p_f, p_g,evidences={'f':'EMPTY', 'g':'EMPTY'})/generalized_dist_eval(p_b, p_f, p_g,evidences= {'g':'EMPTY'})  # TODO: change code here\n",
    "\n",
    "print(\"Conditional probability p(F=EMPTY| G=EMPTY): \")\n",
    "print(\"Value: {}\".format(value))\n",
    "print(\"Expected value: 0.2571428571428572\")\n"
   ]
  },
  {
   "cell_type": "markdown",
   "metadata": {},
   "source": [
    "e) If in addition to knowing that the fuel gauge reads EMPTY we also know that the battery is FLAT, calculate the probability that the fuel tank is EMPTY."
   ]
  },
  {
   "cell_type": "code",
   "execution_count": 23,
   "metadata": {},
   "outputs": [
    {
     "name": "stdout",
     "output_type": "stream",
     "text": [
      "Conditional probability p(F=EMPTY| B=FLAT, G=EMPY): \n",
      "Value: 0.11111111111111112\n",
      "Expected value: 0.11111111111111111\n"
     ]
    }
   ],
   "source": [
    "# value of conditional probability\n",
    "value = generalized_dist_eval(p_b, p_f, p_g, evidences={'f':'EMPTY', 'g':'EMPTY', 'b':'FLAT'})/generalized_dist_eval(p_b, p_f, p_g, evidences= {'g':'EMPTY','b':'FLAT'})  # TODO: change code here  \n",
    "\n",
    "print(\"Conditional probability p(F=EMPTY| B=FLAT, G=EMPY): \")\n",
    "print(\"Value: {}\".format(value))\n",
    "print(\"Expected value: 0.11111111111111111\")"
   ]
  },
  {
   "cell_type": "markdown",
   "metadata": {},
   "source": [
    "The example in this notebook is quite simple, but the calculations praticed here are going to help understanding how inference in PGMs works in general."
   ]
  }
 ],
 "metadata": {
  "kernelspec": {
   "display_name": "Python 3",
   "language": "python",
   "name": "python3"
  },
  "language_info": {
   "codemirror_mode": {
    "name": "ipython",
    "version": 3
   },
   "file_extension": ".py",
   "mimetype": "text/x-python",
   "name": "python",
   "nbconvert_exporter": "python",
   "pygments_lexer": "ipython3",
   "version": "3.9.13"
  }
 },
 "nbformat": 4,
 "nbformat_minor": 4
}
